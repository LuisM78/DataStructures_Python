{
 "cells": [
  {
   "cell_type": "code",
   "execution_count": null,
   "metadata": {},
   "outputs": [],
   "source": [
    "def mergeArrays(lst1,lst2):\n",
    "  # Write your code here\n",
    "  \n",
    "  if not lst1 and not lst2:\n",
    "    return False\n",
    "  if not lst1:\n",
    "    return lst2\n",
    "  if not lst2:\n",
    "    return lst1\n",
    "\n",
    "  i, j = 0, 0\n",
    "  while i < len(lst1) and j < len(lst2):\n",
    "    if lst1[i] > lst2[j]:\n",
    "      lst1.insert(i, lst2[j])\n",
    "      i += 1\n",
    "      j += 1\n",
    "    else:\n",
    "      i += 1\n",
    "      \n",
    "  if j < len(lst2):\n",
    "    lst1.extend(lst2[j:])\n",
    "  return lst1\n",
    "\n",
    "\n",
    "s1 = [1,3,5,6,8,10]\n",
    "s2 = [4,8,12]\n",
    "mergeArrays(s1,s2)"
   ]
  }
 ],
 "metadata": {
  "kernelspec": {
   "display_name": "Python 3",
   "language": "python",
   "name": "python3"
  },
  "language_info": {
   "codemirror_mode": {
    "name": "ipython",
    "version": 3
   },
   "file_extension": ".py",
   "mimetype": "text/x-python",
   "name": "python",
   "nbconvert_exporter": "python",
   "pygments_lexer": "ipython3",
   "version": "3.6.8"
  }
 },
 "nbformat": 4,
 "nbformat_minor": 2
}
