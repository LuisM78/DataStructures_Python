{
 "cells": [
  {
   "cell_type": "code",
   "execution_count": 1,
   "metadata": {},
   "outputs": [
    {
     "name": "stdout",
     "output_type": "stream",
     "text": [
      "rat not is Cat\n"
     ]
    }
   ],
   "source": [
    "def reverseWords(input): \n",
    "      \n",
    "    # split words of string separated by space \n",
    "    inputWords = input.split(\" \") \n",
    "  \n",
    "    # reverse list of words \n",
    "    # suppose we have list of elements list = [1,2,3,4],  \n",
    "    # list[0]=1, list[1]=2 and index -1 represents \n",
    "    # the last element list[-1]=4 ( equivalent to list[3]=4 ) \n",
    "    # So, inputWords[-1::-1] here we have three arguments \n",
    "    # first is -1 that means start from last element \n",
    "    # second argument is empty that means move to end of list \n",
    "    # third arguments is difference of steps \n",
    "    inputWords=inputWords[-1::-1] \n",
    "  \n",
    "    # now join words with space \n",
    "    output = ' '.join(inputWords) \n",
    "      \n",
    "    print(output)\n",
    "    \n",
    "reverseWords('Cat is not rat')"
   ]
  },
  {
   "cell_type": "code",
   "execution_count": 2,
   "metadata": {},
   "outputs": [
    {
     "name": "stdout",
     "output_type": "stream",
     "text": [
      "am\n",
      "muskan\n"
     ]
    }
   ],
   "source": [
    "# Even words\n",
    "def printWords(s): \n",
    "      \n",
    "    # split the string  \n",
    "    s = s.split(' ')  \n",
    "      \n",
    "    # iterate in words of string  \n",
    "    for word in s:  \n",
    "          \n",
    "        # if length is even  \n",
    "        if len(word)%2==0: \n",
    "            print(word)  \n",
    "  \n",
    "  \n",
    "# Driver Code  \n",
    "s = \"i am muskan\" \n",
    "printWords(s)  "
   ]
  },
  {
   "cell_type": "code",
   "execution_count": 4,
   "metadata": {},
   "outputs": [
    {
     "name": "stdout",
     "output_type": "stream",
     "text": [
      "[('Geeks', 5), ('to', 4), ('and', 4), ('well', 3)]\n"
     ]
    }
   ],
   "source": [
    "# Python program to find the k most frequent words \n",
    "# from data set \n",
    "from collections import Counter \n",
    "  \n",
    "data_set = \"\"\"Welcome to the world of Geeks This portal has been created to provide well written well\n",
    "thought and well explained solutions for selected questions  \n",
    "If you like Geeks for Geeks and would like to contribute  \n",
    "here is your chance You can write article and mail your article  \n",
    "to contribute at geeksforgeeks org See your article appearing on \n",
    "the Geeks for Geeks main page and help thousands of other Geeks. \n",
    "\"\"\"\n",
    "  \n",
    "# split() returns list of all the words in the string \n",
    "split_it = data_set.split() \n",
    "  \n",
    "# Pass the split_it list to instance of Counter class. \n",
    "Counter = Counter(split_it) \n",
    "  \n",
    "# most_common() produces k frequently encountered \n",
    "# input values and their respective counts. \n",
    "most_occur = Counter.most_common(4) \n",
    "  \n",
    "print(most_occur) "
   ]
  },
  {
   "cell_type": "code",
   "execution_count": 5,
   "metadata": {},
   "outputs": [
    {
     "name": "stdout",
     "output_type": "stream",
     "text": [
      "[('to', 10), ('in', 7), ('is', 6), ('language', 6), ('the', 5), ('programming', 5), ('a', 5), ('c', 5), ('you', 5), ('of', 4)]\n"
     ]
    }
   ],
   "source": [
    "# Python3 program for a word frequency \n",
    "# counter after crawling a web-page \n",
    "import requests \n",
    "from bs4 import BeautifulSoup \n",
    "import operator \n",
    "from collections import Counter \n",
    "\n",
    "'''Function defining the web-crawler/core \n",
    "spider, which will fetch information from \n",
    "a given website, and push the contents to \n",
    "the second function clean_wordlist()'''\n",
    "def start(url): \n",
    "\n",
    "\t# empty list to store the contents of \n",
    "\t# the website fetched from our web-crawler \n",
    "\twordlist = [] \n",
    "\tsource_code = requests.get(url).text \n",
    "\n",
    "\t# BeautifulSoup object which will \n",
    "\t# ping the requested url for data \n",
    "\tsoup = BeautifulSoup(source_code, 'html.parser') \n",
    "\n",
    "\t# Text in given web-page is stored under \n",
    "\t# the <div> tags with class <entry-content> \n",
    "\tfor each_text in soup.findAll('div', {'class':'entry-content'}): \n",
    "\t\tcontent = each_text.text \n",
    "\n",
    "\t\t# use split() to break the sentence into \n",
    "\t\t# words and convert them into lowercase \n",
    "\t\twords = content.lower().split() \n",
    "\t\t\n",
    "\t\tfor each_word in words: \n",
    "\t\t\twordlist.append(each_word) \n",
    "\t\tclean_wordlist(wordlist) \n",
    "\n",
    "# Function removes any unwanted symbols \n",
    "def clean_wordlist(wordlist): \n",
    "\t\n",
    "\tclean_list =[] \n",
    "\tfor word in wordlist: \n",
    "\t\tsymbols = '!@#$%^&*()_-+={[}]|\\;:\"<>?/., '\n",
    "\t\t\n",
    "\t\tfor i in range (0, len(symbols)): \n",
    "\t\t\tword = word.replace(symbols[i], '') \n",
    "\t\t\t\n",
    "\t\tif len(word) > 0: \n",
    "\t\t\tclean_list.append(word) \n",
    "\tcreate_dictionary(clean_list) \n",
    "\n",
    "# Creates a dictionary conatining each word's \n",
    "# count and top_20 ocuuring words \n",
    "def create_dictionary(clean_list): \n",
    "\tword_count = {} \n",
    "\t\n",
    "\tfor word in clean_list: \n",
    "\t\tif word in word_count: \n",
    "\t\t\tword_count[word] += 1\n",
    "\t\telse: \n",
    "\t\t\tword_count[word] = 1\n",
    "\t\t\t\n",
    "\t''' To get count of each word in \n",
    "\t\tthe crawled page --> \n",
    "\t\t\n",
    "\t# operator.itemgetter() takes one \n",
    "\t# parameter either 1(denotes keys) \n",
    "\t# or 0 (denotes corresponding values) \n",
    "\t\n",
    "\tfor key, value in sorted(word_count.items(), \n",
    "\t\t\t\t\tkey = operator.itemgetter(1)): \n",
    "\t\tprint (\"% s : % s \" % (key, value)) \n",
    "\t\t\n",
    "\t<-- '''\n",
    "\n",
    "\t\n",
    "\tc = Counter(word_count) \n",
    "\t\n",
    "\t# returns the most occuring elements \n",
    "\ttop = c.most_common(10) \n",
    "\tprint(top) \n",
    "\n",
    "# Driver code \n",
    "if __name__ == '__main__': \n",
    "\tstart(\"https://www.geeksforgeeks.org/programming-language-choose/\") \n"
   ]
  },
  {
   "cell_type": "code",
   "execution_count": null,
   "metadata": {},
   "outputs": [],
   "source": []
  }
 ],
 "metadata": {
  "kernelspec": {
   "display_name": "Python 3",
   "language": "python",
   "name": "python3"
  },
  "language_info": {
   "codemirror_mode": {
    "name": "ipython",
    "version": 3
   },
   "file_extension": ".py",
   "mimetype": "text/x-python",
   "name": "python",
   "nbconvert_exporter": "python",
   "pygments_lexer": "ipython3",
   "version": "3.6.8"
  }
 },
 "nbformat": 4,
 "nbformat_minor": 2
}
