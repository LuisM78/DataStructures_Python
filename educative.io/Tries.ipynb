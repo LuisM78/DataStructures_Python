{
 "cells": [
  {
   "cell_type": "code",
   "execution_count": 33,
   "metadata": {},
   "outputs": [],
   "source": [
    "class TrieNode:\n",
    "    def __init__(self, char=''):\n",
    "        self.children = [None] * 26\n",
    "        self.isEndWord = False\n",
    "        self.char = char\n",
    "        \n",
    "    def markAsLeaf(self):\n",
    "        self.isEndWord = True\n",
    "        \n",
    "    def UnMarkAsLeaf(self):\n",
    "        self.isEndWord = False"
   ]
  },
  {
   "cell_type": "code",
   "execution_count": 54,
   "metadata": {},
   "outputs": [],
   "source": [
    "class Trie:\n",
    "    def __init__(self):\n",
    "        self.root = TrieNode()\n",
    "        \n",
    "    def getIndex(self, t):\n",
    "        return ord(t) - ord('a')\n",
    "    \n",
    "    def insert(self, key):\n",
    "        if key == None:\n",
    "            return \n",
    "        \n",
    "        key = key.lower()\n",
    "        currentNode = self.root\n",
    "        index = 0\n",
    "        \n",
    "        for level in range(len(key)):\n",
    "            index = self.getIndex(key[level])\n",
    "            \n",
    "            if currentNode.children[index] == None:\n",
    "                currentNode.children[index] = TrieNode(key[level])\n",
    "            currentNode = currentNode.children[index]\n",
    "            \n",
    "        currentNode.markAsLeaf()\n",
    "        print(key + '   inserted')\n",
    "        return\n",
    "    \n",
    "    def search(self, key):\n",
    "        if key is None:\n",
    "            return False\n",
    "        \n",
    "        key = key.lower()\n",
    "        currentNode = self.root\n",
    "        index = 0\n",
    "        \n",
    "        for i in range(len(key)):\n",
    "            index = self.getIndex(key[i])\n",
    "            if currentNode.children[index] == None:\n",
    "                return False\n",
    "            currentNode = currentNode.children[index]\n",
    "        if currentNode.isEndWord and currentNode is not None:\n",
    "            return True\n",
    "        return False\n",
    "\n",
    "    \n",
    "    def delete(self, key):\n",
    "        pass\n",
    "    \n"
   ]
  },
  {
   "cell_type": "code",
   "execution_count": 55,
   "metadata": {},
   "outputs": [
    {
     "name": "stdout",
     "output_type": "stream",
     "text": [
      "manjunath   inserted\n",
      "None\n",
      "man   inserted\n",
      "None\n",
      "manhatten   inserted\n",
      "None\n"
     ]
    }
   ],
   "source": [
    "trie = Trie()\n",
    "key = 'Manjunath'\n",
    "print(trie.insert(key))\n",
    "key2 ='man'\n",
    "print(trie.insert(key2))\n",
    "key3 ='manhatten'\n",
    "print(trie.insert(key3))"
   ]
  },
  {
   "cell_type": "code",
   "execution_count": 56,
   "metadata": {},
   "outputs": [
    {
     "name": "stdout",
     "output_type": "stream",
     "text": [
      "Keys to insert: \n",
      "['the', 'a', 'there', 'answer', 'any', 'by', 'bye', 'their', 'abc']\n",
      "\n",
      "the   inserted\n",
      "a   inserted\n",
      "there   inserted\n",
      "answer   inserted\n",
      "any   inserted\n",
      "by   inserted\n",
      "bye   inserted\n",
      "their   inserted\n",
      "abc   inserted\n"
     ]
    }
   ],
   "source": [
    "keys = [\"the\", \"a\", \"there\", \"answer\", \"any\",\n",
    "                 \"by\", \"bye\", \"their\",\"abc\"]\n",
    "output = [\"Not present in trie\", \"Present in trie\"]\n",
    "\n",
    "t = Trie()\n",
    "print(\"Keys to insert: \")\n",
    "print(keys)\n",
    "print()\n",
    "\n",
    "#Construct Trie\n",
    "for i in range(len(keys)):\n",
    "    t.insert(keys[i])"
   ]
  },
  {
   "cell_type": "code",
   "execution_count": 57,
   "metadata": {},
   "outputs": [
    {
     "name": "stdout",
     "output_type": "stream",
     "text": [
      "Length of current node children:\n",
      "26\n",
      "the --- Present in trie\n",
      "Length of current node children:\n",
      "26\n",
      "these --- Not present in trie\n",
      "Length of current node children:\n",
      "26\n",
      "abc --- Present in trie\n"
     ]
    }
   ],
   "source": [
    "#Search for different keys\n",
    "if t.search(\"the\") == True:\n",
    "    print(\"the --- \" + output[1])\n",
    "else:\n",
    "    print(\"the --- \" + output[0])\n",
    "\n",
    "if t.search(\"these\") == True:\n",
    "    print(\"these --- \" + output[1])\n",
    "else:\n",
    "    print(\"these --- \" + output[0])\n",
    "\n",
    "if t.search(\"abc\") == True:\n",
    "    print(\"abc --- \" + output[1])\n",
    "else:\n",
    "    print(\"abc --- \" + output[0])"
   ]
  },
  {
   "cell_type": "code",
   "execution_count": null,
   "metadata": {},
   "outputs": [],
   "source": []
  }
 ],
 "metadata": {
  "kernelspec": {
   "display_name": "Python 3",
   "language": "python",
   "name": "python3"
  },
  "language_info": {
   "codemirror_mode": {
    "name": "ipython",
    "version": 3
   },
   "file_extension": ".py",
   "mimetype": "text/x-python",
   "name": "python",
   "nbconvert_exporter": "python",
   "pygments_lexer": "ipython3",
   "version": "3.6.8"
  }
 },
 "nbformat": 4,
 "nbformat_minor": 2
}
