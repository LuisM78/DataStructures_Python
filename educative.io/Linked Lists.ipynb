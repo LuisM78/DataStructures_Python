{
 "cells": [
  {
   "cell_type": "code",
   "execution_count": 2,
   "metadata": {},
   "outputs": [],
   "source": [
    "class Node:\n",
    "    def __init__(self, data):\n",
    "        self.data = data\n",
    "        self.next = None"
   ]
  },
  {
   "cell_type": "code",
   "execution_count": 3,
   "metadata": {},
   "outputs": [],
   "source": [
    "class LinkedList:\n",
    "    def __init__(self):\n",
    "        self.head = Node(None)\n",
    "        \n",
    "    def isEmpty(self):\n",
    "        return self.head.next == None\n",
    "    \n",
    "    def getHead(self):\n",
    "        if self.isEmpty():\n",
    "            return False\n",
    "        return self.head\n",
    "    \n",
    "    # Insert at head , O(1)\n",
    "    def insertAtHead(self,data):\n",
    "        node = Node(data)\n",
    "        node.next = self.head.next\n",
    "        self.head.next = node\n",
    "        return self.head\n",
    "    \n",
    "    # Insert at tail , O(n)\n",
    "    def insertAtTail(self,lsst, data):\n",
    "        node = Node(data)\n",
    "        lst = lsst.head\n",
    "        while lst.next != None:\n",
    "            lst = lst.next\n",
    "        lst.next = node\n",
    "        return\n",
    "    \n",
    "    # Search\n",
    "    def search(self, lsst, data):\n",
    "        lst = lsst.head.next\n",
    "        while lst.next != None and lst.data != data:\n",
    "            lst = lst.next\n",
    "        if lst.data == data:\n",
    "            return True\n",
    "        return False\n",
    "    \n",
    "    # Delete at head\n",
    "    def deleteAtHead(self,lst):\n",
    "        if lst.head.next != None:\n",
    "            lst.head.next = lst.head.next.next\n",
    "        return \n",
    "    \n",
    "    # Delete Value\n",
    "    def deleteValue(self, lsst, data):\n",
    "        lst = lsst.head.next\n",
    "        while lst.next != None and lst.data != data:\n",
    "            lst = lst.next\n",
    "        if lst.data == data:\n",
    "            lst.data = lst.next.data\n",
    "            lst.next = lst.next.next\n",
    "        return \n",
    "        \n",
    "\n",
    "    def length(self):\n",
    "        lst = self.head\n",
    "        count = 0\n",
    "        if self.isEmpty():\n",
    "            return count\n",
    "        while lst.next != None:\n",
    "            count += 1\n",
    "            lst = lst.next\n",
    "        return count\n",
    "        \n",
    "        \n",
    "    def printList(self):\n",
    "        if self.isEmpty():\n",
    "            print('List is Empty')\n",
    "            return False\n",
    "        \n",
    "        lst = self.head.next\n",
    "        while lst.next != None:\n",
    "            print(lst.data)\n",
    "            lst = lst.next\n",
    "        print(lst.data)\n",
    "        return True\n",
    "            "
   ]
  },
  {
   "cell_type": "code",
   "execution_count": 4,
   "metadata": {
    "scrolled": true
   },
   "outputs": [
    {
     "name": "stdout",
     "output_type": "stream",
     "text": [
      "5\n"
     ]
    }
   ],
   "source": [
    "list = LinkedList()\n",
    "list.insertAtHead(22)\n",
    "list.insertAtHead(18)\n",
    "list.insertAtHead(60)\n",
    "list.insertAtHead(78)\n",
    "list.insertAtHead(47)\n",
    "list.insertAtHead(39)\n",
    "list.insertAtHead(99)\n",
    "print(list.length())\n"
   ]
  },
  {
   "cell_type": "code",
   "execution_count": 5,
   "metadata": {},
   "outputs": [
    {
     "name": "stdout",
     "output_type": "stream",
     "text": [
      "True\n"
     ]
    }
   ],
   "source": [
    "lst = LinkedList()\n",
    "print(lst.isEmpty())"
   ]
  },
  {
   "cell_type": "code",
   "execution_count": 6,
   "metadata": {},
   "outputs": [
    {
     "name": "stdout",
     "output_type": "stream",
     "text": [
      "9\n",
      "8\n",
      "7\n",
      "6\n",
      "5\n",
      "4\n",
      "3\n",
      "2\n",
      "1\n",
      "True\n"
     ]
    }
   ],
   "source": [
    "for i in range(1,10):\n",
    "    lst.insertAtHead(i)\n",
    "print(lst.printList())"
   ]
  },
  {
   "cell_type": "code",
   "execution_count": 7,
   "metadata": {},
   "outputs": [
    {
     "name": "stdout",
     "output_type": "stream",
     "text": [
      "0\n",
      "1\n",
      "0\n",
      "1\n",
      "2\n",
      "0\n",
      "1\n",
      "2\n",
      "3\n"
     ]
    },
    {
     "data": {
      "text/plain": [
       "True"
      ]
     },
     "execution_count": 7,
     "metadata": {},
     "output_type": "execute_result"
    }
   ],
   "source": [
    "lst = LinkedList()\n",
    "lst.insertAtTail(lst,0)\n",
    "lst.insertAtTail(lst,1)\n",
    "lst.printList()\n",
    "lst.insertAtTail(lst,2)\n",
    "lst.printList()\n",
    "lst.insertAtTail(lst,3)\n",
    "lst.printList()"
   ]
  },
  {
   "cell_type": "code",
   "execution_count": 8,
   "metadata": {},
   "outputs": [
    {
     "name": "stdout",
     "output_type": "stream",
     "text": [
      "10\n",
      "9\n",
      "4\n",
      "6\n"
     ]
    },
    {
     "ename": "KeyboardInterrupt",
     "evalue": "",
     "output_type": "error",
     "traceback": [
      "\u001b[0;31m---------------------------------------------------------------------------\u001b[0m",
      "\u001b[0;31mKeyboardInterrupt\u001b[0m                         Traceback (most recent call last)",
      "\u001b[0;32m<ipython-input-8-1428df0373f3>\u001b[0m in \u001b[0;36m<module>\u001b[0;34m\u001b[0m\n\u001b[1;32m     19\u001b[0m \u001b[0mlist\u001b[0m\u001b[0;34m.\u001b[0m\u001b[0mprintList\u001b[0m\u001b[0;34m(\u001b[0m\u001b[0;34m)\u001b[0m\u001b[0;34m\u001b[0m\u001b[0;34m\u001b[0m\u001b[0m\n\u001b[1;32m     20\u001b[0m \u001b[0;34m\u001b[0m\u001b[0m\n\u001b[0;32m---> 21\u001b[0;31m \u001b[0mreverse_list\u001b[0m\u001b[0;34m(\u001b[0m\u001b[0mlist\u001b[0m\u001b[0;34m)\u001b[0m\u001b[0;34m\u001b[0m\u001b[0;34m\u001b[0m\u001b[0m\n\u001b[0m\u001b[1;32m     22\u001b[0m \u001b[0mlist\u001b[0m\u001b[0;34m.\u001b[0m\u001b[0mprintList\u001b[0m\u001b[0;34m(\u001b[0m\u001b[0;34m)\u001b[0m\u001b[0;34m\u001b[0m\u001b[0;34m\u001b[0m\u001b[0m\n",
      "\u001b[0;32m<ipython-input-8-1428df0373f3>\u001b[0m in \u001b[0;36mreverse_list\u001b[0;34m(list)\u001b[0m\n\u001b[1;32m      5\u001b[0m     \u001b[0;32mwhile\u001b[0m\u001b[0;34m(\u001b[0m\u001b[0mcur\u001b[0m \u001b[0;34m!=\u001b[0m \u001b[0;32mNone\u001b[0m\u001b[0;34m)\u001b[0m\u001b[0;34m:\u001b[0m\u001b[0;34m\u001b[0m\u001b[0;34m\u001b[0m\u001b[0m\n\u001b[1;32m      6\u001b[0m         \u001b[0mnext\u001b[0m \u001b[0;34m=\u001b[0m \u001b[0mcur\u001b[0m\u001b[0;34m.\u001b[0m\u001b[0mnext\u001b[0m\u001b[0;34m\u001b[0m\u001b[0;34m\u001b[0m\u001b[0m\n\u001b[0;32m----> 7\u001b[0;31m         \u001b[0mcur\u001b[0m\u001b[0;34m.\u001b[0m\u001b[0mnext\u001b[0m \u001b[0;34m=\u001b[0m \u001b[0mprevious\u001b[0m\u001b[0;34m\u001b[0m\u001b[0;34m\u001b[0m\u001b[0m\n\u001b[0m\u001b[1;32m      8\u001b[0m         \u001b[0mprevious\u001b[0m \u001b[0;34m=\u001b[0m \u001b[0mcur\u001b[0m\u001b[0;34m\u001b[0m\u001b[0;34m\u001b[0m\u001b[0m\n\u001b[1;32m      9\u001b[0m         \u001b[0mcurrent\u001b[0m \u001b[0;34m=\u001b[0m \u001b[0mnext\u001b[0m\u001b[0;34m\u001b[0m\u001b[0;34m\u001b[0m\u001b[0m\n",
      "\u001b[0;31mKeyboardInterrupt\u001b[0m: "
     ]
    }
   ],
   "source": [
    "def reverse_list(list):\n",
    "    previous = None\n",
    "    next = None\n",
    "    cur = list.head.next\n",
    "    while(cur != None):\n",
    "        next = cur.next\n",
    "        cur.next = previous\n",
    "        previous = cur\n",
    "        current = next\n",
    "        \n",
    "        list.head.next = previous\n",
    "    return list\n",
    "\n",
    "list = LinkedList()\n",
    "list.insertAtHead(6)\n",
    "list.insertAtHead(4)\n",
    "list.insertAtHead(9)\n",
    "list.insertAtHead(10)\n",
    "list.printList()\n",
    "\n",
    "reverse_list(list)\n",
    "list.printList()"
   ]
  },
  {
   "cell_type": "code",
   "execution_count": 28,
   "metadata": {},
   "outputs": [],
   "source": []
  },
  {
   "cell_type": "code",
   "execution_count": 9,
   "metadata": {},
   "outputs": [
    {
     "name": "stdout",
     "output_type": "stream",
     "text": [
      "7\n"
     ]
    }
   ],
   "source": [
    "# find the loop in the linked list and return the starting point in the loop\n",
    "\n",
    "\n",
    "# Detect loop in the Linked List and return the slow moving value\n",
    "def detect_loop(list):\n",
    "    slow = fast = list.head\n",
    "    while slow and fast and fast.next:\n",
    "        slow, fast = slow.next, fast.next.next\n",
    "        if slow == fast:\n",
    "            return slow\n",
    "    return False\n",
    "\n",
    "# Finding the cycle length\n",
    "def cycle_len(end):\n",
    "    \"\"\"Finding the cycle length\"\"\"\n",
    "    start, step = end, 0\n",
    "    while True:\n",
    "        step += 1\n",
    "        start = start.next\n",
    "        if start is end:\n",
    "            return step\n",
    "\n",
    "# Finding the start of the cycle\n",
    "def start_cycle(list):\n",
    "    slow = detect_loop(list)\n",
    "    if slow:\n",
    "        cla = it = list.head\n",
    "        for _ in range(cycle_len(slow)):\n",
    "            cla = cla.next\n",
    "        \n",
    "        while it is not cla:\n",
    "            it, cla = it.next, cla.next\n",
    "        return it\n",
    "    return None\n",
    "\n",
    "list = LinkedList()\n",
    "\n",
    "list.insertAtHead(21)\n",
    "list.insertAtHead(14)\n",
    "list.insertAtHead(7)  \n",
    "  \n",
    "head = list.getHead()\n",
    "node = list.getHead()\n",
    "\n",
    "# Adding a loop\n",
    "for i in range(4):\n",
    "    if(node.next == None):\n",
    "        node.next = head.next\n",
    "        break\n",
    "    node = node.next\n",
    "\n",
    "print(start_cycle(list).data)"
   ]
  },
  {
   "cell_type": "code",
   "execution_count": 10,
   "metadata": {},
   "outputs": [
    {
     "name": "stdout",
     "output_type": "stream",
     "text": [
      "14\n"
     ]
    }
   ],
   "source": [
    "# Finding the middle element in linked list\n",
    "\n",
    "def findMid(list):\n",
    "    if list.isEmpty():\n",
    "        return -1\n",
    "    slow = fast = list.head\n",
    "    while fast is not None and fast.next is not None:\n",
    "        slow, fast = slow.next, fast.next.next\n",
    "    return slow.data\n",
    "\n",
    "list = LinkedList()\n",
    "\n",
    "list.insertAtHead(21)\n",
    "list.insertAtHead(21)\n",
    "list.insertAtHead(14)\n",
    "list.insertAtHead(7)\n",
    "print(findMid(list))"
   ]
  },
  {
   "cell_type": "code",
   "execution_count": 22,
   "metadata": {},
   "outputs": [
    {
     "name": "stdout",
     "output_type": "stream",
     "text": [
      "7\n",
      "14\n",
      "21\n",
      "22\n"
     ]
    },
    {
     "data": {
      "text/plain": [
       "True"
      ]
     },
     "execution_count": 22,
     "metadata": {},
     "output_type": "execute_result"
    }
   ],
   "source": [
    "# Removing duplicates in the linked list\n",
    "def removeDuplicates(list):\n",
    "    cur = list.head.next\n",
    "    prev = list.head\n",
    "    visited = set()\n",
    "    if not list.isEmpty() and cur.next is not None:\n",
    "        while cur is not None:\n",
    "            value = cur.data\n",
    "            if value in visited:\n",
    "                prev.next = cur.next\n",
    "                cur = cur.next\n",
    "                continue\n",
    "            visited.add(cur.data)\n",
    "            prev = cur\n",
    "            cur = cur.next\n",
    "    return list\n",
    "\n",
    "list = LinkedList()\n",
    "list.insertAtHead(7)\n",
    "list.insertAtHead(7)\n",
    "list.insertAtHead(22)\n",
    "list.insertAtHead(14)\n",
    "list.insertAtHead(21)\n",
    "list.insertAtHead(14)\n",
    "list.insertAtHead(7)\n",
    "\n",
    "\n",
    "\n",
    "removeDuplicates(list)\n",
    "list.printList()"
   ]
  },
  {
   "cell_type": "code",
   "execution_count": null,
   "metadata": {},
   "outputs": [],
   "source": []
  },
  {
   "cell_type": "code",
   "execution_count": null,
   "metadata": {},
   "outputs": [],
   "source": []
  },
  {
   "cell_type": "code",
   "execution_count": 69,
   "metadata": {},
   "outputs": [],
   "source": [
    "## Doubly Linked List\n",
    "\n",
    "class Node:\n",
    "    def __init__(self, value):\n",
    "        self.data = value\n",
    "        self.previuos = None\n",
    "        self.next = None"
   ]
  },
  {
   "cell_type": "code",
   "execution_count": null,
   "metadata": {},
   "outputs": [],
   "source": [
    "class Linkedlist:\n",
    "    def __init__(self):\n",
    "        self.head = Node()\n",
    "        self.tail = Node(-1)"
   ]
  }
 ],
 "metadata": {
  "kernelspec": {
   "display_name": "Python 3",
   "language": "python",
   "name": "python3"
  },
  "language_info": {
   "codemirror_mode": {
    "name": "ipython",
    "version": 3
   },
   "file_extension": ".py",
   "mimetype": "text/x-python",
   "name": "python",
   "nbconvert_exporter": "python",
   "pygments_lexer": "ipython3",
   "version": "3.6.8"
  }
 },
 "nbformat": 4,
 "nbformat_minor": 2
}
