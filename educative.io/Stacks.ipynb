{
 "cells": [
  {
   "cell_type": "code",
   "execution_count": 18,
   "metadata": {},
   "outputs": [],
   "source": [
    "class myStack:\n",
    "    def __init__(self):\n",
    "        self.stackList = []\n",
    "        \n",
    "    def size(self):\n",
    "        return len(self.stackList)\n",
    "    \n",
    "    def isEmpty(self):\n",
    "        return self.size() == 0\n",
    "    \n",
    "    def top(self):\n",
    "        if self.isEmpty():\n",
    "            return None\n",
    "        return self.stackList[-1]\n",
    "    \n",
    "    def push(self,e):\n",
    "        self.stackList.append(e)\n",
    "        \n",
    "    def pop(self):\n",
    "        if self.isEmpty():\n",
    "            return None\n",
    "        return self.stackList.pop()\n",
    "    \n",
    "    def print_stack(self):\n",
    "        if self.isEmpty():\n",
    "            return None\n",
    "        for i in range(self.size()):\n",
    "            print(self.stackList[i])\n",
    "        return None\n",
    "    \n",
    "    "
   ]
  },
  {
   "cell_type": "code",
   "execution_count": 19,
   "metadata": {},
   "outputs": [
    {
     "name": "stdout",
     "output_type": "stream",
     "text": [
      "isEmpty(): True\n",
      "top() None\n",
      "size() 0\n"
     ]
    }
   ],
   "source": [
    "stack = myStack()\n",
    "print(\"isEmpty(): \" + str(stack.isEmpty()))\n",
    "print(\"top() \" + str(stack.top()))\n",
    "print(\"size() \" + str(stack.size()))"
   ]
  },
  {
   "cell_type": "code",
   "execution_count": 23,
   "metadata": {},
   "outputs": [
    {
     "data": {
      "text/plain": [
       "20"
      ]
     },
     "execution_count": 23,
     "metadata": {},
     "output_type": "execute_result"
    }
   ],
   "source": [
    "stack.push(10)\n",
    "stack.push(20)\n",
    "\n",
    "stack.pop()"
   ]
  },
  {
   "cell_type": "code",
   "execution_count": 27,
   "metadata": {},
   "outputs": [
    {
     "name": "stdout",
     "output_type": "stream",
     "text": [
      "10\n",
      "20\n",
      "10\n",
      "10\n",
      "10\n"
     ]
    }
   ],
   "source": [
    "stack.print_stack()"
   ]
  },
  {
   "cell_type": "code",
   "execution_count": null,
   "metadata": {},
   "outputs": [],
   "source": []
  },
  {
   "cell_type": "code",
   "execution_count": null,
   "metadata": {},
   "outputs": [],
   "source": []
  }
 ],
 "metadata": {
  "kernelspec": {
   "display_name": "Python 3",
   "language": "python",
   "name": "python3"
  },
  "language_info": {
   "codemirror_mode": {
    "name": "ipython",
    "version": 3
   },
   "file_extension": ".py",
   "mimetype": "text/x-python",
   "name": "python",
   "nbconvert_exporter": "python",
   "pygments_lexer": "ipython3",
   "version": "3.6.8"
  }
 },
 "nbformat": 4,
 "nbformat_minor": 2
}
