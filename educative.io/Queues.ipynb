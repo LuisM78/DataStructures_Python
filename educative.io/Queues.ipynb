{
 "cells": [
  {
   "cell_type": "code",
   "execution_count": 10,
   "metadata": {},
   "outputs": [],
   "source": [
    "class myQueue:\n",
    "    def __init__(self):\n",
    "        self.queueList = []\n",
    "    \n",
    "    def isEmpty(self):\n",
    "        return self.size() == 0\n",
    "  \n",
    "    def front(self):\n",
    "        if self.isEmpty():\n",
    "            return None\n",
    "        return self.queueList[0]\n",
    "    \n",
    "    def back(self):\n",
    "        if self.isEmpty():\n",
    "            return None\n",
    "        return self.queueList[-1]\n",
    "  \n",
    "    def size(self):\n",
    "        return len(self.queueList)\n",
    "    \n",
    "    def enqueue(self, e):\n",
    "        self.queueList.append(e)\n",
    "        \n",
    "    def deque(self):\n",
    "        if self.isEmpty():\n",
    "            return None\n",
    "        remove_el = self.front()\n",
    "        self.queueList.remove(remove_el)\n",
    "        return remove_el\n",
    "    "
   ]
  },
  {
   "cell_type": "code",
   "execution_count": 11,
   "metadata": {},
   "outputs": [
    {
     "name": "stdout",
     "output_type": "stream",
     "text": [
      "isEmpty(): True\n",
      "front(): None\n",
      "back(): None\n",
      "size(): 0\n"
     ]
    }
   ],
   "source": [
    "queue = myQueue()\n",
    "print(\"isEmpty(): \" + str(queue.isEmpty()))\n",
    "print(\"front(): \" + str(queue.front()))\n",
    "print(\"back(): \" + str(queue.back()))\n",
    "print(\"size(): \" + str(queue.size()))"
   ]
  },
  {
   "cell_type": "code",
   "execution_count": 12,
   "metadata": {},
   "outputs": [
    {
     "name": "stdout",
     "output_type": "stream",
     "text": [
      "1\n"
     ]
    }
   ],
   "source": [
    "Q=myQueue()\n",
    "Q.enqueue(1)\n",
    "Q.enqueue(2)\n",
    "print(Q.deque())"
   ]
  },
  {
   "cell_type": "code",
   "execution_count": null,
   "metadata": {},
   "outputs": [],
   "source": [
    "def "
   ]
  }
 ],
 "metadata": {
  "kernelspec": {
   "display_name": "Python 3",
   "language": "python",
   "name": "python3"
  },
  "language_info": {
   "codemirror_mode": {
    "name": "ipython",
    "version": 3
   },
   "file_extension": ".py",
   "mimetype": "text/x-python",
   "name": "python",
   "nbconvert_exporter": "python",
   "pygments_lexer": "ipython3",
   "version": "3.6.8"
  }
 },
 "nbformat": 4,
 "nbformat_minor": 2
}
