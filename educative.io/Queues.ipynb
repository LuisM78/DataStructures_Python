{
 "cells": [
  {
   "cell_type": "code",
   "execution_count": 10,
   "metadata": {},
   "outputs": [],
   "source": [
    "class myQueue:\n",
    "    def __init__(self):\n",
    "        self.queueList = []\n",
    "    \n",
    "    def isEmpty(self):\n",
    "        return self.size() == 0\n",
    "  \n",
    "    def front(self):\n",
    "        if self.isEmpty():\n",
    "            return None\n",
    "        return self.queueList[0]\n",
    "    \n",
    "    def back(self):\n",
    "        if self.isEmpty():\n",
    "            return None\n",
    "        return self.queueList[-1]\n",
    "  \n",
    "    def size(self):\n",
    "        return len(self.queueList)\n",
    "    \n",
    "    def enqueue(self, e):\n",
    "        self.queueList.append(e)\n",
    "        \n",
    "    def deque(self):\n",
    "        if self.isEmpty():\n",
    "            return None\n",
    "        remove_el = self.front()\n",
    "        self.queueList.remove(remove_el)\n",
    "        return remove_el\n",
    "    "
   ]
  },
  {
   "cell_type": "code",
   "execution_count": 11,
   "metadata": {},
   "outputs": [
    {
     "name": "stdout",
     "output_type": "stream",
     "text": [
      "isEmpty(): True\n",
      "front(): None\n",
      "back(): None\n",
      "size(): 0\n"
     ]
    }
   ],
   "source": [
    "queue = myQueue()\n",
    "print(\"isEmpty(): \" + str(queue.isEmpty()))\n",
    "print(\"front(): \" + str(queue.front()))\n",
    "print(\"back(): \" + str(queue.back()))\n",
    "print(\"size(): \" + str(queue.size()))"
   ]
  },
  {
   "cell_type": "code",
   "execution_count": 12,
   "metadata": {},
   "outputs": [
    {
     "name": "stdout",
     "output_type": "stream",
     "text": [
      "1\n"
     ]
    }
   ],
   "source": [
    "Q=myQueue()\n",
    "Q.enqueue(1)\n",
    "Q.enqueue(2)\n",
    "print(Q.deque())"
   ]
  },
  {
   "cell_type": "code",
   "execution_count": 5,
   "metadata": {},
   "outputs": [
    {
     "name": "stdout",
     "output_type": "stream",
     "text": [
      "['1', '10', '11', '100', '101']\n"
     ]
    }
   ],
   "source": [
    "# Generate Binary Numbers from 1 to n using Queue\n",
    "\n",
    "import queue\n",
    "def Binary_Numbers(n):\n",
    "    res = []\n",
    "    Q = queue.Queue()\n",
    "    Q.put(1)\n",
    "    \n",
    "    for i in range(n):\n",
    "        res.append(str(Q.get()))\n",
    "        s1 = res[i] + '0'\n",
    "        s2 = res[i] + '1'\n",
    "        Q.put(s1)\n",
    "        Q.put(s2)\n",
    "    return res\n",
    "\n",
    "print(Binary_Numbers(5))\n",
    "        \n"
   ]
  },
  {
   "cell_type": "code",
   "execution_count": 19,
   "metadata": {},
   "outputs": [],
   "source": [
    "# Stack Implementation\n",
    "class myStack:\n",
    "    def __init__(self):\n",
    "        self.stackList = []\n",
    "        \n",
    "    def size(self):\n",
    "        return len(self.stackList)\n",
    "    \n",
    "    def isEmpty(self):\n",
    "        return self.size() == 0\n",
    "    \n",
    "    def top(self):\n",
    "        if self.isEmpty():\n",
    "            return None\n",
    "        return self.stackList[-1]\n",
    "    \n",
    "    def push(self,e):\n",
    "        self.stackList.append(e)\n",
    "        \n",
    "    def pop(self):\n",
    "        if self.isEmpty():\n",
    "            return None\n",
    "        return self.stackList.pop()\n",
    "    \n",
    "    def print_stack(self):\n",
    "        if self.isEmpty():\n",
    "            return None\n",
    "        for i in range(self.size()):\n",
    "            print(self.stackList[i])\n",
    "        return None\n",
    "    "
   ]
  },
  {
   "cell_type": "code",
   "execution_count": 20,
   "metadata": {},
   "outputs": [],
   "source": [
    "def sortStack(stack):\n",
    "    print(stack)\n",
    "    temp = myStack()\n",
    "    extra = myStack()\n",
    "    temp.push(stack.pop())\n",
    "    while(stack.isEmpty() == False):\n",
    "        if temp.top() >= stack.top():\n",
    "            temp.push(stack.pop())\n",
    "        else:\n",
    "            while temp.isEmpty() == False and temp.top() < stack.top():\n",
    "                extra.push(temp.pop())\n",
    "            temp.push(stack.pop())\n",
    "            while extra.isEmpty() == False:\n",
    "                temp.push(extra.pop())\n",
    "    \n",
    "    return temp"
   ]
  },
  {
   "cell_type": "code",
   "execution_count": 24,
   "metadata": {},
   "outputs": [
    {
     "name": "stdout",
     "output_type": "stream",
     "text": [
      "<__main__.myStack object at 0x1062ece80>\n"
     ]
    },
    {
     "ename": "TypeError",
     "evalue": "size() takes 1 positional argument but 2 were given",
     "output_type": "error",
     "traceback": [
      "\u001b[0;31m---------------------------------------------------------------------------\u001b[0m",
      "\u001b[0;31mTypeError\u001b[0m                                 Traceback (most recent call last)",
      "\u001b[0;32m<ipython-input-24-82d2fd49096e>\u001b[0m in \u001b[0;36m<module>\u001b[0;34m\u001b[0m\n\u001b[1;32m      5\u001b[0m     \u001b[0mstack\u001b[0m\u001b[0;34m.\u001b[0m\u001b[0mpush\u001b[0m\u001b[0;34m(\u001b[0m\u001b[0mval\u001b[0m\u001b[0;34m)\u001b[0m\u001b[0;34m\u001b[0m\u001b[0;34m\u001b[0m\u001b[0m\n\u001b[1;32m      6\u001b[0m \u001b[0msortStack\u001b[0m\u001b[0;34m(\u001b[0m\u001b[0mstack\u001b[0m\u001b[0;34m)\u001b[0m\u001b[0;34m\u001b[0m\u001b[0;34m\u001b[0m\u001b[0m\n\u001b[0;32m----> 7\u001b[0;31m \u001b[0;32mfor\u001b[0m \u001b[0mi\u001b[0m \u001b[0;32min\u001b[0m \u001b[0mrange\u001b[0m\u001b[0;34m(\u001b[0m\u001b[0mstack\u001b[0m\u001b[0;34m.\u001b[0m\u001b[0msize\u001b[0m\u001b[0;34m(\u001b[0m\u001b[0mstack\u001b[0m\u001b[0;34m)\u001b[0m\u001b[0;34m)\u001b[0m\u001b[0;34m:\u001b[0m\u001b[0;34m\u001b[0m\u001b[0;34m\u001b[0m\u001b[0m\n\u001b[0m\u001b[1;32m      8\u001b[0m     \u001b[0mprint\u001b[0m\u001b[0;34m(\u001b[0m\u001b[0mstack\u001b[0m\u001b[0;34m[\u001b[0m\u001b[0mi\u001b[0m\u001b[0;34m]\u001b[0m\u001b[0;34m)\u001b[0m\u001b[0;34m\u001b[0m\u001b[0;34m\u001b[0m\u001b[0m\n",
      "\u001b[0;31mTypeError\u001b[0m: size() takes 1 positional argument but 2 were given"
     ]
    }
   ],
   "source": []
  },
  {
   "cell_type": "code",
   "execution_count": 17,
   "metadata": {},
   "outputs": [],
   "source": [
    "# Implement a Queue Using Stacks\n",
    "\n",
    "#We can use 2 stacks for this purpose,mainStack to store original values\n",
    "#and tempStack which will help in enqueue operation.\n",
    "#Main thing is to put first entered element at the top of mainStack\n",
    "\n",
    "class newQueue:  \n",
    "    def __init__(self,size):\n",
    "        #Can use size from argument to create stack   \n",
    "        self.mainStack = myStack(size)\n",
    "        self.tempStack = myStack(size)\n",
    "    \n",
    "    #Inserts Element in the Queue\n",
    "    def enqueue(self,value):\n",
    "        if(self.mainStack.isFull()):\n",
    "            return False\n",
    "    \n",
    "        while self.mainStack.isEmpty() == False:\n",
    "            self.tempStack.push(self.mainStack.pop())\n",
    "    \n",
    "        self.mainStack.push(value)\n",
    "        print(str(value) + \" enqueued\")\n",
    "    \n",
    "        while self.tempStack.isEmpty() == False:\n",
    "            self.mainStack.push(self.tempStack.pop());\n",
    "        return True\n",
    "  \n",
    "\n",
    "    def dequeue(self):\n",
    "        if self.mainStack.isEmpty()==False:\n",
    "            value = self.mainStack.pop()\n",
    "            print(str(value) + \" dequeued\")\n",
    "            return value\n",
    "        return -1\n",
    "  "
   ]
  },
  {
   "cell_type": "code",
   "execution_count": 18,
   "metadata": {},
   "outputs": [
    {
     "ename": "NameError",
     "evalue": "name 's_size' is not defined",
     "output_type": "error",
     "traceback": [
      "\u001b[0;31m---------------------------------------------------------------------------\u001b[0m",
      "\u001b[0;31mNameError\u001b[0m                                 Traceback (most recent call last)",
      "\u001b[0;32m<ipython-input-18-398e100cbf0a>\u001b[0m in \u001b[0;36m<module>\u001b[0;34m\u001b[0m\n\u001b[1;32m      1\u001b[0m \u001b[0mqueue\u001b[0m \u001b[0;34m=\u001b[0m \u001b[0mnewQueue\u001b[0m\u001b[0;34m(\u001b[0m\u001b[0;36m5\u001b[0m\u001b[0;34m)\u001b[0m\u001b[0;34m\u001b[0m\u001b[0;34m\u001b[0m\u001b[0m\n\u001b[1;32m      2\u001b[0m \u001b[0;32mfor\u001b[0m \u001b[0mi\u001b[0m \u001b[0;32min\u001b[0m \u001b[0mrange\u001b[0m\u001b[0;34m(\u001b[0m\u001b[0;36m5\u001b[0m\u001b[0;34m)\u001b[0m\u001b[0;34m:\u001b[0m\u001b[0;34m\u001b[0m\u001b[0;34m\u001b[0m\u001b[0m\n\u001b[0;32m----> 3\u001b[0;31m     \u001b[0mqueue\u001b[0m\u001b[0;34m.\u001b[0m\u001b[0menqueue\u001b[0m\u001b[0;34m(\u001b[0m\u001b[0mi\u001b[0m\u001b[0;34m+\u001b[0m\u001b[0;36m1\u001b[0m\u001b[0;34m)\u001b[0m\u001b[0;34m\u001b[0m\u001b[0;34m\u001b[0m\u001b[0m\n\u001b[0m\u001b[1;32m      4\u001b[0m \u001b[0;34m\u001b[0m\u001b[0m\n\u001b[1;32m      5\u001b[0m \u001b[0mprint\u001b[0m\u001b[0;34m(\u001b[0m\u001b[0;34m\"----------\"\u001b[0m\u001b[0;34m)\u001b[0m\u001b[0;34m\u001b[0m\u001b[0;34m\u001b[0m\u001b[0m\n",
      "\u001b[0;32m<ipython-input-17-c181189847e9>\u001b[0m in \u001b[0;36menqueue\u001b[0;34m(self, value)\u001b[0m\n\u001b[1;32m     47\u001b[0m     \u001b[0;31m#Inserts Element in the Queue\u001b[0m\u001b[0;34m\u001b[0m\u001b[0;34m\u001b[0m\u001b[0;34m\u001b[0m\u001b[0m\n\u001b[1;32m     48\u001b[0m     \u001b[0;32mdef\u001b[0m \u001b[0menqueue\u001b[0m\u001b[0;34m(\u001b[0m\u001b[0mself\u001b[0m\u001b[0;34m,\u001b[0m\u001b[0mvalue\u001b[0m\u001b[0;34m)\u001b[0m\u001b[0;34m:\u001b[0m\u001b[0;34m\u001b[0m\u001b[0;34m\u001b[0m\u001b[0m\n\u001b[0;32m---> 49\u001b[0;31m         \u001b[0;32mif\u001b[0m\u001b[0;34m(\u001b[0m\u001b[0mself\u001b[0m\u001b[0;34m.\u001b[0m\u001b[0mmainStack\u001b[0m\u001b[0;34m.\u001b[0m\u001b[0misFull\u001b[0m\u001b[0;34m(\u001b[0m\u001b[0;34m)\u001b[0m\u001b[0;34m)\u001b[0m\u001b[0;34m:\u001b[0m\u001b[0;34m\u001b[0m\u001b[0;34m\u001b[0m\u001b[0m\n\u001b[0m\u001b[1;32m     50\u001b[0m             \u001b[0;32mreturn\u001b[0m \u001b[0;32mFalse\u001b[0m\u001b[0;34m\u001b[0m\u001b[0;34m\u001b[0m\u001b[0m\n\u001b[1;32m     51\u001b[0m \u001b[0;34m\u001b[0m\u001b[0m\n",
      "\u001b[0;32m<ipython-input-17-c181189847e9>\u001b[0m in \u001b[0;36misFull\u001b[0;34m(self)\u001b[0m\n\u001b[1;32m     16\u001b[0m \u001b[0;34m\u001b[0m\u001b[0m\n\u001b[1;32m     17\u001b[0m     \u001b[0;32mdef\u001b[0m \u001b[0misFull\u001b[0m\u001b[0;34m(\u001b[0m\u001b[0mself\u001b[0m\u001b[0;34m)\u001b[0m\u001b[0;34m:\u001b[0m\u001b[0;34m\u001b[0m\u001b[0;34m\u001b[0m\u001b[0m\n\u001b[0;32m---> 18\u001b[0;31m         \u001b[0;32mreturn\u001b[0m \u001b[0mself\u001b[0m\u001b[0;34m.\u001b[0m\u001b[0msize\u001b[0m\u001b[0;34m(\u001b[0m\u001b[0;34m)\u001b[0m \u001b[0;34m==\u001b[0m \u001b[0ms_size\u001b[0m\u001b[0;34m\u001b[0m\u001b[0;34m\u001b[0m\u001b[0m\n\u001b[0m\u001b[1;32m     19\u001b[0m \u001b[0;34m\u001b[0m\u001b[0m\n\u001b[1;32m     20\u001b[0m     \u001b[0;32mdef\u001b[0m \u001b[0mtop\u001b[0m\u001b[0;34m(\u001b[0m\u001b[0mself\u001b[0m\u001b[0;34m)\u001b[0m\u001b[0;34m:\u001b[0m\u001b[0;34m\u001b[0m\u001b[0;34m\u001b[0m\u001b[0m\n",
      "\u001b[0;31mNameError\u001b[0m: name 's_size' is not defined"
     ]
    }
   ],
   "source": [
    "queue = newQueue(5)\n",
    "for i in range(5):\n",
    "    queue.enqueue(i+1)\n",
    "\n",
    "print(\"----------\")\n",
    "  \n",
    "for i in range(5):\n",
    "    queue.dequeue()"
   ]
  },
  {
   "cell_type": "code",
   "execution_count": 28,
   "metadata": {},
   "outputs": [
    {
     "name": "stdout",
     "output_type": "stream",
     "text": [
      "10\n"
     ]
    }
   ],
   "source": [
    "right = '8'\n",
    "left = '2'\n",
    "center = '+'\n",
    "print(eval(right + center + left))\n"
   ]
  },
  {
   "cell_type": "code",
   "execution_count": 30,
   "metadata": {},
   "outputs": [
    {
     "name": "stdout",
     "output_type": "stream",
     "text": [
      "3\n"
     ]
    }
   ],
   "source": [
    "# Postfix Evaluation\n",
    "\n",
    "def postfix_eval(word):\n",
    "    res = []\n",
    "    for char in word:\n",
    "        if char.isdigit():\n",
    "            res.append(char)\n",
    "        else:\n",
    "            left = res.pop()\n",
    "            right = res.pop()\n",
    "            res.append(str(eval(right + char + left)))\n",
    "    return int(res.pop())\n",
    "\n",
    "print(postfix_eval(\"921*-8-4+\"))"
   ]
  },
  {
   "cell_type": "code",
   "execution_count": 52,
   "metadata": {},
   "outputs": [
    {
     "name": "stdout",
     "output_type": "stream",
     "text": [
      "Appending res ['{']\n",
      "Appending res ['{', '[']\n",
      "Appending res ['{', '[', '(']\n",
      "Final Res []\n",
      "True\n"
     ]
    }
   ],
   "source": [
    "# Balanced Paranthesis\n",
    "\n",
    "def balanced_para(expr):\n",
    "    res = []\n",
    "    d = {'{':'}','[':']','(':')'}\n",
    "    \n",
    "    for char in expr:\n",
    "        if char in d:\n",
    "            res.append(char)\n",
    "            print('Appending res',res)\n",
    "        elif not res or d[res.pop()] != char:\n",
    "            print('Condition Fail', res)\n",
    "            return False\n",
    "    print('Final Res', res)\n",
    "    return not res\n",
    "\n",
    "print(balanced_para(\"{[()]}\"))"
   ]
  },
  {
   "cell_type": "code",
   "execution_count": 7,
   "metadata": {},
   "outputs": [
    {
     "name": "stdout",
     "output_type": "stream",
     "text": [
      "1\n",
      "2\n",
      "3\n",
      "4\n"
     ]
    }
   ],
   "source": [
    "# Queuse using Stack with push in O(1) and pop in O(n), memory O(n)\n",
    "\n",
    "class queue_using_stack:\n",
    "    def __init__(self):\n",
    "        self.stack1 = []\n",
    "        self.stack2 = []\n",
    "\n",
    "    def enqueue(self, data):\n",
    "        self.stack1.append(data)\n",
    "\n",
    "    def empty(self):\n",
    "        return len(self.stack1) == 0 and len(self.stack2) == 0\n",
    "\n",
    "    def dequeue(self):\n",
    "\n",
    "        if self.empty():\n",
    "            raise ValueError('Empty Queue')\n",
    "\n",
    "        if len(self.stack2) == 0:\n",
    "            while len(self.stack1) != 0:\n",
    "                val = self.stack1[-1]\n",
    "                self.stack1.pop()\n",
    "                self.stack2.append(val)\n",
    "\n",
    "        val = self.stack2[-1]\n",
    "        self.stack2.pop()\n",
    "        return val\n",
    "    \n",
    "def main():\n",
    "    q1 = queue_using_stack()\n",
    "    q1.enqueue(1)\n",
    "    q1.enqueue(2)\n",
    "    q1.enqueue(3)\n",
    "    print(q1.dequeue())\n",
    "\n",
    "    q1.enqueue(4)\n",
    "    print(q1.dequeue())\n",
    "    print(q1.dequeue())\n",
    "    print(q1.dequeue())\n",
    "\n",
    "main()\n",
    "\n"
   ]
  },
  {
   "cell_type": "code",
   "execution_count": 11,
   "metadata": {},
   "outputs": [
    {
     "name": "stdout",
     "output_type": "stream",
     "text": [
      "1\n",
      "2\n",
      "3\n",
      "4\n"
     ]
    }
   ],
   "source": [
    "# Queuse using Stack with push in O(n) and pop in O(1), memory O(n)\n",
    "\n",
    "class queue_using_stack:\n",
    "    def __init__(self):\n",
    "        self.stack1 = []\n",
    "        self.stack2 = []\n",
    "        \n",
    "    def empty(self):\n",
    "        return len(self.stack1) == 0 and len(self.stack2) == 0\n",
    "\n",
    "    def enqueue(self, data):       \n",
    "        while len(self.stack1) != 0:\n",
    "            temp = self.stack1[-1]\n",
    "            self.stack1.pop()\n",
    "            self.stack2.append(temp)\n",
    "            \n",
    "        self.stack1.append(data)\n",
    "        \n",
    "        while len(self.stack2) != 0:\n",
    "            temp = self.stack2[-1]\n",
    "            self.stack2.pop()\n",
    "            self.stack1.append(temp)\n",
    "\n",
    "    def dequeue(self):\n",
    "        if self.empty():\n",
    "            raise ValueError('Empty Queue')\n",
    "        value = self.stack1[-1]\n",
    "        self.stack1.pop()\n",
    "        return value\n",
    "\n",
    "        \n",
    "    \n",
    "def main():\n",
    "    q1 = queue_using_stack()\n",
    "    q1.enqueue(1)\n",
    "    q1.enqueue(2)\n",
    "    q1.enqueue(3)\n",
    "    print(q1.dequeue())\n",
    "\n",
    "    q1.enqueue(4)\n",
    "    print(q1.dequeue())\n",
    "    print(q1.dequeue())\n",
    "    print(q1.dequeue())\n",
    "\n",
    "main()"
   ]
  },
  {
   "cell_type": "code",
   "execution_count": null,
   "metadata": {},
   "outputs": [],
   "source": []
  },
  {
   "cell_type": "code",
   "execution_count": null,
   "metadata": {},
   "outputs": [],
   "source": []
  }
 ],
 "metadata": {
  "kernelspec": {
   "display_name": "Python 3",
   "language": "python",
   "name": "python3"
  },
  "language_info": {
   "codemirror_mode": {
    "name": "ipython",
    "version": 3
   },
   "file_extension": ".py",
   "mimetype": "text/x-python",
   "name": "python",
   "nbconvert_exporter": "python",
   "pygments_lexer": "ipython3",
   "version": "3.6.8"
  }
 },
 "nbformat": 4,
 "nbformat_minor": 2
}
