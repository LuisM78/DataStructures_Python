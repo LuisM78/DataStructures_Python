{
 "cells": [
  {
   "cell_type": "markdown",
   "metadata": {},
   "source": [
    "Heaps are advanced data structures that are useful in applications such as sorting and implementing priority queues. They are regular binary trees with two special properties. \n",
    "\n",
    "### Heaps must be Complete Binary Trees\n",
    "\n",
    "Some Complete Binary Tree Properties:\n",
    "\n",
    "1. All leaves are either at depth dd or depth d-1d−1.\n",
    "2. The leaves at depth dd are to the left of the leaves at depth d-1d−1\n",
    "3. There is at most one node with just one child\n",
    "4. If the singular child exists, it is the left child of its parent\n",
    "5. If the singular child exists, it is the right most leaf at depth dd.\n",
    "\n",
    "\n",
    "### The nodes must be ordered according to the Heap Order Property\n",
    "The heap order property is different for the two heap structures that we are going to study in this chapter:\n",
    "\n",
    "* Min Heap\n",
    "* Max Heap\n",
    "Min Heaps are built based upon the Min Heap property and Max Heaps are built based upon Max Heap Property. Let’s see how they are different."
   ]
  },
  {
   "cell_type": "code",
   "execution_count": 48,
   "metadata": {},
   "outputs": [],
   "source": [
    "class maxHeap:\n",
    "    def __init__(self):\n",
    "        self.heap = []\n",
    "    \n",
    "    def insert(self,val):\n",
    "        self.heap.append(val)\n",
    "        self.__percolateUp(len(self.heap)-1)\n",
    "  \n",
    "    def getMax(self):\n",
    "        if self.heap:\n",
    "            return self.heap[0]\n",
    "        return None\n",
    "  \n",
    "    def removeMax(self):\n",
    "        if len(self.heap) > 1:\n",
    "            temp = self.heap[0]\n",
    "            self.heap[0] = self.heap[-1]\n",
    "            del self.heap[-1]\n",
    "            self.__maxHeapify(0)\n",
    "            return temp\n",
    "        elif len(self.heap) == 1:\n",
    "            temp=self.heap[0]\n",
    "            del self.heap[0]\n",
    "            return temp\n",
    "        else:\n",
    "            return None\n",
    "  \n",
    "    def __percolateUp(self, index):\n",
    "        parent = (index-1)//2\n",
    "        if index <= 0:\n",
    "            return \n",
    "        elif self.heap[index] > self.heap[parent]:\n",
    "            tmp = self.heap[parent]\n",
    "            self.heap[parent] = self.heap[index]\n",
    "            self.heap[index] = tmp\n",
    "            self.__percolateUp(parent)  \n",
    "      \n",
    "    \n",
    "    def __maxHeapify(self,index):\n",
    "        left =(index * 2) + 1\n",
    "        right = (index * 2) + 2\n",
    "        largest = index\n",
    "        if len(self.heap) > left and self.heap[largest] < self.heap[left]:\n",
    "            largest = left\n",
    "        if len(self.heap) > right and self.heap[largest] < self.heap[right]:\n",
    "            largest = right\n",
    "        if largest != index:\n",
    "            tmp = self.heap[largest]\n",
    "            self.heap[largest] = self.heap[index]\n",
    "            self.heap[index] = tmp\n",
    "            self.__maxHeapify(largest)\n",
    "    "
   ]
  },
  {
   "cell_type": "code",
   "execution_count": 42,
   "metadata": {},
   "outputs": [
    {
     "name": "stdout",
     "output_type": "stream",
     "text": [
      "100\n"
     ]
    }
   ],
   "source": [
    "heap = maxHeap()\n",
    "heap.insert(12)\n",
    "heap.insert(10)\n",
    "heap.insert(-10)\n",
    "heap.insert(100)\n",
    "\n",
    "print(heap.getMax())"
   ]
  },
  {
   "cell_type": "code",
   "execution_count": 43,
   "metadata": {},
   "outputs": [],
   "source": [
    "# MinHeap Implementation\n",
    "\n",
    "class minHeap:\n",
    "    def __init__(self):\n",
    "        self.heap=[]\n",
    "    \n",
    "    def insert(self,val):\n",
    "        self.heap.append(val)\n",
    "        self.__percolateUp(len(self.heap)-1)\n",
    "  \n",
    "    def getMin(self):\n",
    "        if self.heap:\n",
    "            return self.heap[0]\n",
    "        return None\n",
    "  \n",
    "    def removeMin(self):\n",
    "        if len(self.heap)>1:\n",
    "            temp = self.heap[0]\n",
    "            self.heap[0] = self.heap[-1]\n",
    "            del self.heap[-1]\n",
    "            self.__minHeapify(0)\n",
    "            return temp\n",
    "        elif len(self.heap) == 1:\n",
    "            temp = self.heap[0]\n",
    "            del self.heap[0]\n",
    "            return temp\n",
    "        else:\n",
    "            return None\n",
    "  \n",
    "    def __percolateUp(self, index):\n",
    "        parent = index // 2\n",
    "        if index <= 0:\n",
    "            return \n",
    "        elif self.heap[index] < self.heap[parent]:\n",
    "            tmp = self.heap[parent]\n",
    "            self.heap[parent] = self.heap[index]\n",
    "            self.heap[index] = tmp\n",
    "            self.__percolateUp(parent)  \n",
    "      \n",
    "    \n",
    "    def __minHeapify(self,index):\n",
    "        left =(index * 2) + 1\n",
    "        right = (index * 2) + 2\n",
    "        smallest = index\n",
    "        if len(self.heap) > left and self.heap[smallest] > self.heap[left]:\n",
    "            smallest = left\n",
    "        if len(self.heap) > right and self.heap[smallest] > self.heap[right]:\n",
    "            smallest = right\n",
    "        if smallest != index:\n",
    "            tmp = self.heap[smallest]\n",
    "            self.heap[smallest] = self.heap[index]\n",
    "            self.heap[index] = tmp\n",
    "            self.__minHeapify(smallest)\n",
    "    "
   ]
  },
  {
   "cell_type": "code",
   "execution_count": 44,
   "metadata": {},
   "outputs": [
    {
     "name": "stdout",
     "output_type": "stream",
     "text": [
      "-2\n",
      "-2\n",
      "1\n",
      "-100\n"
     ]
    }
   ],
   "source": [
    "heap = minHeap()\n",
    "lst = [9, 4, 7, 1, -2, 6, 5]\n",
    "for i in range(len(lst)):\n",
    "    heap.insert(lst[i])\n",
    "\n",
    "\n",
    "print(heap.getMin())\n",
    "print(heap.removeMin())\n",
    "print(heap.getMin())\n",
    "heap.insert(-100)\n",
    "print(heap.getMin())\n",
    "\n"
   ]
  },
  {
   "cell_type": "code",
   "execution_count": 45,
   "metadata": {},
   "outputs": [
    {
     "name": "stdout",
     "output_type": "stream",
     "text": [
      "[-2, 1, 5, 9, 4, 6, 7]\n"
     ]
    }
   ],
   "source": [
    "# Converting maxHeap to minHeap\n",
    "\n",
    "def minHeapify(heap,index):\n",
    "    left = index * 2 + 1\n",
    "    right = (index * 2) + 2\n",
    "    smallest = index\n",
    "    if len(heap) > left and heap[smallest] > heap[left]:\n",
    "        smallest = left\n",
    "    if len(heap) > right and heap[smallest] > heap[right]:\n",
    "        smallest = right\n",
    "    if smallest != index:\n",
    "        tmp = heap[smallest]\n",
    "        heap[smallest] = heap[index]\n",
    "        heap[index] = tmp\n",
    "        minHeapify(heap,smallest)\n",
    "    return heap\n",
    "\n",
    "def convertMax(maxHeap):\n",
    "    for i in range((len(maxHeap))//2,-1,-1):\n",
    "        maxHeap = minHeapify(maxHeap,i)\n",
    "    return maxHeap\n",
    "  \n",
    "maxHeap = [9,4,7,1,-2,6,5]\n",
    "print(convertMax(maxHeap))"
   ]
  },
  {
   "cell_type": "code",
   "execution_count": 46,
   "metadata": {},
   "outputs": [
    {
     "name": "stdout",
     "output_type": "stream",
     "text": [
      "[-2, 1, 4]\n"
     ]
    }
   ],
   "source": [
    "# Find k smallest elements in a List\n",
    "\n",
    "def findKSmallest(lst,k):\n",
    "    heap = minHeap()\n",
    "    for ele in lst: \n",
    "        heap.insert(ele)\n",
    "    kSmallest = [heap.removeMin() for i in range(k)]\n",
    "    return kSmallest\n",
    "  \n",
    "lst = [9,4,7,1,-2,6,5]\n",
    "k = 3\n",
    "print(findKSmallest(lst,k))"
   ]
  },
  {
   "cell_type": "code",
   "execution_count": 49,
   "metadata": {},
   "outputs": [
    {
     "name": "stdout",
     "output_type": "stream",
     "text": [
      "[9, 7, 6]\n"
     ]
    }
   ],
   "source": [
    "# Find k largest elements in the List\n",
    "def findKLargest(lst,k):\n",
    "    heap = maxHeap()\n",
    "    for ele in lst: \n",
    "        heap.insert(ele)\n",
    "    kLargest = [heap.removeMax() for i in range(k)]\n",
    "    return kLargest\n",
    "  \n",
    "lst = [9,4,7,1,-2,6,5]\n",
    "k = 3\n",
    "print(findKLargest(lst,k))"
   ]
  },
  {
   "cell_type": "code",
   "execution_count": null,
   "metadata": {},
   "outputs": [],
   "source": []
  }
 ],
 "metadata": {
  "kernelspec": {
   "display_name": "Python 3",
   "language": "python",
   "name": "python3"
  },
  "language_info": {
   "codemirror_mode": {
    "name": "ipython",
    "version": 3
   },
   "file_extension": ".py",
   "mimetype": "text/x-python",
   "name": "python",
   "nbconvert_exporter": "python",
   "pygments_lexer": "ipython3",
   "version": "3.6.8"
  }
 },
 "nbformat": 4,
 "nbformat_minor": 2
}
