{
 "cells": [
  {
   "cell_type": "markdown",
   "metadata": {},
   "source": [
    "### Trees consist of vertices (nodes) and edges that connect them. Unlike the linear data structures that we have studied so far, trees are hierarchical. They are similar to Graphs, except that a cycle cannot exist in a Tree - they are acyclic. In other words, there is always exactly one path between any two nodes.\n",
    "\n",
    "* Root Node: A node with no parent nodes. Generally, trees don’t have to have a root. However, rooted trees have one distinguished node and are largely what we will use in this course.\n",
    "* Child Node: A Node which is linked to an upper node (Parent Node)\n",
    "* Parent Nodes: A Node that has links to one or more child nodes which contains one or more Child Nodes\n",
    "* Sibling Node: Nodes that share same Parent Node\n",
    "* Leaf Node: A node that doesn’t have any Child Node\n",
    "* Ancestor Nodes: the nodes on the path from a node d to the root node. Ancestor nodes include node d’s parents, grandparents, and so on\n",
    "\n",
    "#### Tree Types\n",
    "\n",
    "* Binary Trees\n",
    "* Binary Search Trees\n",
    "* AVL Trees\n",
    "* Red-Black Trees\n",
    "* 2-3 Trees"
   ]
  },
  {
   "cell_type": "code",
   "execution_count": 2,
   "metadata": {},
   "outputs": [],
   "source": [
    "class Node:\n",
    "    def __init__(self, val):\n",
    "        self.val = val\n",
    "        self.left = None\n",
    "        self.right = None\n",
    "        \n",
    "    def insert(self, val):\n",
    "        if self is None:\n",
    "            self = Node(val)\n",
    "            return self\n",
    "        current = self\n",
    "        \n",
    "        while current:\n",
    "            parent = current\n",
    "            if val < current.val:\n",
    "                current = current.left\n",
    "            else:\n",
    "                current = current.right\n",
    "        \n",
    "        if val < parent.val:\n",
    "            parent.left = Node(val)\n",
    "        else:\n",
    "            parent.right = Node(val)\n",
    "            \n",
    "    def search(self, val):\n",
    "        if self is None:\n",
    "            return self\n",
    "        \n",
    "        current = self\n",
    "        while current and current.val != val:\n",
    "            if val < current.val:\n",
    "                current = current.left\n",
    "            else:\n",
    "                current = current.right\n",
    "        return current\n",
    "    \n",
    "    def delete(self, val):\n",
    "        if self is None:      # Case 1: Tree is Empty\n",
    "            return False\n",
    "        \n",
    "        current = self\n",
    "        while current and current.val != val:\n",
    "            parent = current\n",
    "            if val < current.val:\n",
    "                current = current.left\n",
    "            else:\n",
    "                current = current.right\n",
    "        \n",
    "        if current is None or current.val != val:    # Case 2: Val not found\n",
    "            return False\n",
    "        \n",
    "        \n",
    "        elif current.left is None and current.right is None: # Case 3: Leaf Node\n",
    "            if val < parent.val:\n",
    "                parent.left = None\n",
    "            else:\n",
    "                parent.right = None\n",
    "            return True\n",
    "        \n",
    "        elif current.left and current.right is None: # Case 4: Node has left child only\n",
    "            if val < parent.val:\n",
    "                parent.left = current.left\n",
    "            else:\n",
    "                parent.right = current.left\n",
    "            return True\n",
    "        \n",
    "        elif current.left is None and current.right: # Case 4: Node has right child only\n",
    "            if val < parent.val:\n",
    "                parent.left = current.right\n",
    "            else:\n",
    "                parent.right = current.right\n",
    "            return True\n",
    "        \n",
    "        else:                                        # Case 5: Node has both left and right children\n",
    "            replaceNodeParent = node\n",
    "            replaceNode = node.rightChild\n",
    "            while replaceNode.leftChild:\n",
    "                replaceNodeParent = replaceNode\n",
    "                replaceNode = replaceNode.leftChild\n",
    "    \n",
    "            node.val = replaceNode.val\n",
    "            if replaceNode.rightChild:\n",
    "                if replaceNodeParent.val > replaceNode.val:\n",
    "                    replaceNodeParent.leftChild = replaceNode.rightChild\n",
    "            elif replaceNodeParent.val < replaceNode.val:\n",
    "                replaceNodeParent.rightChild = replaceNode.rightChild\n",
    "            else:\n",
    "                if replaceNode.val < replaceNodeParent.val:\n",
    "                    replaceNodeParent.leftChild = None\n",
    "                else:\n",
    "                    replaceNodeParent.rightChild = None\n",
    "        \n",
    "        "
   ]
  },
  {
   "cell_type": "code",
   "execution_count": 3,
   "metadata": {},
   "outputs": [],
   "source": [
    "class binarySearchTree:\n",
    "    def __init__(self, val):\n",
    "        self.root = Node(val)\n",
    "        \n",
    "    def insert(self, val):\n",
    "        self.root.insert(val)\n",
    "    \n",
    "    def search(self, val):\n",
    "        return self.root.search(val)\n",
    "    \n",
    "    def delete(self, val):\n",
    "        return self.root.delete(val)"
   ]
  },
  {
   "cell_type": "code",
   "execution_count": 4,
   "metadata": {},
   "outputs": [],
   "source": [
    "# Tree Traversal\n",
    "def postOrderPrint(node):\n",
    "    if node != None:\n",
    "        postOrderPrint(node.left)\n",
    "        postOrderPrint(node.right)\n",
    "        print(node.val)\n",
    "        \n",
    "def inOrderPrint(node):\n",
    "    if node != None:\n",
    "        inOrderPrint(node.left)\n",
    "        print(node.val)\n",
    "        inOrderPrint(node.right)\n",
    "        \n",
    "def preOrderPrint(node):\n",
    "    if node != None:\n",
    "        print(node.val)\n",
    "        preOrderPrint(node.left)\n",
    "        preOrderPrint(node.right)"
   ]
  },
  {
   "cell_type": "code",
   "execution_count": 43,
   "metadata": {},
   "outputs": [
    {
     "name": "stdout",
     "output_type": "stream",
     "text": [
      "before deleting the root\n",
      "2\n",
      "4\n",
      "5\n",
      "6\n",
      "8\n",
      "9\n",
      "12\n",
      "after deleting the root\n",
      "2\n",
      "4\n",
      "5\n",
      "6\n",
      "8\n",
      "9\n",
      "None\n"
     ]
    }
   ],
   "source": [
    "BST = binarySearchTree(6)\n",
    "BST.insert(4)\n",
    "BST.insert(9)\n",
    "BST.insert(5)\n",
    "BST.insert(2)\n",
    "BST.insert(8)\n",
    "BST.insert(12)\n",
    "print(\"before deleting the root\")\n",
    "inOrderPrint(BST.root)\n",
    "\n",
    "BST.delete(12) \n",
    "\n",
    "print(\"after deleting the root\")\n",
    "print(inOrderPrint(BST.root))\n"
   ]
  },
  {
   "cell_type": "code",
   "execution_count": 46,
   "metadata": {},
   "outputs": [
    {
     "name": "stdout",
     "output_type": "stream",
     "text": [
      "2\n"
     ]
    }
   ],
   "source": [
    "#Find minimum value in Binary Search Tree\n",
    "\n",
    "def find_min(node):\n",
    "    if node is None:\n",
    "        return None\n",
    "    \n",
    "    while node.left:\n",
    "        node = node.left\n",
    "    \n",
    "    return node.val\n",
    "\n",
    "BST = binarySearchTree(6)\n",
    "BST.insert(4)\n",
    "BST.insert(9)\n",
    "BST.insert(5)\n",
    "BST.insert(2)\n",
    "BST.insert(8)\n",
    "BST.insert(12)\n",
    "\n",
    "print(find_min(BST.root))"
   ]
  },
  {
   "cell_type": "code",
   "execution_count": 54,
   "metadata": {},
   "outputs": [
    {
     "name": "stdout",
     "output_type": "stream",
     "text": [
      "2\n"
     ]
    }
   ],
   "source": [
    "# Find kth maximum value in Binary Search Tree\n",
    "\n",
    "def find_kth_max(node, k):\n",
    "    if node is None:\n",
    "        return None\n",
    "    \n",
    "    res = []\n",
    "    def in_order(node):\n",
    "        if node:\n",
    "            in_order(node.left)\n",
    "            res.append(node.val)\n",
    "            in_order(node.right)\n",
    "    in_order(node)\n",
    "    \n",
    "    if k > len(res):\n",
    "        print('Index out of Bound')\n",
    "        return\n",
    "    return res[-k]\n",
    "\n",
    "BST = binarySearchTree(6)\n",
    "BST.insert(4)\n",
    "BST.insert(9)\n",
    "BST.insert(5)\n",
    "BST.insert(2)\n",
    "BST.insert(8)\n",
    "BST.insert(12)\n",
    "\n",
    "k = 7\n",
    "\n",
    "print(find_kth_max(BST.root, k))\n",
    "        "
   ]
  },
  {
   "cell_type": "code",
   "execution_count": 56,
   "metadata": {},
   "outputs": [
    {
     "name": "stdout",
     "output_type": "stream",
     "text": [
      "6\n",
      "4\n",
      "True\n"
     ]
    }
   ],
   "source": [
    "# Find Ancestors of a given node in Binary Tree\n",
    "\n",
    "def find_ancestors(node, val):\n",
    "    if node is None or node.val == val:\n",
    "        return None\n",
    "    \n",
    "    while node and node.val != val:\n",
    "        print(node.val)\n",
    "        if val < node.val:\n",
    "            node = node.left\n",
    "        else:\n",
    "            node = node.right\n",
    "    return True\n",
    "\n",
    "BST = binarySearchTree(6)\n",
    "BST.insert(4)\n",
    "BST.insert(9)\n",
    "BST.insert(5)\n",
    "BST.insert(2)\n",
    "BST.insert(8)\n",
    "BST.insert(12)\n",
    "\n",
    "k = 5\n",
    "\n",
    "print(find_ancestors(BST.root, k))"
   ]
  },
  {
   "cell_type": "code",
   "execution_count": null,
   "metadata": {},
   "outputs": [],
   "source": []
  },
  {
   "cell_type": "code",
   "execution_count": null,
   "metadata": {},
   "outputs": [],
   "source": []
  },
  {
   "cell_type": "code",
   "execution_count": null,
   "metadata": {},
   "outputs": [],
   "source": []
  },
  {
   "cell_type": "code",
   "execution_count": null,
   "metadata": {},
   "outputs": [],
   "source": []
  },
  {
   "cell_type": "code",
   "execution_count": null,
   "metadata": {},
   "outputs": [],
   "source": []
  },
  {
   "cell_type": "code",
   "execution_count": null,
   "metadata": {},
   "outputs": [],
   "source": []
  },
  {
   "cell_type": "code",
   "execution_count": 6,
   "metadata": {},
   "outputs": [
    {
     "name": "stdout",
     "output_type": "stream",
     "text": [
      "\n",
      "\n",
      "False\n"
     ]
    }
   ],
   "source": [
    "def are_identical(root1, root2):\n",
    "    if root1 == None and root2 == None:\n",
    "        return True\n",
    "\n",
    "    if root1 != None and root2 != None:\n",
    "        return (root1.val == root2.val and are_identical(root1.left, root2.left) and\n",
    "              are_identical(root1.right, root2.right))\n",
    "  \n",
    "    return False\n",
    "\n",
    "import random\n",
    "BST1 = binarySearchTree(50)\n",
    "for _ in range(15):\n",
    "    ele = random.randint(0, 100)\n",
    "    BST1.insert(ele)\n",
    "\n",
    "    \n",
    "BST2 = binarySearchTree(50)\n",
    "for _ in range(15):\n",
    "    ele = random.randint(0, 100)\n",
    "    BST2.insert(ele)\n",
    "\n",
    "print('\\n')\n",
    "print(are_identical(BST1.root, BST2.root))"
   ]
  },
  {
   "cell_type": "code",
   "execution_count": 9,
   "metadata": {},
   "outputs": [
    {
     "name": "stdout",
     "output_type": "stream",
     "text": [
      "False\n"
     ]
    }
   ],
   "source": [
    "# Check if a tree is symmetric, Binary Search tree is always asymmmetric\n",
    "def are_symmetric(root1, root2):\n",
    "    if root1 == None and root2 == None:\n",
    "        return True\n",
    "\n",
    "    if root1 and root2:\n",
    "        return (root1.val == root2.val and are_identical(root1.left, root2.right) and\n",
    "              are_identical(root1.right, root2.left))\n",
    "  \n",
    "    return False\n",
    "\"\"\"\n",
    "import random\n",
    "BST1 = binarySearchTree(50)\n",
    "for _ in range(15):\n",
    "    ele = random.randint(0, 100)\n",
    "    BST1.insert(ele)\n",
    "\n",
    "    \n",
    "BST2 = binarySearchTree(50)\n",
    "for _ in range(15):\n",
    "    ele = random.randint(0, 100)\n",
    "    BST2.insert(ele)\n",
    "\"\"\"\n",
    "BST1 = binarySearchTree(314)\n",
    "BST1.insert(6)\n",
    "BST1.insert(6)\n",
    "BST1.insert(2)\n",
    "BST1.insert(2)\n",
    "BST1.insert(8)\n",
    "BST1.insert(12)\n",
    "\n",
    "\n",
    "print(are_symmetric(BST1.root.left, BST2.root.right))"
   ]
  },
  {
   "cell_type": "code",
   "execution_count": null,
   "metadata": {},
   "outputs": [],
   "source": []
  }
 ],
 "metadata": {
  "kernelspec": {
   "display_name": "Python 3",
   "language": "python",
   "name": "python3"
  },
  "language_info": {
   "codemirror_mode": {
    "name": "ipython",
    "version": 3
   },
   "file_extension": ".py",
   "mimetype": "text/x-python",
   "name": "python",
   "nbconvert_exporter": "python",
   "pygments_lexer": "ipython3",
   "version": "3.6.8"
  }
 },
 "nbformat": 4,
 "nbformat_minor": 2
}
