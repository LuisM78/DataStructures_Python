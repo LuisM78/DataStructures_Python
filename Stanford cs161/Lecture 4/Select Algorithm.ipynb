{
 "cells": [
  {
   "cell_type": "markdown",
   "metadata": {},
   "source": [
    "# Lecture 4\n",
    "\n",
    "Substitution Method; Median and Selection"
   ]
  },
  {
   "cell_type": "code",
   "execution_count": 1,
   "metadata": {},
   "outputs": [],
   "source": [
    "%matplotlib inline\n",
    "import matplotlib\n",
    "import numpy as np\n",
    "import matplotlib.pyplot as plt"
   ]
  },
  {
   "cell_type": "markdown",
   "metadata": {},
   "source": [
    "## Part 1: Substitution Method"
   ]
  },
  {
   "cell_type": "code",
   "execution_count": 2,
   "metadata": {},
   "outputs": [],
   "source": [
    "def nastyRecurrence(n):\n",
    "    if n <= 10:\n",
    "        return 1\n",
    "    return n + nastyRecurrence(n/5) + nastyRecurrence(7*n/10)"
   ]
  },
  {
   "cell_type": "code",
   "execution_count": 3,
   "metadata": {},
   "outputs": [
    {
     "data": {
      "image/png": "[encoded data removed]",
      "text/plain": [
       "<Figure size 432x288 with 1 Axes>"
      ]
     },
     "metadata": {
      "needs_background": "light"
     },
     "output_type": "display_data"
    }
   ],
   "source": [
    "nVals = list( range(1,10000,10))\n",
    "rVals = [ nastyRecurrence(n) for n in nVals]\n",
    "plt.plot( nVals, rVals, color=\"red\")\n",
    "plt.xlabel(\"n\")\n",
    "plt.ylabel(\"T(n)\")\n",
    "plt.title(\"T(n) = n + T(n/5) + T(7n/10)\")\n",
    "plt.show()"
   ]
  },
  {
   "cell_type": "markdown",
   "metadata": {},
   "source": [
    "## Part 2: SELECT"
   ]
  },
  {
   "cell_type": "code",
   "execution_count": 4,
   "metadata": {},
   "outputs": [],
   "source": [
    "# some extra functions that will be useful\n",
    "from auxFileLecture4 import *"
   ]
  },
  {
   "cell_type": "markdown",
   "metadata": {},
   "source": [
    "Here are a bunch of different ways we might pick a pivot.  \n",
    "We'll see our final way (chooseFancyFivePivot) later on in this notebook."
   ]
  },
  {
   "cell_type": "code",
   "execution_count": 5,
   "metadata": {},
   "outputs": [],
   "source": [
    "# Choose a random pivot; this takes time O(1)\n",
    "def chooseRandomPivot(A):\n",
    "    return choice( range(len(A)))"
   ]
  },
  {
   "cell_type": "code",
   "execution_count": 6,
   "metadata": {},
   "outputs": [],
   "source": [
    "# Choose the pivot to be n/2; also takes time O(1)\n",
    "def chooseArbitraryPivot(A):\n",
    "    return round(len(A)/2)"
   ]
  },
  {
   "cell_type": "code",
   "execution_count": 7,
   "metadata": {},
   "outputs": [],
   "source": [
    "# Choose the pivot to be t (unless the array is shorter than t); takes time O(1)\n",
    "def chooseMyFavoritePivot(A,t=3):\n",
    "    if len(A) < t+1:\n",
    "        return 0\n",
    "    return t"
   ]
  },
  {
   "cell_type": "code",
   "execution_count": 8,
   "metadata": {},
   "outputs": [],
   "source": [
    "# this finds the \"best\" pivot (that is, that splits the array in half); but in runs in time O(n log(n))\n",
    "def chooseIdealPivot(A):\n",
    "    B = A[:]\n",
    "    B.sort()\n",
    "    pivotVal = B[(len(B)/2).__trunc__()]\n",
    "    return A.index(pivotVal)"
   ]
  },
  {
   "cell_type": "code",
   "execution_count": 9,
   "metadata": {},
   "outputs": [],
   "source": [
    "# this finds the *worst* pivot; runs in time O(n)\n",
    "def chooseWorstPivot(A):\n",
    "    m = min(A)\n",
    "    return A.index(m)"
   ]
  },
  {
   "cell_type": "markdown",
   "metadata": {},
   "source": [
    "Now let's define our SELECT algorithm.  It can use any of the above pivot-choosing algorithms in it."
   ]
  },
  {
   "cell_type": "code",
   "execution_count": 10,
   "metadata": {},
   "outputs": [],
   "source": [
    "# Returns L, A[p], R, where L has all the elements less or equal to A[p], R has all the elements greater than A[p]\n",
    "def myPartition(A, p):\n",
    "    L = []\n",
    "    R = []\n",
    "    for i in range(len(A)):\n",
    "        if i == p:\n",
    "            continue\n",
    "        if A[i] <= A[p]: # This is NOT a good idea if the array doesn't have distinct elts.  (Why?)\n",
    "            L.append(A[i])\n",
    "        else:\n",
    "            R.append(A[i])\n",
    "    return L, A[p], R\n",
    "\n",
    "# Returns the k'th smallest element of A\n",
    "def mySelect( A, k ):\n",
    "    if len(A) <= 50:\n",
    "        A = mergeSort(A)\n",
    "        return A[k-1]\n",
    "    p = chooseMyFavoritePivot(A) # We can plug in whatever choosePivot algorithm we want here! \n",
    "    L, mid, R = myPartition(A,p)\n",
    "    if len(L) == k-1:\n",
    "        return mid\n",
    "    elif len(L) > k-1: # then the k'th smallest thing is the k'th smallest thing in the left half\n",
    "        return mySelect(L, k)\n",
    "    elif len(L) < k-1: # then the k'th smallest thing is the (k - len(L) - 1)'st smallest thing in the right half\n",
    "        return mySelect(R, k - len(L) - 1)"
   ]
  },
  {
   "cell_type": "markdown",
   "metadata": {},
   "source": [
    "A quick sanity-check..."
   ]
  },
  {
   "cell_type": "code",
   "execution_count": 11,
   "metadata": {},
   "outputs": [
    {
     "name": "stdout",
     "output_type": "stream",
     "text": [
      "[19, 42, 33, 20, 11, 32, 35, 47, 16, 12, 49, 36, 25, 18, 27, 10, 24, 26, 22, 37, 8, 15, 43, 7, 1, 40, 48, 41, 2, 39, 17, 30, 23, 29, 38, 14, 9, 3, 5, 46, 31, 45, 21, 6, 28, 13, 4, 34, 44]\n"
     ]
    }
   ],
   "source": [
    "# Let's make sure it works!  Make a list with all the numbers from 1 to 49 in some order\n",
    "from random import shuffle\n",
    "A = list(range(1,50))\n",
    "shuffle(A)\n",
    "print(A)"
   ]
  },
  {
   "cell_type": "code",
   "execution_count": 12,
   "metadata": {},
   "outputs": [
    {
     "name": "stdout",
     "output_type": "stream",
     "text": [
      "The 6'th smallest is 6\n",
      "The 12'th smallest is 12\n",
      "The 15'th smallest is 15\n"
     ]
    }
   ],
   "source": [
    "# k'th smallest should be k\n",
    "print(\"The 6'th smallest is\", mySelect(A, 6))\n",
    "print(\"The 12'th smallest is\", mySelect(A, 12))\n",
    "print(\"The 15'th smallest is\", mySelect(A, 15))"
   ]
  },
  {
   "cell_type": "markdown",
   "metadata": {},
   "source": [
    "### How long does it take?\n",
    "\n",
    "Let's try a few different pivot strategies and also the sort-it-and-find-the-right-value strategy."
   ]
  },
  {
   "cell_type": "code",
   "execution_count": 13,
   "metadata": {},
   "outputs": [],
   "source": [
    "nVals = list(range(50, 3050, 100)) + list(range(3000, 5000, 500)) "
   ]
  },
  {
   "cell_type": "code",
   "execution_count": 14,
   "metadata": {},
   "outputs": [],
   "source": [
    "# run this cell when we have chooseRandomPivot in mySelect\n",
    "nValuesRandom, tValuesRandom = trySelectABunch(mySelect, Ns = nVals, numTrials=50, listMax = 100000)"
   ]
  },
  {
   "cell_type": "code",
   "execution_count": 15,
   "metadata": {},
   "outputs": [],
   "source": [
    "# Try this one when we have chooseMyFavoritePivot(A,0) in mySelect,\n",
    "# and then we'll choose the random=False flag in trySelectABunch, which chooses an array that's worst-case for the choice of p=0.\n",
    "# Only go up to 1000 since it takes too long...\n",
    "nValsSmall = range(50, 1000, 100)\n",
    "nValuesWorst, tValuesWorst = trySelectABunch(mySelect, Ns=nValsSmall, numTrials=25, listMax = 100000, random=False)"
   ]
  },
  {
   "cell_type": "code",
   "execution_count": 16,
   "metadata": {},
   "outputs": [],
   "source": [
    "# Try this one when we have chooseFancyFivePivot in mySelect; chooseFancyFivePivot is defined below, so come back to this.\n",
    "nValuesFancy, tValuesFancy = trySelectABunch(mySelect, Ns=nVals, numTrials=50, listMax = 100000)"
   ]
  },
  {
   "cell_type": "code",
   "execution_count": 17,
   "metadata": {},
   "outputs": [],
   "source": [
    "def mergeSortSelect(A,k):\n",
    "    A = mergeSort(A)\n",
    "    return A[k-1]"
   ]
  },
  {
   "cell_type": "code",
   "execution_count": 18,
   "metadata": {},
   "outputs": [],
   "source": [
    "# Now try mergeSortSelect\n",
    "nValuesMerge, tValuesMerge = trySelectABunch(mergeSortSelect, Ns=nVals, numTrials=50, listMax = 100000)"
   ]
  },
  {
   "cell_type": "code",
   "execution_count": 19,
   "metadata": {},
   "outputs": [
    {
     "data": {
      "text/plain": [
       "Text(0.5, 1.0, 'Selection')"
      ]
     },
     "execution_count": 19,
     "metadata": {},
     "output_type": "execute_result"
    },
    {
     "data": {
      "image/png": "[encoded data removed]",
      "text/plain": [
       "<Figure size 432x288 with 1 Axes>"
      ]
     },
     "metadata": {
      "needs_background": "light"
     },
     "output_type": "display_data"
    }
   ],
   "source": [
    "plt.plot(nValuesRandom, tValuesRandom, color=\"red\", label=\"SELECT with random pivot\")\n",
    "# Comment out the next line until you've generated nValuesFancy, tValuesFancy\n",
    "#plt.plot(nValuesFancy, tValuesFancy, \":\", color=\"green\", label=\"SELECT with (dumb impl. of) fancy pivot\")\n",
    "plt.plot(nValuesMerge, tValuesMerge, \"-.\", color=\"blue\", label=\"MergeSort SELECT\")\n",
    "plt.plot(nValuesWorst, tValuesWorst, \"--\", color=\"orange\", label=\"SELECT with worst pivot\")\n",
    "plt.xlabel(\"n\")\n",
    "plt.ylabel(\"Time(ms)\")\n",
    "plt.legend()\n",
    "plt.title(\"Selection\")"
   ]
  },
  {
   "cell_type": "markdown",
   "metadata": {},
   "source": [
    "Is it plausible that MergeSort-SELECT takes time O(nlog(n)) and fancy-SELECT takes time O(n), given the picture above?  Shouldn't the blue curve eventually go above the green curve?  Yes, but if the constant hiding inside the O(n) is like 20 (or rather, 20 times larger than the constant inside of the O(nlog(n))), that won't happen until n = 2^20 (which is really big, at least for my laptop).  The picture below shows that it *is* plausible that MergeSort-SELECT is O(nlog(n)) while fancy-SELECT is O(n)."
   ]
  },
  {
   "cell_type": "code",
   "execution_count": 20,
   "metadata": {},
   "outputs": [
    {
     "data": {
      "text/plain": [
       "<matplotlib.legend.Legend at 0x11b055438>"
      ]
     },
     "execution_count": 20,
     "metadata": {},
     "output_type": "execute_result"
    },
    {
     "data": {
      "image/png": "[encoded data removed]",
      "text/plain": [
       "<Figure size 432x288 with 1 Axes>"
      ]
     },
     "metadata": {
      "needs_background": "light"
     },
     "output_type": "display_data"
    }
   ],
   "source": [
    "xVals = range(1,5000)\n",
    "plt.plot( xVals, [(x*np.log(x)/np.log(2)) for x in xVals] , \"-.\",color=\"blue\", label=\"nlog(n)\" )\n",
    "plt.plot( xVals, [20*x for x in xVals], \":\",color = \"green\", label=\"20*n\")\n",
    "plt.legend()"
   ]
  },
  {
   "cell_type": "markdown",
   "metadata": {},
   "source": [
    "### Pivot-choosing strategy\n",
    "\n",
    "Here's the pivot-choosing strategy we discussed in class, which runs in time O(n) (plus a call to mySelect), and finds a pivot that's close to the median."
   ]
  },
  {
   "cell_type": "code",
   "execution_count": 21,
   "metadata": {},
   "outputs": [],
   "source": [
    "# first define a naive (nlog(n)-time) median algorithm to use for the groups of size 5.\n",
    "def naiveMedian(A):\n",
    "    A = mergeSort(A) # nlogn time sorting alg\n",
    "    return A[(len(A)/2).__trunc__()]\n",
    "\n",
    "# this is the final pivot selection algorithm described on the slides \n",
    "# (not implemented very slickly)\n",
    "# it finds a \"pretty good\" pivot (splits the array close to in half).\n",
    "# It runs in time O(n), in addition to a call to mySelect.\n",
    "def chooseFancyFivePivot(A):\n",
    "    # first, split A into n/5 groups, and find the median of each group.\n",
    "    current = 0\n",
    "    submedians = []\n",
    "    while current < len(A):\n",
    "        if current + 5 < len(A):\n",
    "            currentGrp = A[current:current+5]\n",
    "        else:\n",
    "            currentGrp = A[current:]\n",
    "        submedians.append( naiveMedian(currentGrp) )\n",
    "        current += 5\n",
    "    # now that we have our list of sub-medians, we'll find what the median is of those,\n",
    "    # using a recursive call to mySelect.\n",
    "    pivotVal = mySelect( submedians, (len(submedians)/2).__trunc__() )\n",
    "    # now we should actually return the index of pivotVal.  \n",
    "    # if we were being smart we would have implemented mySelect to just do this, \n",
    "    # but since we're interested in clarity and big-oh runtime, we'll just find the index in O(n) time.\n",
    "    for i in range(len(A)):\n",
    "        if A[i] == pivotVal:\n",
    "            return i\n",
    "    print(\"If we ever get to this stage, that's a problem!\")"
   ]
  },
  {
   "cell_type": "markdown",
   "metadata": {},
   "source": [
    "Now we can got back and plug this choosePivot function into our mySelect algorithm.\n",
    "\n",
    "(Seems to work)."
   ]
  },
  {
   "cell_type": "code",
   "execution_count": 22,
   "metadata": {},
   "outputs": [],
   "source": [
    "def testDifferentPivotMethods(n, trials=100, listMax = 1000):\n",
    "    rLst = [] # this will be the indices we return with the random pivot\n",
    "    fLst = [] # with a fancy pivot\n",
    "    for t in range(trials):\n",
    "        # generate a random list\n",
    "        A = [ choice(range(listMax)) for i in range(n) ]\n",
    "        # random pivot\n",
    "        rPivot = chooseRandomPivot(A)\n",
    "        rVal = A[rPivot]\n",
    "        # fancy pivot\n",
    "        fPivot = chooseFancyFivePivot(A)\n",
    "        fVal = A[fPivot]\n",
    "        # how good *are* these pivots?  \n",
    "        A.sort()\n",
    "        rLst.append(A.index(rVal))\n",
    "        fLst.append(A.index(fVal))\n",
    "    return rLst, fLst"
   ]
  },
  {
   "cell_type": "code",
   "execution_count": 23,
   "metadata": {},
   "outputs": [],
   "source": [
    "n = 101\n",
    "rLst, fLst = testDifferentPivotMethods(n, trials=500, listMax=1000)"
   ]
  },
  {
   "cell_type": "code",
   "execution_count": 24,
   "metadata": {},
   "outputs": [
    {
     "data": {
      "image/png": "[encoded data removed]",
      "text/plain": [
       "<Figure size 432x288 with 1 Axes>"
      ]
     },
     "metadata": {
      "needs_background": "light"
     },
     "output_type": "display_data"
    }
   ],
   "source": [
    " # now plot them\n",
    "plt.hist([fLst,rLst], label=[\"Fancy pivot\",\"Random pivot\"], color=[\"blue\",\"red\"],bins=40,range=(0,n))\n",
    "plt.xlabel(\"index returned (out of n=\" + str(n) + \")\")\n",
    "plt.ylabel(\"frequency\")\n",
    "plt.legend()\n",
    "plt.title(\"Pivot Selection Algs\")\n",
    "plt.show()"
   ]
  },
  {
   "cell_type": "code",
   "execution_count": null,
   "metadata": {
    "collapsed": true
   },
   "outputs": [],
   "source": []
  }
 ],
 "metadata": {
  "kernelspec": {
   "display_name": "Python 3",
   "language": "python",
   "name": "python3"
  },
  "language_info": {
   "codemirror_mode": {
    "name": "ipython",
    "version": 3
   },
   "file_extension": ".py",
   "mimetype": "text/x-python",
   "name": "python",
   "nbconvert_exporter": "python",
   "pygments_lexer": "ipython3",
   "version": "3.6.8"
  }
 },
 "nbformat": 4,
 "nbformat_minor": 1
}
