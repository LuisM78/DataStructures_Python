{
 "cells": [
  {
   "cell_type": "markdown",
   "metadata": {},
   "source": [
    "# Linked Lists\n",
    "\n",
    "## Implementing a Stack with a Singly Linked List"
   ]
  },
  {
   "cell_type": "code",
   "execution_count": 1,
   "metadata": {},
   "outputs": [],
   "source": [
    "class Empty(Exception):\n",
    "    \"\"\"Error attempting to access an element from an empty container.\"\"\"\n",
    "    pass"
   ]
  },
  {
   "cell_type": "code",
   "execution_count": 9,
   "metadata": {},
   "outputs": [],
   "source": [
    "class LinkedStack:\n",
    "    \"\"\"LIFO Stack implementation using a singly linked list for storage.\"\"\"\n",
    "    \n",
    "    #-------------------------- nested _Node class --------------------------\n",
    "    class _Node:\n",
    "        \"\"\"Lightweight, nonpublic class for storing a singly linked node.\"\"\"\n",
    "        __slots__ = '_element','_next'    # streamline memory usage\n",
    "    \n",
    "        def __init__(self,element,next):\n",
    "            self._element = element\n",
    "            self._next = next\n",
    "    \n",
    "    #------------------------------- stack methods -------------------------------\n",
    "    def __init__(self):\n",
    "        \"\"\"Create an empty stack.\"\"\"\n",
    "        self._head = None\n",
    "        self._size = 0\n",
    "    \n",
    "    def __len__(self):\n",
    "        \"\"\"Return the number of elements in the stack.\"\"\"\n",
    "        return self._size\n",
    "    \n",
    "    def is_empty(self):\n",
    "        \"\"\"Return True if the stack is empty.\"\"\"\n",
    "        return self._size == 0\n",
    "    \n",
    "    def push(self,e):\n",
    "        \"\"\"Add element e to the top of the stack.\"\"\"\n",
    "        self._head = self._Node(e,self._head)\n",
    "        self._size += 1\n",
    "        \n",
    "    def top(self):\n",
    "        \"\"\"Return (but do not remove) the element at the top of the stack.\n",
    "        \n",
    "        Raise Empty exception if the stack is empty.\n",
    "        \"\"\"\n",
    "        if self.is_empty():\n",
    "            raise Empty('Empty Stack')\n",
    "        return self._head._element      # top of stack is at head of list\n",
    "    \n",
    "    def pop(self):\n",
    "        \"\"\"Remove and return the element from the top of the stack (i.e., LIFO).\n",
    "        \n",
    "        Raise Empty exception if the stack is empty.\n",
    "        \"\"\"\n",
    "        if self.is_empty():\n",
    "            raise Empty('Empty Stack')\n",
    "        answer = self._head._element\n",
    "        self._head = self._head._next  # bypass the former top node\n",
    "        self._size -= 1\n",
    "        return answer\n",
    "        \n",
    "    "
   ]
  },
  {
   "cell_type": "code",
   "execution_count": 17,
   "metadata": {},
   "outputs": [
    {
     "data": {
      "text/plain": [
       "10"
      ]
     },
     "execution_count": 17,
     "metadata": {},
     "output_type": "execute_result"
    }
   ],
   "source": [
    "s = LinkedStack()\n",
    "s.push(10)      # O(1)\n",
    "s.push(20)\n",
    "len(s)          # O(1)\n",
    "s.is_empty()    # O(1)\n",
    "s.top()         # O(1)\n",
    "s.pop()         # O(1)\n",
    "s.top()"
   ]
  },
  {
   "cell_type": "markdown",
   "metadata": {},
   "source": [
    "## Implementing a Queue with a Singly Linked List"
   ]
  },
  {
   "cell_type": "code",
   "execution_count": 18,
   "metadata": {},
   "outputs": [],
   "source": [
    "class LinkedQueue:\n",
    "    \"\"\"FIFO Queue implementation using a singly linked list for storage.\"\"\"\n",
    "    \n",
    "    #-------------------------- nested _Node class --------------------------\n",
    "    class _Node:\n",
    "        \"\"\"Lightweight, nonpublic class for storing a singly linked node.\"\"\"\n",
    "        __slots__ = '_element','_next'    # streamline memory usage\n",
    "    \n",
    "        def __init__(self,element,next):\n",
    "            self._element = element\n",
    "            self._next = next\n",
    "    \n",
    "    #------------------------------- stack methods -------------------------------\n",
    "    def __init__(self):\n",
    "        \"\"\"Create an empty queue.\"\"\"\n",
    "        self._head = None\n",
    "        self._tail = None\n",
    "        self._size = 0\n",
    "    \n",
    "    def __len__(self):\n",
    "        \"\"\"Return the number of elements in the queue.\"\"\"\n",
    "        return self._size\n",
    "    \n",
    "    def is_empty(self):\n",
    "        \"\"\"Return True if the queue is empty.\"\"\"\n",
    "        return self._size == 0\n",
    "        \n",
    "    def first(self):\n",
    "        \"\"\"Return (but do not remove) the element at the front of the stack.\n",
    "        \n",
    "        Raise Empty exception if the stack is empty.\n",
    "        \"\"\"\n",
    "        if self.is_empty():\n",
    "            raise Empty('Empty Queue')\n",
    "        return self._head._element      # top of stack is at head of list\n",
    "    \n",
    "    def enqueue(self,e):\n",
    "        \"\"\"Add element e to the back of the queue.\"\"\"\n",
    "        new = self._Node(e,None)\n",
    "        if self.is_empty():\n",
    "            self._head = new\n",
    "        else:\n",
    "            self._tail._next = new\n",
    "        self._tail = new\n",
    "        self._size += 1\n",
    "        \n",
    "    def dequeue(self):\n",
    "        \"\"\"Remove and return the first element from queue (i.e., FIFO).\n",
    "        \n",
    "        Raise Empty exception if the stack is empty.\n",
    "        \"\"\"\n",
    "        if self.is_empty():\n",
    "            raise Empty('Empty Queue')\n",
    "        answer = self._head._element\n",
    "        self._head = self._head._next  # bypass the former top node\n",
    "        self._size -= 1\n",
    "        if self.is_empty():            # special case as queue is empty\n",
    "            self._tail = None          # removed head had been the tail\n",
    "        return answer"
   ]
  },
  {
   "cell_type": "code",
   "execution_count": 27,
   "metadata": {},
   "outputs": [
    {
     "data": {
      "text/plain": [
       "1"
      ]
     },
     "execution_count": 27,
     "metadata": {},
     "output_type": "execute_result"
    }
   ],
   "source": [
    "# all operations are O(1) time complexity at worst case\n",
    "q = LinkedQueue()\n",
    "q.enqueue(10)\n",
    "len(q)\n",
    "q.enqueue(20)\n",
    "len(q)\n",
    "q.first()\n",
    "q.is_empty()\n",
    "q.dequeue()\n",
    "len(q)"
   ]
  },
  {
   "cell_type": "markdown",
   "metadata": {},
   "source": [
    "## Implementing a Queue with a Circularly Linked List"
   ]
  },
  {
   "cell_type": "code",
   "execution_count": 5,
   "metadata": {},
   "outputs": [],
   "source": [
    "class CircularQueue:\n",
    "    \"\"\"Queue implementation using circularly linked list for storage.\"\"\"\n",
    "    \n",
    "    #-------------------------- nested _Node class --------------------------\n",
    "    class _Node:\n",
    "        \"\"\"Lightweight, nonpublic class for storing a singly linked node.\"\"\"\n",
    "        __slots__ = '_element','_next'    # streamline memory usage\n",
    "    \n",
    "        def __init__(self,element,next):\n",
    "            self._element = element\n",
    "            self._next = next\n",
    "            \n",
    "    def __init__(self):\n",
    "        \"\"\"Create an empty queue.\"\"\"\n",
    "        self._tail = None\n",
    "        self._size = 0\n",
    "        \n",
    "    def __len__(self):\n",
    "        \"\"\"Return the number of elements in the queue.\"\"\"\n",
    "        return self._size\n",
    "    \n",
    "    def is_empty(self):\n",
    "        \"\"\"Return True if the queue is empty.\"\"\"\n",
    "        return self._size == 0\n",
    "    \n",
    "    def first(self):\n",
    "        \"\"\"Return (but do not remove) the element at the front of the queue.\n",
    "        \n",
    "        Raise Empty exception if the queue is empty.\n",
    "        \"\"\"\n",
    "        if self.is_empty():\n",
    "            raise('Empty Queue')\n",
    "        head = self._tail._next\n",
    "        return head._element\n",
    "    \n",
    "    def dequeue(self):\n",
    "        \"\"\"Remove and return the first element of the queue (i.e., FIFO).\n",
    "        \n",
    "        Raise Empty exception if the queue is empty.\n",
    "        \"\"\"\n",
    "        if self.is_empty():\n",
    "            raise('Empty Queue')\n",
    "        answer = self._tail._next\n",
    "        if self._size == 1:\n",
    "            self._tail = None\n",
    "        else:\n",
    "            self._tail._next = answer._next\n",
    "        self._size -= 1\n",
    "        return answer._element\n",
    "        \n",
    "    def enqueue(self,e):\n",
    "        \"\"\"Add an element to the back of queue.\"\"\"\n",
    "        new = self._Node(e, None)\n",
    "        if self.is_empty():\n",
    "            new._next = new                            # initialize circularly\n",
    "        else:\n",
    "            new._next = self._tail._next\n",
    "            self._tail._next = new\n",
    "        self._tail = new\n",
    "        self._size += 1\n",
    "        \n",
    "    def rotate(self):\n",
    "        \"\"\"Rotate front element to the back of the queue.\"\"\"\n",
    "        if self._size > 0:\n",
    "            self._tail = self._tail._next              # old head becomes new tail\n",
    "        "
   ]
  },
  {
   "cell_type": "code",
   "execution_count": 20,
   "metadata": {},
   "outputs": [
    {
     "data": {
      "text/plain": [
       "10"
      ]
     },
     "execution_count": 20,
     "metadata": {},
     "output_type": "execute_result"
    }
   ],
   "source": [
    "q = CircularQueue()\n",
    "len(q)\n",
    "q.enqueue(10)\n",
    "len(q)\n",
    "q.first()\n",
    "q.enqueue(25)\n",
    "q.first()\n",
    "q.rotate()\n",
    "q.rotate()\n",
    "q.first()"
   ]
  },
  {
   "cell_type": "code",
   "execution_count": 11,
   "metadata": {},
   "outputs": [
    {
     "data": {
      "text/plain": [
       "[]"
      ]
     },
     "execution_count": 11,
     "metadata": {},
     "output_type": "execute_result"
    }
   ],
   "source": [
    "# Enumerate all primes to n\n",
    "def is_prime(n):\n",
    "    for i in range(3, n//2):\n",
    "        if n % i == 0 and n!=i:\n",
    "            return False\n",
    "    return True\n",
    "\n",
    "primes = []\n",
    "def list_primes(x):\n",
    "    \n",
    "    if x > 1:\n",
    "        primes.append(2)\n",
    "    for i in range(3,x,2):\n",
    "        if is_prime(i):\n",
    "            primes.append(i)\n",
    "    return primes  \n",
    "\n",
    "list_primes(1)"
   ]
  },
  {
   "cell_type": "code",
   "execution_count": 21,
   "metadata": {},
   "outputs": [
    {
     "data": {
      "text/plain": [
       "65"
      ]
     },
     "execution_count": 21,
     "metadata": {},
     "output_type": "execute_result"
    }
   ],
   "source": [
    "ord('A')"
   ]
  },
  {
   "cell_type": "code",
   "execution_count": 13,
   "metadata": {},
   "outputs": [
    {
     "data": {
      "text/plain": [
       "'4'"
      ]
     },
     "execution_count": 13,
     "metadata": {},
     "output_type": "execute_result"
    }
   ],
   "source": [
    "chr(52)"
   ]
  },
  {
   "cell_type": "code",
   "execution_count": 24,
   "metadata": {},
   "outputs": [
    {
     "data": {
      "text/plain": [
       "27"
      ]
     },
     "execution_count": 24,
     "metadata": {},
     "output_type": "execute_result"
    }
   ],
   "source": [
    "# Spreadsheet Column Encoding\n",
    "import functools\n",
    "def ss_decode_col_id(col):\n",
    "    return functools.reduce(lambda result, c: result * 26 + ord(c) - ord('A') + 1, col, 0)\n",
    "\n",
    "s = 'AA'\n",
    "ss_decode_col_id(s)"
   ]
  },
  {
   "cell_type": "code",
   "execution_count": 25,
   "metadata": {},
   "outputs": [
    {
     "name": "stdout",
     "output_type": "stream",
     "text": [
      "2\n"
     ]
    }
   ],
   "source": [
    "# Sample lambda\n",
    "\n",
    "col = [1,1]\n",
    "\n",
    "print(functools.reduce(lambda result, c: result + c, col))"
   ]
  },
  {
   "cell_type": "code",
   "execution_count": 1,
   "metadata": {},
   "outputs": [],
   "source": [
    "a = 10\n",
    "b = 20\n",
    "c = 30\n",
    "\n",
    "x, y , z = (a, b, c)"
   ]
  },
  {
   "cell_type": "code",
   "execution_count": 2,
   "metadata": {},
   "outputs": [
    {
     "name": "stdout",
     "output_type": "stream",
     "text": [
      "10 20 30\n"
     ]
    }
   ],
   "source": [
    "print(x,y,z)"
   ]
  },
  {
   "cell_type": "code",
   "execution_count": 5,
   "metadata": {},
   "outputs": [],
   "source": [
    "# EPI\n",
    "\n",
    "class ListNode:\n",
    "    \n",
    "    def __init__(self, data=0, next_node=None):\n",
    "        self.data = data\n",
    "        self.next = next_node    "
   ]
  },
  {
   "cell_type": "code",
   "execution_count": 6,
   "metadata": {},
   "outputs": [],
   "source": [
    "def merge_sorted_list(l1,l2):\n",
    "    dummy_head = tail = ListNode()\n",
    "    \n",
    "    while l1 and l2:\n",
    "        if l1.data < l2.data:\n",
    "            tail.next, l1 = l1, l1.next\n",
    "        else:\n",
    "            tail.next, l2 = l2, l2.next\n",
    "        tail = tail.next\n",
    "    tail.next = l1 or l2\n",
    "    return dummy_head.next"
   ]
  },
  {
   "cell_type": "code",
   "execution_count": 7,
   "metadata": {},
   "outputs": [],
   "source": [
    "# create first linked list: 1 -> 3 -> 10\n",
    "n3 = ListNode(10)\n",
    "n2 = ListNode(3, n3)\n",
    "n1 = ListNode(1, n2)\n",
    "L1 = n1\n",
    "\n",
    "# create second linked list: 5 -> 6 -> 9\n",
    "n6 = ListNode(9)\n",
    "n5 = ListNode(6, n6)\n",
    "n4 = ListNode(5, n5)\n",
    "L2 = n4"
   ]
  },
  {
   "cell_type": "code",
   "execution_count": 8,
   "metadata": {},
   "outputs": [
    {
     "name": "stdout",
     "output_type": "stream",
     "text": [
      "1 -> \n",
      "3 -> \n",
      "5 -> \n",
      "6 -> \n",
      "9 -> \n",
      "10 -> \n",
      "None\n"
     ]
    }
   ],
   "source": [
    "merged = merge_sorted_list(L1, L2)\n",
    "while merged != None:\n",
    "  print(str(merged.data) + ' -> ')\n",
    "  merged = merged.next\n",
    "print('None')"
   ]
  },
  {
   "cell_type": "code",
   "execution_count": 9,
   "metadata": {},
   "outputs": [],
   "source": [
    "n3 = ListNode(11)\n",
    "n7 = ListNode(7, n3)\n",
    "n2 = ListNode(7, n7)\n",
    "n1 = ListNode(5, n2)\n",
    "n6 = ListNode(3, n1)\n",
    "n5 = ListNode(2, n6)\n",
    "n4 = ListNode(2, n5)\n",
    "L3 = n4"
   ]
  },
  {
   "cell_type": "code",
   "execution_count": 10,
   "metadata": {},
   "outputs": [],
   "source": [
    "def list_nodes(L):\n",
    "    while L:\n",
    "        print(L.data)\n",
    "        L = L.next"
   ]
  },
  {
   "cell_type": "code",
   "execution_count": 11,
   "metadata": {},
   "outputs": [
    {
     "name": "stdout",
     "output_type": "stream",
     "text": [
      "2\n",
      "2\n",
      "3\n",
      "5\n",
      "7\n",
      "7\n",
      "11\n"
     ]
    }
   ],
   "source": [
    "list_nodes(L3)"
   ]
  },
  {
   "cell_type": "code",
   "execution_count": 12,
   "metadata": {},
   "outputs": [],
   "source": [
    "def rem_duplicate(L):\n",
    "    it = L\n",
    "    while it:\n",
    "        while it and it.data == it.next.data:\n",
    "            it.next = it.next.next\n",
    "            if it.data != it.next.data:\n",
    "                it = it.next\n",
    "    return L"
   ]
  },
  {
   "cell_type": "code",
   "execution_count": 13,
   "metadata": {},
   "outputs": [
    {
     "ename": "KeyboardInterrupt",
     "evalue": "",
     "output_type": "error",
     "traceback": [
      "\u001b[0;31m---------------------------------------------------------------------------\u001b[0m",
      "\u001b[0;31mKeyboardInterrupt\u001b[0m                         Traceback (most recent call last)",
      "\u001b[0;32m<ipython-input-13-108c5bef0628>\u001b[0m in \u001b[0;36m<module>\u001b[0;34m()\u001b[0m\n\u001b[0;32m----> 1\u001b[0;31m \u001b[0mrem_duplicate\u001b[0m\u001b[0;34m(\u001b[0m\u001b[0mL3\u001b[0m\u001b[0;34m)\u001b[0m\u001b[0;34m\u001b[0m\u001b[0m\n\u001b[0m",
      "\u001b[0;32m<ipython-input-12-5e4772d7068f>\u001b[0m in \u001b[0;36mrem_duplicate\u001b[0;34m(L)\u001b[0m\n\u001b[1;32m      2\u001b[0m     \u001b[0mit\u001b[0m \u001b[0;34m=\u001b[0m \u001b[0mL\u001b[0m\u001b[0;34m\u001b[0m\u001b[0m\n\u001b[1;32m      3\u001b[0m     \u001b[0;32mwhile\u001b[0m \u001b[0mit\u001b[0m\u001b[0;34m:\u001b[0m\u001b[0;34m\u001b[0m\u001b[0m\n\u001b[0;32m----> 4\u001b[0;31m         \u001b[0;32mwhile\u001b[0m \u001b[0mit\u001b[0m \u001b[0;32mand\u001b[0m \u001b[0mit\u001b[0m\u001b[0;34m.\u001b[0m\u001b[0mdata\u001b[0m \u001b[0;34m==\u001b[0m \u001b[0mit\u001b[0m\u001b[0;34m.\u001b[0m\u001b[0mnext\u001b[0m\u001b[0;34m.\u001b[0m\u001b[0mdata\u001b[0m\u001b[0;34m:\u001b[0m\u001b[0;34m\u001b[0m\u001b[0m\n\u001b[0m\u001b[1;32m      5\u001b[0m             \u001b[0mit\u001b[0m\u001b[0;34m.\u001b[0m\u001b[0mnext\u001b[0m \u001b[0;34m=\u001b[0m \u001b[0mit\u001b[0m\u001b[0;34m.\u001b[0m\u001b[0mnext\u001b[0m\u001b[0;34m.\u001b[0m\u001b[0mnext\u001b[0m\u001b[0;34m\u001b[0m\u001b[0m\n\u001b[1;32m      6\u001b[0m             \u001b[0;32mif\u001b[0m \u001b[0mit\u001b[0m\u001b[0;34m.\u001b[0m\u001b[0mdata\u001b[0m \u001b[0;34m!=\u001b[0m \u001b[0mit\u001b[0m\u001b[0;34m.\u001b[0m\u001b[0mnext\u001b[0m\u001b[0;34m.\u001b[0m\u001b[0mdata\u001b[0m\u001b[0;34m:\u001b[0m\u001b[0;34m\u001b[0m\u001b[0m\n",
      "\u001b[0;31mKeyboardInterrupt\u001b[0m: "
     ]
    }
   ],
   "source": [
    "rem_duplicate(L3)"
   ]
  },
  {
   "cell_type": "code",
   "execution_count": null,
   "metadata": {},
   "outputs": [],
   "source": []
  }
 ],
 "metadata": {
  "kernelspec": {
   "display_name": "Python 3",
   "language": "python",
   "name": "python3"
  },
  "language_info": {
   "codemirror_mode": {
    "name": "ipython",
    "version": 3
   },
   "file_extension": ".py",
   "mimetype": "text/x-python",
   "name": "python",
   "nbconvert_exporter": "python",
   "pygments_lexer": "ipython3",
   "version": "3.6.8"
  }
 },
 "nbformat": 4,
 "nbformat_minor": 2
}
