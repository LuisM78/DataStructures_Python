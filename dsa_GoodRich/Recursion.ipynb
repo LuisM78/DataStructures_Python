{
 "cells": [
  {
   "cell_type": "markdown",
   "metadata": {},
   "source": [
    "# Designing Recursive Algorithms\n",
    "1. Test for Base Cases\n",
    "\n",
    "    We begin by testing for a set of base cases (there should\n",
    "be at least one). These base cases should be defined so that every possible\n",
    "chain of recursive calls will eventually reach a base case, and the handling of\n",
    "each base case should not use recursion.\n",
    "\n",
    "2. Recur\n",
    "\n",
    "    If not a base case, we perform one or more recursive calls. This recursive\n",
    "step may involve a test that decides which of several possible recursive\n",
    "calls to make. We should define each possible recursive call so that it makes\n",
    "progress towards a base case."
   ]
  },
  {
   "cell_type": "code",
   "execution_count": 1,
   "metadata": {},
   "outputs": [
    {
     "data": {
      "text/plain": [
       "120"
      ]
     },
     "execution_count": 1,
     "metadata": {},
     "output_type": "execute_result"
    }
   ],
   "source": [
    "# Finding factorial of a number using r\n",
    "def factorial(n):\n",
    "    if n == 0:\n",
    "        return 1\n",
    "    else:\n",
    "        return n * factorial(n - 1)\n",
    "\n",
    "factorial(5) # O(n) runtime, as there are n+1 activations, each of which accounts for O(1) operations."
   ]
  },
  {
   "cell_type": "code",
   "execution_count": 6,
   "metadata": {},
   "outputs": [],
   "source": [
    "# Drawing English fuler\n",
    "def draw_line(tick_length, tick_label=''):\n",
    "    \"\"\"Draw one line with given tick length (followed by optional label).\"\"\"\n",
    "    line = '-' * tick_length\n",
    "    if tick_label:\n",
    "        line += ' '+ tick_label\n",
    "    print(line)\n",
    "\n",
    "def draw_interval(center_length):\n",
    "    \"\"\"Draw tick interval based upon a central tick length.\"\"\"\n",
    "    if center_length > 0: # stop when length drops to 0\n",
    "        draw_interval(center_length - 1) # recursively draw top ticks\n",
    "        draw_line(center_length) # draw center tick\n",
    "        draw_interval(center_length - 1) # recursively draw bottom ticks\n",
    "\n",
    "def draw_ruler(num_inches, major_length):\n",
    "    \"\"\"Draw English ruler with given number of inches, major tick length.\"\"\"\n",
    "    draw_line(major_length, 0 ) # draw inch 0 line\n",
    "    for j in range(1, 1 + num_inches):\n",
    "        draw_interval(major_length - 1) # draw interior ticks for inch\n",
    "        draw_line(major_length, str(j)) # draw inch j line and label"
   ]
  },
  {
   "cell_type": "code",
   "execution_count": 8,
   "metadata": {},
   "outputs": [
    {
     "name": "stdout",
     "output_type": "stream",
     "text": [
      "----\n",
      "-\n",
      "--\n",
      "-\n",
      "---\n",
      "-\n",
      "--\n",
      "-\n",
      "---- 1\n",
      "-\n",
      "--\n",
      "-\n",
      "---\n",
      "-\n",
      "--\n",
      "-\n",
      "---- 2\n"
     ]
    }
   ],
   "source": [
    "draw_ruler(2,4)"
   ]
  },
  {
   "cell_type": "code",
   "execution_count": 10,
   "metadata": {},
   "outputs": [],
   "source": [
    "# Binary Search, O(logn), Sequencial search takes O(n)\n",
    "def binary_search(data, target, low, high):\n",
    "    if low > high:\n",
    "        return False\n",
    "    else:\n",
    "        mid = (low + high) // 2\n",
    "        if target == data[mid]:\n",
    "            return True\n",
    "        if target < data[mid]:\n",
    "            return binary_search(data, target, low, mid - 1)\n",
    "        else:\n",
    "            return binary_search(data, target, mid + 1, high)\n",
    "            "
   ]
  },
  {
   "cell_type": "code",
   "execution_count": 12,
   "metadata": {},
   "outputs": [
    {
     "data": {
      "text/plain": [
       "False"
      ]
     },
     "execution_count": 12,
     "metadata": {},
     "output_type": "execute_result"
    }
   ],
   "source": [
    "data = [2,4,5,7,8,9]\n",
    "target = 6\n",
    "binary_search(data, target, 0, 5)"
   ]
  },
  {
   "cell_type": "code",
   "execution_count": 14,
   "metadata": {},
   "outputs": [
    {
     "data": {
      "text/plain": [
       "False"
      ]
     },
     "execution_count": 14,
     "metadata": {},
     "output_type": "execute_result"
    }
   ],
   "source": [
    "# Iterative Binary Search\n",
    "def binary_search_it(data, target, low, high):\n",
    "    low = 0\n",
    "    high = len(data) - 1\n",
    "    while low <= high:\n",
    "        mid = (low + high) // 2\n",
    "        if target == data[mid]:\n",
    "            return True\n",
    "        if target < data[mid]:\n",
    "            high = mid - 1\n",
    "        else:\n",
    "            low = mid + 1\n",
    "    return False\n",
    "\n",
    "data = [2,4,5,7,8,9]\n",
    "target = 6\n",
    "binary_search_it(data, target, 0, 5)"
   ]
  },
  {
   "cell_type": "code",
   "execution_count": 21,
   "metadata": {},
   "outputs": [],
   "source": [
    "# A recursive function for reporting disk usage of a file system.\n",
    "\n",
    "import os\n",
    "\n",
    "def disk_usage(path):\n",
    "    \"\"\"Return the number of bytes used by a file/folder and any descendents.\"\"\"\n",
    "    total = os.path.getsize(path) # account for direct usage\n",
    "    if os.path.isdir(path): # if this is a directory,\n",
    "        for filename in os.listdir(path): # then for each child:\n",
    "            childpath = os.path.join(path, filename) # compose full path to child\n",
    "            total += disk_usage(childpath) # add child’s usage to total\n",
    "    print('{0:<7}'.format(total), path) # descriptive output (optional)\n",
    "    return total"
   ]
  },
  {
   "cell_type": "code",
   "execution_count": 22,
   "metadata": {},
   "outputs": [
    {
     "name": "stdout",
     "output_type": "stream",
     "text": [
      "1308    /Users/sbk/dsa_python/Untitled.ipynb\n",
      "5916    /Users/sbk/dsa_python/Recursion.ipynb\n",
      "51220   /Users/sbk/dsa_python/Python Primer.ipynb\n",
      "72      /Users/sbk/dsa_python/.ipynb_checkpoints/Recursion-checkpoint.ipynb\n",
      "72      /Users/sbk/dsa_python/.ipynb_checkpoints/Object-Oriented Programming-checkpoint.ipynb\n",
      "72      /Users/sbk/dsa_python/.ipynb_checkpoints/Python Primer-checkpoint.ipynb\n",
      "72      /Users/sbk/dsa_python/.ipynb_checkpoints/Untitled-checkpoint.ipynb\n",
      "72      /Users/sbk/dsa_python/.ipynb_checkpoints/Algorithm Analysis-checkpoint.ipynb\n",
      "584     /Users/sbk/dsa_python/.ipynb_checkpoints\n",
      "9166    /Users/sbk/dsa_python/Algorithm Analysis.ipynb\n",
      "13674   /Users/sbk/dsa_python/Object-Oriented Programming.ipynb\n",
      "82124   /Users/sbk/dsa_python\n"
     ]
    },
    {
     "data": {
      "text/plain": [
       "82124"
      ]
     },
     "execution_count": 22,
     "metadata": {},
     "output_type": "execute_result"
    }
   ],
   "source": [
    "disk_usage('/Users/sbk/dsa_python') # O(n)"
   ]
  },
  {
   "cell_type": "markdown",
   "metadata": {},
   "source": [
    "## Recursion run Amok"
   ]
  },
  {
   "cell_type": "code",
   "execution_count": 8,
   "metadata": {},
   "outputs": [],
   "source": [
    "def unique3(S, start, stop):\n",
    "    \"\"\"Return True if there are no duplicate elements in slice S[start:stop].\"\"\"\n",
    "    print(start,stop)\n",
    "    if stop - start <= 1: return True # at most one item\n",
    "    elif not unique3(S, start, stop-1): return False # first part has duplicate\n",
    "    elif not unique3(S, start+1, stop): return False # second part has duplicate\n",
    "    else: return S[start] != S[stop-1]"
   ]
  },
  {
   "cell_type": "code",
   "execution_count": 9,
   "metadata": {},
   "outputs": [
    {
     "name": "stdout",
     "output_type": "stream",
     "text": [
      "2 6\n",
      "2 5\n",
      "2 4\n",
      "2 3\n",
      "3 4\n"
     ]
    },
    {
     "data": {
      "text/plain": [
       "False"
      ]
     },
     "execution_count": 9,
     "metadata": {},
     "output_type": "execute_result"
    }
   ],
   "source": [
    "s = [1,2,4,4,5,6,7]\n",
    "unique3(s,s[1],s[5]) # O(2^n)"
   ]
  },
  {
   "cell_type": "code",
   "execution_count": 12,
   "metadata": {},
   "outputs": [],
   "source": [
    "# fibonacci Series\n",
    "def bad_fibonacci(n):\n",
    "    \"\"\"Return the nth Fibonacci number.\"\"\"\n",
    "    if n <= 1: \n",
    "        return n\n",
    "    else:\n",
    "        return bad_fibonacci(n-2) + bad_fibonacci(n-1)"
   ]
  },
  {
   "cell_type": "code",
   "execution_count": 22,
   "metadata": {},
   "outputs": [
    {
     "name": "stdout",
     "output_type": "stream",
     "text": [
      "CPU times: user 2.67 ms, sys: 12 µs, total: 2.68 ms\n",
      "Wall time: 2.71 ms\n"
     ]
    },
    {
     "data": {
      "text/plain": [
       "6765"
      ]
     },
     "execution_count": 22,
     "metadata": {},
     "output_type": "execute_result"
    }
   ],
   "source": [
    "time bad_fibonacci(20) # exponential running time"
   ]
  },
  {
   "cell_type": "code",
   "execution_count": 2,
   "metadata": {},
   "outputs": [],
   "source": [
    "# Fibonacci using linear recursion\n",
    "def good_fibonacci(n):\n",
    "    \"\"\"Return pair of Fibonacci numbers, F(n) and F(n-1).\"\"\"\n",
    "    if n <= 1:\n",
    "        return (n,0)\n",
    "    else:\n",
    "        (a, b) = good_fibonacci(n-1)\n",
    "        return (a+b, a)"
   ]
  },
  {
   "cell_type": "code",
   "execution_count": 3,
   "metadata": {},
   "outputs": [
    {
     "name": "stdout",
     "output_type": "stream",
     "text": [
      "CPU times: user 12 µs, sys: 4 µs, total: 16 µs\n",
      "Wall time: 20 µs\n"
     ]
    },
    {
     "data": {
      "text/plain": [
       "(6765, 4181)"
      ]
     },
     "execution_count": 3,
     "metadata": {},
     "output_type": "execute_result"
    }
   ],
   "source": [
    "time good_fibonacci(20) # O(n)"
   ]
  },
  {
   "cell_type": "code",
   "execution_count": 1,
   "metadata": {},
   "outputs": [],
   "source": [
    "# Maximum Recursive Depth in Python\n",
    "def fib(n):\n",
    "    return fib(n)\n",
    "# fib(10)"
   ]
  },
  {
   "cell_type": "code",
   "execution_count": 32,
   "metadata": {},
   "outputs": [],
   "source": [
    "# changing of depth\n",
    "import sys\n",
    "\n",
    "old = sys.getrecursionlimit() # perhaps 1000 is typical\n",
    "sys.setrecursionlimit(1000000) # change to allow 1 million nested calls"
   ]
  },
  {
   "cell_type": "markdown",
   "metadata": {},
   "source": [
    "## Linear Recursion\n",
    "If a recursive function is designed so that each invocation of the body makes at\n",
    "most one new recursive call, this is know as linear recursion."
   ]
  },
  {
   "cell_type": "code",
   "execution_count": 34,
   "metadata": {},
   "outputs": [
    {
     "name": "stdout",
     "output_type": "stream",
     "text": [
      "24\n",
      "1.6689300537109375e-06\n"
     ]
    }
   ],
   "source": [
    "# Summing the Elements of a Sequence Recursively\n",
    "import time\n",
    "def sum_number(S, n):\n",
    "    start = time.time()\n",
    "    i = 0\n",
    "    n_sum = 0\n",
    "    while i < n:\n",
    "        n_sum = n_sum + S[i]\n",
    "        i = i + 1\n",
    "    end = time.time()\n",
    "    e_time = end-start\n",
    "    return n_sum,e_time\n",
    "\n",
    "S = [4,3,8,9,10,5,7]\n",
    "res,e_time = sum_number(S,4)\n",
    "print(res)\n",
    "print(e_time)"
   ]
  },
  {
   "cell_type": "code",
   "execution_count": 33,
   "metadata": {},
   "outputs": [
    {
     "name": "stdout",
     "output_type": "stream",
     "text": [
      "24\n",
      "0.00021123886108398438\n"
     ]
    }
   ],
   "source": [
    "# Summing the Elements of a Sequence Recursively, using recursion\n",
    "\n",
    "def lin_sum(S,n): # O(n), Time and Space, we can improve space complexity\n",
    "    \"\"\"”””Return the sum of the first n numbers of sequence S.\"\"\"\n",
    "    if n == 0:\n",
    "        return n\n",
    "    else:\n",
    "        return lin_sum(S, n-1) + S[n-1] \n",
    "\n",
    "S = [4,3,8,9,10,5,7]\n",
    "start = time.time()\n",
    "print(lin_sum(S,4))\n",
    "end = time.time()\n",
    "e_time = end - start\n",
    "print(e_time)\n",
    "    "
   ]
  },
  {
   "cell_type": "code",
   "execution_count": 63,
   "metadata": {},
   "outputs": [
    {
     "name": "stdout",
     "output_type": "stream",
     "text": [
      "[7, 5, 10, 9, 8, 3, 4]\n"
     ]
    }
   ],
   "source": [
    "# Reversing a Sequence\n",
    "def reverse_s(S):\n",
    "    r = []\n",
    "    i = len(S) - 1\n",
    "    while i >= 0:\n",
    "        r.append(S[i])\n",
    "        i = i - 1\n",
    "    return r\n",
    "\n",
    "S = [4,3,8,9,10,5,7]\n",
    "print(reverse_s(S))\n",
    "        "
   ]
  },
  {
   "cell_type": "code",
   "execution_count": 71,
   "metadata": {},
   "outputs": [
    {
     "name": "stdout",
     "output_type": "stream",
     "text": [
      "[7, 5, 10, 9, 8, 3, 4]\n"
     ]
    }
   ],
   "source": [
    "def reverse_s(S):\n",
    "    r = []\n",
    "    i = len(S) - 1\n",
    "    while i >= 0:\n",
    "        r.append(S[i])\n",
    "        i = i - 1\n",
    "    return r\n",
    "\n",
    "S = [4,3,8,9,10,5,7]\n",
    "print(reverse_s(S)) # O(n)"
   ]
  },
  {
   "cell_type": "code",
   "execution_count": 75,
   "metadata": {},
   "outputs": [
    {
     "name": "stdout",
     "output_type": "stream",
     "text": [
      "[7, 5, 10, 9, 8, 3, 4]\n"
     ]
    }
   ],
   "source": [
    "def reverse_sf(S):\n",
    "    r = []\n",
    "    for i in range(len(S)):\n",
    "        r.append(S[len(S) - 1 - i])\n",
    "    return r\n",
    "\n",
    "S = [4,3,8,9,10,5,7]\n",
    "print(reverse_sf(S)) # O(n)"
   ]
  },
  {
   "cell_type": "code",
   "execution_count": 18,
   "metadata": {},
   "outputs": [
    {
     "name": "stdout",
     "output_type": "stream",
     "text": [
      "[7, 5, 10, 9, 8, 3, 4]\n"
     ]
    }
   ],
   "source": [
    "# reversing the n elements of a sequence\n",
    "def reverse_rec_it(S, start, stop):\n",
    "    \"\"\"Reverse elements in implicit slice S[start:stop].\"\"\"\n",
    "    while start < stop - 1:\n",
    "        S[start],S[stop - 1] = S[stop - 1], S[start]\n",
    "        start, stop = start + 1, stop - 1\n",
    "    return S\n",
    "S = [4,3,8,9,10,5,7]\n",
    "print(reverse_rec_it(S,0,7)) # 0(1 + n/2)"
   ]
  },
  {
   "cell_type": "code",
   "execution_count": null,
   "metadata": {},
   "outputs": [],
   "source": [
    "# reversing the n elements of a sequence using iterative way\n",
    "def reverse_rec(S, start, stop):\n",
    "    \"\"\"Reverse elements in implicit slice S[start:stop].\"\"\"\n",
    "    if start < stop - 1:\n",
    "        S[start],S[stop - 1] = S[stop - 1], S[start]\n",
    "        reverse_rec(S, start+1, stop-1)\n",
    "    return S\n",
    "S = [4,3,8,9,10,5,7]\n",
    "print(reverse_rec(S,1,6)) # 0(1 + n/2)"
   ]
  },
  {
   "cell_type": "code",
   "execution_count": 82,
   "metadata": {},
   "outputs": [
    {
     "name": "stdout",
     "output_type": "stream",
     "text": [
      "100\n",
      "100\n"
     ]
    }
   ],
   "source": [
    "def power(x, n):\n",
    "    res = 1\n",
    "    while n > 0:\n",
    "        res = res * x\n",
    "    return res\n",
    "print(pow(10,2))\n",
    "    \n",
    "\n",
    "# Recursive Algorithms for Computing Powers\n",
    "\n",
    "def power(x, n):\n",
    "    if n == 0:\n",
    "        return 1\n",
    "    else:\n",
    "        return x * power(x, n-1)\n",
    "print(pow(10,2)) # O(n)"
   ]
  },
  {
   "cell_type": "code",
   "execution_count": 10,
   "metadata": {},
   "outputs": [
    {
     "name": "stdout",
     "output_type": "stream",
     "text": [
      "\n",
      "Result: 8192\n"
     ]
    }
   ],
   "source": [
    "def power(x,n):\n",
    "    \"\"\"Compute the value x**n for integer n.\"\"\"\n",
    "    if n==0:\n",
    "        return 1\n",
    "    else:\n",
    "        partial = power(x, n//2)\n",
    "        res = partial * partial\n",
    "        if n % 2 == 1:\n",
    "            res *= x\n",
    "        return res\n",
    "    \n",
    "print('\\nResult:',power(2,13)) # O(logn)\n",
    "            "
   ]
  },
  {
   "cell_type": "code",
   "execution_count": 11,
   "metadata": {},
   "outputs": [
    {
     "name": "stdout",
     "output_type": "stream",
     "text": [
      "35\n"
     ]
    }
   ],
   "source": [
    "# Imporoved Space Complexity O(logn) for summing of n elements in a sequence , \n",
    "# Binary Recursion\n",
    "def bin_sum(S,start,stop):\n",
    "    \"\"\"Return the sum of the numbers in implicit slice S[start:stop].\"\"\"\n",
    "    if start >= stop:\n",
    "        return 0\n",
    "    elif start == stop - 1:\n",
    "        return S[start]\n",
    "    else:\n",
    "        mid = (start + stop) // 2\n",
    "        return bin_sum(S,start,mid) + bin_sum(S,mid,stop)\n",
    "\n",
    "    S = [4,3,8,9,10,5,7]\n",
    "print(bin_sum(S,1,6))     "
   ]
  },
  {
   "cell_type": "code",
   "execution_count": null,
   "metadata": {},
   "outputs": [],
   "source": []
  }
 ],
 "metadata": {
  "kernelspec": {
   "display_name": "Python 3",
   "language": "python",
   "name": "python3"
  },
  "language_info": {
   "codemirror_mode": {
    "name": "ipython",
    "version": 3
   },
   "file_extension": ".py",
   "mimetype": "text/x-python",
   "name": "python",
   "nbconvert_exporter": "python",
   "pygments_lexer": "ipython3",
   "version": "3.7.0"
  }
 },
 "nbformat": 4,
 "nbformat_minor": 2
}
