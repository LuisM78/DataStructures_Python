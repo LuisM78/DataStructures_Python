{
 "cells": [
  {
   "cell_type": "code",
   "execution_count": 1,
   "metadata": {},
   "outputs": [
    {
     "name": "stdout",
     "output_type": "stream",
     "text": [
      "3.504753112792969e-05\n"
     ]
    }
   ],
   "source": [
    "from time import time\n",
    "\n",
    "start_time = time()\n",
    "maxx = max(1,20,30)\n",
    "end_time = time()\n",
    "total_time = end_time - start_time\n",
    "print(total_time)"
   ]
  },
  {
   "cell_type": "code",
   "execution_count": 3,
   "metadata": {},
   "outputs": [
    {
     "name": "stdout",
     "output_type": "stream",
     "text": [
      "5\n",
      "4\n"
     ]
    }
   ],
   "source": [
    "# Constant Functions\n",
    "data = [1,2,3,4,5]\n",
    "n = len(data) # O(1), list class maintains, for each list, an instance variable that records the current length of the list.\n",
    "print(n)\n",
    "\n",
    "x = data[3] # O(1), validating the index, and using it as an offset into the underlying array\n",
    "print(x)"
   ]
  },
  {
   "cell_type": "code",
   "execution_count": 6,
   "metadata": {},
   "outputs": [
    {
     "name": "stdout",
     "output_type": "stream",
     "text": [
      "5\n"
     ]
    }
   ],
   "source": [
    "# finding maximujm number from a list\n",
    "def find_max(data):\n",
    "    \"\"\"Return the maximum element from a nonempty Python list.\"\"\"\n",
    "    biggest = data[0] # O(1)\n",
    "    for val in data: # O(n)\n",
    "        if val > biggest: \n",
    "            biggest = val # O(log n)\n",
    "    return biggest # O(1)\n",
    "\n",
    "print(find_max(data)) # O(n)"
   ]
  },
  {
   "cell_type": "markdown",
   "metadata": {},
   "source": [
    "### Prefix Averages\n",
    "Namely, given a sequence S consisting of n numbers,\n",
    "we want to compute a sequence A such that A[ j] is the average of elements\n",
    "S[0], . . . ,S[ j], for j = 0,1 . . . ,n−1"
   ]
  },
  {
   "cell_type": "code",
   "execution_count": 7,
   "metadata": {},
   "outputs": [
    {
     "name": "stdout",
     "output_type": "stream",
     "text": [
      "[10.0, 15.0, 20.0, 25.0, 30.0]\n"
     ]
    }
   ],
   "source": [
    "# finding prefix averages, Implementation 1, Quadratic Time Algorithm\n",
    "def prefix_average1(S):\n",
    "    \"\"\"Return list such that, for all j, A[j] equals average of S[0], ..., S[j].\"\"\"\n",
    "    n = len(S) # O(1)\n",
    "    A = [0] * n # O(n), This uses a constant number of primitive operations per element,\n",
    "    for j in range(n): # O(n)\n",
    "        total = 0 \n",
    "        for i in range(j + 1):\n",
    "            total += S[i] # executed 1+2+3+· · ·+n times, (n*(n+1))/2, O(n^2)\n",
    "        A[j] = total / (j+1)\n",
    "    return A\n",
    "\n",
    "data = [10,20,30,40,50]\n",
    "res = prefix_average1(data) # O(n^2)\n",
    "print(res)"
   ]
  },
  {
   "cell_type": "code",
   "execution_count": 9,
   "metadata": {},
   "outputs": [
    {
     "name": "stdout",
     "output_type": "stream",
     "text": [
      "[10.0, 15.0, 20.0, 25.0, 30.0]\n"
     ]
    }
   ],
   "source": [
    "# finding prefix averages, Implementation 2, Quadratic Time Algorithm\n",
    "def prefix_average2(S):\n",
    "    \"\"\"Return list such that, for all j, A[j] equals average of S[0], ..., S[j].\"\"\"\n",
    "    n = len(S) # O(1)\n",
    "    A = [0] * n # O(n), This uses a constant number of primitive operations per element,\n",
    "    for j in range(n): # O(n)\n",
    "        A[j] = sum(S[0:j+1]) / (j+1) # O(n^2)\n",
    "    return A\n",
    "\n",
    "data = [10,20,30,40,50]\n",
    "res = prefix_average2(data) # O(n^2)\n",
    "print(res)"
   ]
  },
  {
   "cell_type": "code",
   "execution_count": 10,
   "metadata": {},
   "outputs": [
    {
     "name": "stdout",
     "output_type": "stream",
     "text": [
      "[10.0, 15.0, 20.0, 25.0, 30.0]\n"
     ]
    }
   ],
   "source": [
    "# finding prefix averages, Implementation 3, Linear Time Algorithm\n",
    "def prefix_average3(S):\n",
    "    \"\"\"Return list such that, for all j, A[j] equals average of S[0], ..., S[j].\"\"\"\n",
    "    n = len(S) # O(1)\n",
    "    A = [0] * n # O(n), This uses a constant number of primitive operations per element,\n",
    "    total = 0\n",
    "    for j in range(n): # O(n)\n",
    "        total += S[j]\n",
    "        A[j] = total / (j + 1)\n",
    "    return A\n",
    "\n",
    "data = [10,20,30,40,50]\n",
    "res = prefix_average3(data) # O(n)\n",
    "print(res)"
   ]
  },
  {
   "cell_type": "markdown",
   "metadata": {},
   "source": [
    "### Three-Way Set Disjointness\n",
    "The three-way set disjointness\n",
    "problem is to determine if the intersection of the three sequences is empty, namely,\n",
    "that there is no element x such that x ∈ A, x ∈ B, and x ∈ C."
   ]
  },
  {
   "cell_type": "code",
   "execution_count": 20,
   "metadata": {},
   "outputs": [
    {
     "name": "stdout",
     "output_type": "stream",
     "text": [
      "True\n"
     ]
    }
   ],
   "source": [
    "def disjoint1(A, B, C):\n",
    "    \"\"\"Return True if there is no element common to all three lists.\"\"\"\n",
    "    for a in A:\n",
    "        for b in B:\n",
    "            for c in C:\n",
    "                if a == b == c:\n",
    "                    return False # we found a common value\n",
    "    return True # if we reach this, sets are disjoint\n",
    "\n",
    "a = [10,20,30]\n",
    "b = [11,22,33]\n",
    "c = [11,22,33]\n",
    "print(disjoint1(a,b,c)) # Worst Case runtime is O(n^3)"
   ]
  },
  {
   "cell_type": "code",
   "execution_count": 22,
   "metadata": {},
   "outputs": [
    {
     "name": "stdout",
     "output_type": "stream",
     "text": [
      "False\n"
     ]
    }
   ],
   "source": [
    "def disjoint1(A, B, C):\n",
    "    \"\"\"Return True if there is no element common to all three lists.\"\"\"\n",
    "    for a in A:\n",
    "        for b in B:\n",
    "            if a == b: # O(n^2), at most n pairs of (a,b)\n",
    "                for c in C: # O(n^2)\n",
    "                    if b == c:\n",
    "                        return False # we found a common value\n",
    "    return True # if we reach this, sets are disjoint\n",
    "\n",
    "a = [11,20,30]\n",
    "b = [11,22,33]\n",
    "c = [11,22,33]\n",
    "print(disjoint1(a,b,c)) # Worst Case runtime is O(n^2)"
   ]
  },
  {
   "cell_type": "markdown",
   "metadata": {},
   "source": [
    "### Element Uniqueness\n",
    "given a single sequence S with n elements and find\n",
    "whether all elements of that collection are distinct from each other."
   ]
  },
  {
   "cell_type": "code",
   "execution_count": 25,
   "metadata": {},
   "outputs": [
    {
     "name": "stdout",
     "output_type": "stream",
     "text": [
      "False\n"
     ]
    }
   ],
   "source": [
    "def unique1(S):\n",
    "    \"\"\"Return True if there are no duplicate elements in sequence S.\"\"\"\n",
    "    for j in range(len(S)):\n",
    "        for k in range(j+1, len(S)):\n",
    "            if S[j] == S[k]: # O(n^2)\n",
    "                return False # found duplicate pair\n",
    "    return True\n",
    "\n",
    "data = [1,2,3,4,5,5]\n",
    "print(unique1(data)) # O(N^2)"
   ]
  },
  {
   "cell_type": "code",
   "execution_count": 28,
   "metadata": {},
   "outputs": [
    {
     "name": "stdout",
     "output_type": "stream",
     "text": [
      "True\n"
     ]
    }
   ],
   "source": [
    "def unique1(S):\n",
    "    \"\"\"Return True if there are no duplicate elements in sequence S.\"\"\"\n",
    "    temp = sorted(S) # worst-case running time of O(nlogn)\n",
    "    for j in range(1, len(S)):\n",
    "        if S[j-1] == S[j]: # O(n)\n",
    "            return False\n",
    "    return True\n",
    "\n",
    "data = [1,2,3,4,5]\n",
    "print(unique1(data)) # O(nlogn)"
   ]
  },
  {
   "cell_type": "code",
   "execution_count": 29,
   "metadata": {},
   "outputs": [
    {
     "name": "stdout",
     "output_type": "stream",
     "text": [
      "2\n"
     ]
    }
   ],
   "source": [
    "# Algorithm for finding the first index at which a given element occurs in a Python list.\n",
    "def find(S, val):\n",
    "    \"\"\"Return index j such that S[j] == val, or -1 if no such element.\"\"\"\n",
    "    n = len(S)\n",
    "    j = 0\n",
    "    while j < n:\n",
    "        if S[j] == val:\n",
    "            return j\n",
    "        j += 1\n",
    "    return -11\n",
    "\n",
    "data = [1, 2, 3, 4, 5, 3, 4]\n",
    "res = find(data,3)\n",
    "print(res)"
   ]
  },
  {
   "cell_type": "code",
   "execution_count": null,
   "metadata": {},
   "outputs": [],
   "source": []
  }
 ],
 "metadata": {
  "kernelspec": {
   "display_name": "Python 3",
   "language": "python",
   "name": "python3"
  },
  "language_info": {
   "codemirror_mode": {
    "name": "ipython",
    "version": 3
   },
   "file_extension": ".py",
   "mimetype": "text/x-python",
   "name": "python",
   "nbconvert_exporter": "python",
   "pygments_lexer": "ipython3",
   "version": "3.7.0"
  }
 },
 "nbformat": 4,
 "nbformat_minor": 2
}
