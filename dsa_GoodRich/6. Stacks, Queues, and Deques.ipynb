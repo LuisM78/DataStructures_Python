{
 "cells": [
  {
   "cell_type": "markdown",
   "metadata": {},
   "source": [
    "## Stack"
   ]
  },
  {
   "cell_type": "code",
   "execution_count": 4,
   "metadata": {},
   "outputs": [],
   "source": [
    "class Empty(Exception):\n",
    "    \"\"\"Error attempting to access an element from an empty container.\"\"\"\n",
    "    pass"
   ]
  },
  {
   "cell_type": "code",
   "execution_count": 3,
   "metadata": {},
   "outputs": [
    {
     "name": "stdout",
     "output_type": "stream",
     "text": [
      "2\n",
      "6\n",
      "False\n",
      "6\n",
      "False\n",
      "5\n",
      "True\n",
      "2\n"
     ]
    }
   ],
   "source": [
    "class ArrayStack:\n",
    "    \"\"\"LIFO Stack implementation using a Python list as underlying storage.\"\"\"\n",
    "    \n",
    "    def __init__(self):\n",
    "        \"\"\"Create an empty stack.\"\"\"\n",
    "        self._data = []\n",
    "        \n",
    "    def __len__(self):\n",
    "        \"\"\"Return the number of elements in the stack.\"\"\"\n",
    "        return len(self._data)\n",
    "    \n",
    "    def is_empty(self):\n",
    "        \"\"\"Return True if the stack is empty.\"\"\"\n",
    "        return len(self._data) == 0\n",
    "    \n",
    "    def push(self, e):\n",
    "        \"\"\"Add element e to the top of the stack.\"\"\"\n",
    "        self._data.append(e)\n",
    "        \n",
    "    def pop(self):\n",
    "        \"\"\"Remove and return the element from the top of the stack (i.e., LIFO).\n",
    "        Raise Empty exception if the stack is empty.\n",
    "        \"\"\"\n",
    "        if self.is_empty():\n",
    "            raise Empty('Stack is Empty')\n",
    "        return self._data.pop() \n",
    "    \n",
    "    def top(self):\n",
    "        \"\"\"Return (but do not remove) the element at the top of the stack.\n",
    "        \n",
    "        Raise Empty exception if the stack is empty.\n",
    "        \"\"\"\n",
    "        if self.is_empty():\n",
    "            raise Empty('Stack is Empty')\n",
    "        return self._data[-1]\n",
    "    \n",
    "if __name__ == '__main__':\n",
    "    s = ArrayStack()\n",
    "    s.push(5)\n",
    "    s.push(6)\n",
    "    print(len(s))\n",
    "    print(s.top())\n",
    "    print(s.is_empty())\n",
    "    print(s.pop())\n",
    "    print(s.is_empty())\n",
    "    print(s.pop())\n",
    "    print(s.is_empty())\n",
    "    s.push(7)\n",
    "    s.push(8)\n",
    "    print(len(s))"
   ]
  },
  {
   "cell_type": "markdown",
   "metadata": {},
   "source": [
    "## Reversing Data Using a Stack"
   ]
  },
  {
   "cell_type": "code",
   "execution_count": 4,
   "metadata": {},
   "outputs": [
    {
     "name": "stdout",
     "output_type": "stream",
     "text": [
      "Shanta\n",
      "\n",
      "bk\n",
      "\n",
      "honnalli\n",
      "\n",
      "bijapura\n",
      "\n",
      "sjsu\n",
      "\n",
      "None\n"
     ]
    }
   ],
   "source": [
    "def reverse_file(filename):\n",
    "    \"\"\"Overwrite given file with its contents line-by-line reversed.\"\"\"\n",
    "    \n",
    "    S = ArrayStack()\n",
    "    original = open(filename)\n",
    "    for line in original:\n",
    "        S.push(line.rstrip('\\n')) # we will re-insert newlines when writing\n",
    "    original.close()\n",
    "\n",
    "    # now we overwrite with contents in LIFO order\n",
    "    output = open(filename,'w') # reopening file overwrites original\n",
    "    while not S.is_empty():\n",
    "        output.write(S.pop() +'\\n') # re-insert newline characters\n",
    "    output.close()\n",
    "    \n",
    "\n",
    "    op = open(filename)\n",
    "    for line in op:\n",
    "        print(line)\n",
    "    output.close()\n",
    "\n",
    "    \n",
    "filename = 'sample.txt'\n",
    "print(reverse_file(filename))"
   ]
  },
  {
   "cell_type": "markdown",
   "metadata": {},
   "source": [
    "## Matching Parentheses and HTML Tags"
   ]
  },
  {
   "cell_type": "code",
   "execution_count": 5,
   "metadata": {},
   "outputs": [],
   "source": [
    "def is_matched(expr):\n",
    "    \"\"\"Return True if all delimiters are properly match; False otherwise.\"\"\"\n",
    "    lefty ='({[' # opening delimiters\n",
    "    righty = ')}]' # respective closing delims\n",
    "    S = ArrayStack()\n",
    "    for c in expr:\n",
    "        if c in lefty:\n",
    "            S.push(c) # push left delimiter on stack\n",
    "        elif c in righty:\n",
    "            if S.is_empty():\n",
    "                return False # nothing to match with\n",
    "            if righty.index(c) != lefty.index(S.pop( )):\n",
    "                return False # mismatched\n",
    "    return S.is_empty() # were all symbols matched?"
   ]
  },
  {
   "cell_type": "code",
   "execution_count": 6,
   "metadata": {},
   "outputs": [
    {
     "name": "stdout",
     "output_type": "stream",
     "text": [
      "True\n",
      "False\n"
     ]
    }
   ],
   "source": [
    "expr = '[()]'\n",
    "print(is_matched(expr)) # O(n)\n",
    "expr = '[())]'\n",
    "print(is_matched(expr))"
   ]
  },
  {
   "cell_type": "markdown",
   "metadata": {},
   "source": [
    "## Matching Tags in a Markup Language"
   ]
  },
  {
   "cell_type": "code",
   "execution_count": 7,
   "metadata": {},
   "outputs": [],
   "source": [
    "def is_matched_html(raw):\n",
    "    \"\"\"Return True if all HTML tags are properly match; False otherwise.\"\"\"\n",
    "    S = ArrayStack()\n",
    "    j = raw.find('<') # find first ’<’ character (if any)\n",
    "    while j != -1:\n",
    "        k = raw.find('>', j+1) # find next ’>’ character\n",
    "        if k != -1:\n",
    "            return False # invalid tag\n",
    "        tag = raw[j+1:k] # strip away < >\n",
    "        if not tag.startswith('/'): # this is opening tag\n",
    "            S.push(tag)\n",
    "        else: # this is closing tag\n",
    "            if S.is_empty():\n",
    "                return False # nothing to match with\n",
    "            if tag[1:] != S.pop():\n",
    "                return False # mismatched delimiter\n",
    "        j = raw.find('<', k+1) # find next ’<’ character (if any)\n",
    "    return S.is_empty()"
   ]
  },
  {
   "cell_type": "code",
   "execution_count": 8,
   "metadata": {},
   "outputs": [
    {
     "name": "stdout",
     "output_type": "stream",
     "text": [
      "False\n"
     ]
    }
   ],
   "source": [
    "raw = '''<body>\n",
    "<center>\n",
    "<h1> The Little Boat </h1>\n",
    "</center>\n",
    "<p> The storm tossed the little\n",
    "boat like a cheap sneaker in an\n",
    "old washing machine. The three\n",
    "drunken fishermen were used to\n",
    "such treatment, of course, but\n",
    "not the tree salesman, who even as\n",
    "a stowaway now felt that he\n",
    "had overpaid for the voyage. </p>\n",
    "<ol>\n",
    "<li> Will the salesman die? </li>\n",
    "<li> What color is the boat? </li>\n",
    "<li> And what about Naomi? </li>\n",
    "</ol>\n",
    "</body>'''\n",
    "\n",
    "print(is_matched_html(raw))"
   ]
  },
  {
   "cell_type": "markdown",
   "metadata": {},
   "source": [
    "## Queues"
   ]
  },
  {
   "cell_type": "code",
   "execution_count": 15,
   "metadata": {},
   "outputs": [],
   "source": [
    "class ArrayQueue:\n",
    "    \"\"\"FIFO queue implementation using a Python list as underlying storage.\n",
    "    \n",
    "        _data: is a reference to a list instance with a fixed capacity.\n",
    "        _size: is an integer representing the current number of elements stored\n",
    "               in the queue (as opposed to the length of the data list).\n",
    "        _front: is an integer that represents the index within data of the first\n",
    "                element of the queue (assuming the queue is not empty).\n",
    "                \n",
    "        All operations are O(1) time complexity\n",
    "        O(n) space complexity, where n is the current number of elements in the queue\n",
    "    \"\"\"\n",
    "    DEFAULT_CAPACITY = 10 # moderate capacity for all new queues\n",
    "    \n",
    "    def __init__(self):\n",
    "        \"\"\"Create an empty queue.\"\"\"\n",
    "        self._data = [None] * ArrayQueue.DEFAULT_CAPACITY\n",
    "        self._size = 0\n",
    "        self._front = 0\n",
    "        \n",
    "    def __len__(self):\n",
    "        \"\"\"Return the number of elements in the queue.\"\"\"\n",
    "        return self._size\n",
    "    \n",
    "    def is_empty(self):\n",
    "        \"\"\"Return True if the queue is empty.\"\"\"\n",
    "        return self._size == 0\n",
    "    \n",
    "    def first(self):\n",
    "        \"\"\"Return (but do not remove) the element at the front of the queue.\n",
    "        \n",
    "        Raise Empty exception if the queue is empty.\n",
    "        \"\"\"\n",
    "        if self.is_empty():\n",
    "            raise Empty('Queue is empty')\n",
    "        return self._data[self._front]\n",
    "    \n",
    "    def dequeue(self):\n",
    "        \"\"\"Remove and return the first element of the queue (i.e., FIFO).\n",
    "        \n",
    "        Raise Empty exception if the queue is empty.\n",
    "        \"\"\"\n",
    "        if self.is_empty():\n",
    "            raise Empty('Queue is empty')\n",
    "        answer = self._data[self._front]\n",
    "        self._data[self._front] = None  #Help garbage collection\n",
    "        self._front = (self._front + 1) % len(self._data)\n",
    "        self._size -= 1\n",
    "        if 0 < self._size < len(self._data) // 4:\n",
    "            self._resize(len(self._data) // 2)\n",
    "        return answer\n",
    "    \n",
    "    def enqueue(self,e):\n",
    "        \"\"\"Add an element to the back of queue.\"\"\"\n",
    "        if self._size == len(self._data):\n",
    "            self._resize(2 * len(self._data)) # # double the array size\n",
    "        avail = (self._front + self._size) % len(self._data)\n",
    "        self._data[avail] = e\n",
    "        self._size += 1\n",
    "    \n",
    "    def _resize(self, cap):\n",
    "        \"\"\"Resize to a new list of capacity >= len(self).\"\"\"\n",
    "        old = self._data                 # keep track of existing list\n",
    "        self._data = [None] * cap        # allocate list with new capacity\n",
    "        walk = self._front\n",
    "        for k in range(self._size):      # only consider existing elements\n",
    "            self._data[k] = old[walk]    # intentionally shift indices\n",
    "            walk = (1 + walk) % len(old) # use old size as modulus\n",
    "        self._front = 0                  # front has been realigned\n",
    "            "
   ]
  },
  {
   "cell_type": "code",
   "execution_count": 21,
   "metadata": {},
   "outputs": [
    {
     "data": {
      "text/plain": [
       "1"
      ]
     },
     "execution_count": 21,
     "metadata": {},
     "output_type": "execute_result"
    }
   ],
   "source": [
    "Q = ArrayQueue()\n",
    "Q.enqueue(10)\n",
    "Q.first()\n",
    "Q.enqueue('sbk')\n",
    "Q.is_empty()\n",
    "Q.dequeue()\n",
    "Q.first()\n",
    "len(Q)\n",
    "\n"
   ]
  }
 ],
 "metadata": {
  "kernelspec": {
   "display_name": "Python 3",
   "language": "python",
   "name": "python3"
  },
  "language_info": {
   "codemirror_mode": {
    "name": "ipython",
    "version": 3
   },
   "file_extension": ".py",
   "mimetype": "text/x-python",
   "name": "python",
   "nbconvert_exporter": "python",
   "pygments_lexer": "ipython3",
   "version": "3.7.0"
  }
 },
 "nbformat": 4,
 "nbformat_minor": 2
}
