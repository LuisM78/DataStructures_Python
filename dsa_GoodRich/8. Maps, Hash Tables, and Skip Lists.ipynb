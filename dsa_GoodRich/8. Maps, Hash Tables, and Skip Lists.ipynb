{
 "cells": [
  {
   "cell_type": "markdown",
   "metadata": {},
   "source": [
    "## Counting Word Frequencies"
   ]
  },
  {
   "cell_type": "code",
   "execution_count": 3,
   "metadata": {},
   "outputs": [],
   "source": [
    "freq = {}\n",
    "for piece in open('test.txt').read().lower().split():\n",
    "    word = ''.join(c for c in piece if c.isalpha())\n",
    "    if word:\n",
    "        freq[word] = 1 + freq.get(word, 0)"
   ]
  },
  {
   "cell_type": "code",
   "execution_count": 4,
   "metadata": {},
   "outputs": [],
   "source": [
    "max_word = ''\n",
    "max_count = 0"
   ]
  },
  {
   "cell_type": "code",
   "execution_count": 5,
   "metadata": {},
   "outputs": [],
   "source": [
    "for (w,c) in freq.items():\n",
    "    if c > max_count:\n",
    "        max_count = c\n",
    "        max_word = w\n",
    "    "
   ]
  },
  {
   "cell_type": "code",
   "execution_count": 7,
   "metadata": {},
   "outputs": [
    {
     "name": "stdout",
     "output_type": "stream",
     "text": [
      "Maximum counted word: i\n",
      "Max Count 14\n"
     ]
    }
   ],
   "source": [
    "print('Maximum counted word:',max_word)\n",
    "print('Max Count',max_count)"
   ]
  },
  {
   "cell_type": "markdown",
   "metadata": {},
   "source": [
    "## Hash Tables\n",
    "\n",
    "Hash tables are used by Python’s own implementation of the dict class.\n",
    "\n",
    "The novel concept for a hash table is the use of a hash function to map general\n",
    "keys to corresponding indices in a table.\n",
    "\n",
    "The goal of a hash function, h, is to map each key k to an integer in the range\n",
    "[0,N −1], where N is the capacity of the bucket array for a hash table. Equipped\n",
    "with such a hash function, h, the main idea of this approach is to use the hash\n",
    "function value, h(k), as an index into our bucket array, A, instead of the key k\n",
    "(which may not be appropriate for direct use as an index). That is, we store the\n",
    "item (k,v) in the bucket A[h(k)].\n",
    "\n",
    "The main idea of a hash table is to take a bucket array, A, and a hash function, h, and\n",
    "use them to implement a map by storing each item (k,v) in the “bucket” A[h(k)]."
   ]
  },
  {
   "cell_type": "code",
   "execution_count": 9,
   "metadata": {},
   "outputs": [
    {
     "name": "stdout",
     "output_type": "stream",
     "text": [
      "True\n"
     ]
    }
   ],
   "source": [
    "print(5 == 5.0)"
   ]
  },
  {
   "cell_type": "markdown",
   "metadata": {},
   "source": [
    "A set is an unordered collection of elements, without duplicates, that typically\n",
    "supports efficient membership tests. In essence, elements of a set are\n",
    "like keys of a map, but without any auxiliary values.\n",
    "\n",
    "A multiset (also known as a bag) is a set-like container that allows duplicates."
   ]
  },
  {
   "cell_type": "markdown",
   "metadata": {},
   "source": [
    "## Dictionaries"
   ]
  },
  {
   "cell_type": "code",
   "execution_count": 1,
   "metadata": {},
   "outputs": [
    {
     "name": "stdout",
     "output_type": "stream",
     "text": [
      "2\n"
     ]
    }
   ],
   "source": [
    "# First Non-Repeating Integer in a list\n",
    "def findFirstUnique(lst):\n",
    "    counts = {} # Creating a dictionary\n",
    "    counts = counts.fromkeys(lst,0) # Initializing dictionary with pairs like (lst[i],0)\n",
    "    for ele in lst:\n",
    "        counts[ele]+=1 # Incrementing for every repitition \n",
    "    for ele in lst:\n",
    "        if counts[ele] <= 1:\n",
    "            return ele\n",
    "    return None\n",
    "  \n",
    "print(findFirstUnique([ 1,1,1,2 ]))"
   ]
  },
  {
   "cell_type": "code",
   "execution_count": null,
   "metadata": {},
   "outputs": [],
   "source": []
  }
 ],
 "metadata": {
  "kernelspec": {
   "display_name": "Python 3",
   "language": "python",
   "name": "python3"
  },
  "language_info": {
   "codemirror_mode": {
    "name": "ipython",
    "version": 3
   },
   "file_extension": ".py",
   "mimetype": "text/x-python",
   "name": "python",
   "nbconvert_exporter": "python",
   "pygments_lexer": "ipython3",
   "version": "3.7.0"
  }
 },
 "nbformat": 4,
 "nbformat_minor": 2
}
