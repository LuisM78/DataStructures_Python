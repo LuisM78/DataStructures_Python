{
 "cells": [
  {
   "cell_type": "markdown",
   "metadata": {},
   "source": [
    "# Merge Sort\n",
    "## Divide and Conquer"
   ]
  },
  {
   "cell_type": "code",
   "execution_count": 1,
   "metadata": {},
   "outputs": [],
   "source": [
    "## Array-Based Implementation of Merge-Sort\n",
    "\n",
    "def merge_sort(S):\n",
    "    \"\"\"Sort the elements of Python list S using the merge-sort algorithm.\"\"\"\n",
    "    n = len(S)\n",
    "    if n < 2:\n",
    "        return \n",
    "    # Divide\n",
    "    mid = n // 2\n",
    "    S1 = S[0:mid]\n",
    "    S2 = S[mid:n]\n",
    "    \n",
    "    # conquer (with recursion)\n",
    "    merge_sort(S1)\n",
    "    merge_sort(S2)\n",
    "    \n",
    "    # Merge Results\n",
    "    merge(S1, S2, S)\n",
    "\n",
    "    \n",
    "def merge(S1, S2, S):\n",
    "    \"\"\"Merge two sorted Python lists S1 and S2 into properly sized list S.\"\"\"\n",
    "    i = j = 0\n",
    "    while i + j < len(S):\n",
    "        if j == len(S2) or (i < len(S1)and S1[i] <S2[j]):\n",
    "            S[i+j] = S1[i]\n",
    "            i += 1\n",
    "        else:\n",
    "            S[i+j] = S2[j]\n",
    "            j += 1\n",
    "    print(S)"
   ]
  },
  {
   "cell_type": "code",
   "execution_count": 2,
   "metadata": {},
   "outputs": [
    {
     "name": "stdout",
     "output_type": "stream",
     "text": [
      "[3, 5]\n",
      "[1, 9]\n",
      "[1, 3, 5, 9]\n",
      "[2, 4]\n",
      "[7, 8]\n",
      "[2, 4, 7, 8]\n",
      "[1, 2, 3, 4, 5, 7, 8, 9]\n"
     ]
    }
   ],
   "source": [
    "S = [3, 5, 1, 9, 4, 2, 8, 7]\n",
    "merge_sort(S)"
   ]
  },
  {
   "cell_type": "code",
   "execution_count": 3,
   "metadata": {},
   "outputs": [],
   "source": [
    "## Sorting Linked Lists\n",
    "\n",
    "def merge(S1, S2, S):\n",
    "    \"\"\"Merge two sorted queue instances S1 and S2 into empty queue S.\"\"\"\n",
    "    while not S1.is_empty() and not S2.is_empty():\n",
    "        if S1.first() < S2.first():\n",
    "            S.enqueue(S1.dequeue())\n",
    "        else:\n",
    "            S.enqueue(S2.dequeue())\n",
    "    \n",
    "    while not S1.is_empty(): # move remaining elements of S1 to S\n",
    "        S.enqueue(S1.dequeue())\n",
    "    \n",
    "    while not S2.is_empty( ): # move remaining elements of S2 to S\n",
    "        S.enqueue(S2.dequeue())\n",
    "    print(S)\n",
    "    \n",
    "def merge_sort(S):\n",
    "    \"\"\"Sort the elements of queue S using the merge-sort algorithm.\"\"\"\n",
    "    n = len(S)\n",
    "    if n < 2:\n",
    "        return # list is already sorted\n",
    "    # divide\n",
    "    S1 = LinkedQueue() # or any other queue implementation\n",
    "    S2 = LinkedQueue()\n",
    "    while len(S1) < n // 2: # move the first n//2 elements to S1\n",
    "        S1.enqueue(S.dequeue())\n",
    "    while not S.is_empty(): # move the rest to S2\n",
    "        S2.enqueue(S.dequeue())\n",
    "    # conquer (with recursion)\n",
    "    merge_sort(S1) # sort first half\n",
    "    merge_sort(S2) # sort second half\n",
    "    # merge results\n",
    "    merge(S1, S2, S) # merge sorted halves back into S"
   ]
  },
  {
   "cell_type": "code",
   "execution_count": 4,
   "metadata": {},
   "outputs": [
    {
     "ename": "NameError",
     "evalue": "name 'LinkedQueue' is not defined",
     "output_type": "error",
     "traceback": [
      "\u001b[0;31m---------------------------------------------------------------------------\u001b[0m",
      "\u001b[0;31mNameError\u001b[0m                                 Traceback (most recent call last)",
      "\u001b[0;32m<ipython-input-4-4b63a2a81fc4>\u001b[0m in \u001b[0;36m<module>\u001b[0;34m()\u001b[0m\n\u001b[1;32m      1\u001b[0m \u001b[0mS\u001b[0m \u001b[0;34m=\u001b[0m \u001b[0;34m[\u001b[0m\u001b[0;36m3\u001b[0m\u001b[0;34m,\u001b[0m \u001b[0;36m5\u001b[0m\u001b[0;34m,\u001b[0m \u001b[0;36m1\u001b[0m\u001b[0;34m,\u001b[0m \u001b[0;36m9\u001b[0m\u001b[0;34m,\u001b[0m \u001b[0;36m4\u001b[0m\u001b[0;34m,\u001b[0m \u001b[0;36m2\u001b[0m\u001b[0;34m,\u001b[0m \u001b[0;36m8\u001b[0m\u001b[0;34m,\u001b[0m \u001b[0;36m7\u001b[0m\u001b[0;34m]\u001b[0m\u001b[0;34m\u001b[0m\u001b[0m\n\u001b[0;32m----> 2\u001b[0;31m \u001b[0mmerge_sort\u001b[0m\u001b[0;34m(\u001b[0m\u001b[0mS\u001b[0m\u001b[0;34m)\u001b[0m\u001b[0;34m\u001b[0m\u001b[0m\n\u001b[0m",
      "\u001b[0;32m<ipython-input-3-87a9e025cbb2>\u001b[0m in \u001b[0;36mmerge_sort\u001b[0;34m(S)\u001b[0m\n\u001b[1;32m     22\u001b[0m         \u001b[0;32mreturn\u001b[0m \u001b[0;31m# list is already sorted\u001b[0m\u001b[0;34m\u001b[0m\u001b[0m\n\u001b[1;32m     23\u001b[0m     \u001b[0;31m# divide\u001b[0m\u001b[0;34m\u001b[0m\u001b[0;34m\u001b[0m\u001b[0m\n\u001b[0;32m---> 24\u001b[0;31m     \u001b[0mS1\u001b[0m \u001b[0;34m=\u001b[0m \u001b[0mLinkedQueue\u001b[0m\u001b[0;34m(\u001b[0m\u001b[0;34m)\u001b[0m \u001b[0;31m# or any other queue implementation\u001b[0m\u001b[0;34m\u001b[0m\u001b[0m\n\u001b[0m\u001b[1;32m     25\u001b[0m     \u001b[0mS2\u001b[0m \u001b[0;34m=\u001b[0m \u001b[0mLinkedQueue\u001b[0m\u001b[0;34m(\u001b[0m\u001b[0;34m)\u001b[0m\u001b[0;34m\u001b[0m\u001b[0m\n\u001b[1;32m     26\u001b[0m     \u001b[0;32mwhile\u001b[0m \u001b[0mlen\u001b[0m\u001b[0;34m(\u001b[0m\u001b[0mS1\u001b[0m\u001b[0;34m)\u001b[0m \u001b[0;34m<\u001b[0m \u001b[0mn\u001b[0m \u001b[0;34m//\u001b[0m \u001b[0;36m2\u001b[0m\u001b[0;34m:\u001b[0m \u001b[0;31m# move the first n//2 elements to S1\u001b[0m\u001b[0;34m\u001b[0m\u001b[0m\n",
      "\u001b[0;31mNameError\u001b[0m: name 'LinkedQueue' is not defined"
     ]
    }
   ],
   "source": [
    "S = [3, 5, 1, 9, 4, 2, 8, 7]\n",
    "merge_sort(S)"
   ]
  },
  {
   "cell_type": "code",
   "execution_count": 13,
   "metadata": {},
   "outputs": [
    {
     "name": "stdout",
     "output_type": "stream",
     "text": [
      "[3, 5, 1, 9, 4, 2, 8, 7, 10, 100, 20]\n",
      "[1, 2, 3, 4, 5, 7, 8, 9, 10, 20, 100]\n",
      "[100, 20, 10, 9, 8, 7, 5, 4, 3, 2, 1]\n",
      "[1, 10, 100, 2, 20, 3, 4, 5, 7, 8, 9]\n"
     ]
    }
   ],
   "source": [
    "s = [3, 5, 1, 9, 4, 2, 8, 7,10,100, 20]\n",
    "print(s)\n",
    "\"\"\"\n",
    "Sort sort the list and is In place (0(1) space complexity) and stable.\n",
    "\n",
    "Sort takes two optional parameters key and reverse set to None and False by default\n",
    "\"\"\" \n",
    "s.sort()\n",
    "print(s)\n",
    "\n",
    "s.sort(reverse = True)\n",
    "print(s)\n",
    "\n",
    "s.sort(key= lambda x: str(x))\n",
    "print(s)"
   ]
  },
  {
   "cell_type": "code",
   "execution_count": 18,
   "metadata": {},
   "outputs": [
    {
     "name": "stdout",
     "output_type": "stream",
     "text": [
      "[3, 5, 1, 9, 4, 2, 8, 7, 10, 100, 20]\n",
      "[1, 2, 3, 4, 5, 7, 8, 9, 10, 20, 100] [100, 20, 10, 9, 8, 7, 5, 4, 3, 2, 1]\n"
     ]
    }
   ],
   "source": [
    "s = [3, 5, 1, 9, 4, 2, 8, 7,10,100, 20]\n",
    "print(s)\n",
    "\"\"\"\n",
    "Sorted new sorted list on interables and the old list is unaltered\n",
    "\"\"\"\n",
    "b = sorted(s)\n",
    "c = sorted(s, reverse= True)\n",
    "print(b,c)"
   ]
  },
  {
   "cell_type": "code",
   "execution_count": null,
   "metadata": {},
   "outputs": [],
   "source": []
  }
 ],
 "metadata": {
  "kernelspec": {
   "display_name": "Python 3",
   "language": "python",
   "name": "python3"
  },
  "language_info": {
   "codemirror_mode": {
    "name": "ipython",
    "version": 3
   },
   "file_extension": ".py",
   "mimetype": "text/x-python",
   "name": "python",
   "nbconvert_exporter": "python",
   "pygments_lexer": "ipython3",
   "version": "3.7.0"
  }
 },
 "nbformat": 4,
 "nbformat_minor": 2
}
