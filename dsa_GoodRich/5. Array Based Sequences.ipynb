{
 "cells": [
  {
   "cell_type": "markdown",
   "metadata": {},
   "source": [
    "## Referential Arrays"
   ]
  },
  {
   "cell_type": "code",
   "execution_count": 5,
   "metadata": {},
   "outputs": [
    {
     "data": {
      "text/plain": [
       "['sbk', 'ram', 'shiva']"
      ]
     },
     "execution_count": 5,
     "metadata": {},
     "output_type": "execute_result"
    }
   ],
   "source": [
    "names = ['sbk','ram','shiva']\n",
    "names\n",
    "\n",
    "# List stores references of 'sbk' in names[0] and reference of 'ram' in names[1] and so on.."
   ]
  },
  {
   "cell_type": "code",
   "execution_count": 9,
   "metadata": {},
   "outputs": [
    {
     "name": "stdout",
     "output_type": "stream",
     "text": [
      "[2, 3, 5, 7, 11, 13, 17, 19]\n",
      "[7, 11, 13]\n",
      "[7, 11, 15]\n"
     ]
    }
   ],
   "source": [
    "primes = [2,3,5,7,11,13,17,19] # list maintains references to these objects, these objects are immutable\n",
    "print(primes)\n",
    "temp = primes[3:6] # temp is new list and is refering to objects that primes is refering\n",
    "print(temp)\n",
    "temp[2] = 15 # we are not changing object value here, we are just referencing temp[2] to 15\n",
    "print(temp)"
   ]
  },
  {
   "cell_type": "code",
   "execution_count": 12,
   "metadata": {},
   "outputs": [
    {
     "name": "stdout",
     "output_type": "stream",
     "text": [
      "[0, 0, 0, 0, 0, 0, 0, 0]\n",
      "[0, 0, 10, 0, 0, 0, 0, 0]\n"
     ]
    }
   ],
   "source": [
    "data = [0] * 8 \n",
    "# produces list of length eight, with all eight elements being the value zero, \n",
    "# all the elements are referring to single 0\n",
    "print(data)\n",
    "data[2] = 10 # this element now refers to object 10, where as other elements still refer to 0\n",
    "print(data)"
   ]
  },
  {
   "cell_type": "code",
   "execution_count": 13,
   "metadata": {},
   "outputs": [
    {
     "name": "stdout",
     "output_type": "stream",
     "text": [
      "[2, 3, 5, 7, 11, 13, 17, 19, 23, 29, 31]\n"
     ]
    }
   ],
   "source": [
    "extras = [23,29,31]\n",
    "primes.extend(extras) #The extended list does not receive copies of those elements, it receives references to those elements\n",
    "print(primes)"
   ]
  },
  {
   "cell_type": "markdown",
   "metadata": {},
   "source": [
    "## Compact Arrays in Python\n",
    "\n",
    "Primary support for compact arrays is in a module named array. That module\n",
    "defines a class, also named array, providing compact storage for arrays of primitive\n",
    "data types.\n",
    "\n",
    "The public interface for the array class conforms mostly to that of a Python list.\n",
    "However, the constructor for the array class requires a type code as a first parameter,\n",
    "which is a character that designates the type of data that will be stored in the array."
   ]
  },
  {
   "cell_type": "code",
   "execution_count": 25,
   "metadata": {},
   "outputs": [
    {
     "name": "stdout",
     "output_type": "stream",
     "text": [
      "array('i', [2, 3, 5, 7, 11, 13, 17, 19])\n",
      "[2, 3, 5, 7, 11, 13, 17, 19]\n",
      "\n",
      "Compact Array Memory Usage: 96\n",
      "Referential Array Memory Usage: 128\n"
     ]
    }
   ],
   "source": [
    "import array\n",
    "import sys\n",
    "primes = array.array('i' , [2, 3, 5, 7, 11, 13, 17, 19])\n",
    "primes_list = [2, 3, 5, 7, 11, 13, 17, 19]\n",
    "print(primes)\n",
    "print(primes_list)\n",
    "print()\n",
    "print('Compact Array Memory Usage:',sys.getsizeof(primes))\n",
    "print('Referential Array Memory Usage:',sys.getsizeof(primes_list))"
   ]
  },
  {
   "cell_type": "markdown",
   "metadata": {},
   "source": [
    "## Dynamic Arrays and Amortization"
   ]
  },
  {
   "cell_type": "code",
   "execution_count": 29,
   "metadata": {},
   "outputs": [
    {
     "name": "stdout",
     "output_type": "stream",
     "text": [
      "Length:   0; Size in bytes:   64\n",
      "Length:   1; Size in bytes:   96\n",
      "Length:   2; Size in bytes:   96\n",
      "Length:   3; Size in bytes:   96\n",
      "Length:   4; Size in bytes:   96\n",
      "Length:   5; Size in bytes:  128\n",
      "Length:   6; Size in bytes:  128\n",
      "Length:   7; Size in bytes:  128\n",
      "Length:   8; Size in bytes:  128\n",
      "Length:   9; Size in bytes:  192\n",
      "Length:  10; Size in bytes:  192\n",
      "Length:  11; Size in bytes:  192\n",
      "Length:  12; Size in bytes:  192\n",
      "Length:  13; Size in bytes:  192\n",
      "Length:  14; Size in bytes:  192\n",
      "Length:  15; Size in bytes:  192\n",
      "Length:  16; Size in bytes:  192\n",
      "Length:  17; Size in bytes:  264\n",
      "Length:  18; Size in bytes:  264\n",
      "Length:  19; Size in bytes:  264\n"
     ]
    }
   ],
   "source": [
    "import sys # provides getsizeof function\n",
    "data = [ ]\n",
    "for k in range(20): # NOTE: must fix choice of n\n",
    "    a = len(data) # number of elements\n",
    "    b = sys.getsizeof(data) # actual size in bytes\n",
    "    print('Length: {0:3d}; Size in bytes: {1:4d}'.format(a, b))\n",
    "    data.append(None) # increase length by one"
   ]
  },
  {
   "cell_type": "code",
   "execution_count": 31,
   "metadata": {},
   "outputs": [],
   "source": [
    "from time import time \n",
    "def compute_avg(n):\n",
    "    \"\"\"Perform n appends to an empty list and return average time elapsed.\"\"\"\n",
    "    data = [ ]\n",
    "    start = time( ) # record the start time (in seconds)\n",
    "    for k in range(n):\n",
    "        data.append(None)\n",
    "    end = time( ) # record the end time (in seconds)\n",
    "    return (end - start) / n"
   ]
  },
  {
   "cell_type": "code",
   "execution_count": 35,
   "metadata": {},
   "outputs": [
    {
     "name": "stdout",
     "output_type": "stream",
     "text": [
      "1.2159347534179688e-07\n",
      "1.1110305786132813e-07\n",
      "1.0080337524414063e-07\n",
      "8.502721786499023e-08\n",
      "7.794904708862305e-08\n",
      "7.163560390472412e-08\n",
      "7.079338073730469e-08\n"
     ]
    }
   ],
   "source": [
    "nbs = [100,1000,10000,100000,1000000,10000000,100000000]\n",
    "for val in nbs:\n",
    "    print(compute_avg(val))"
   ]
  },
  {
   "cell_type": "markdown",
   "metadata": {},
   "source": [
    "## Efficiency of Python’s Sequence Types\n",
    "tuples are typically more memory efficient than\n",
    "lists because they are immutable"
   ]
  },
  {
   "cell_type": "code",
   "execution_count": 13,
   "metadata": {},
   "outputs": [
    {
     "name": "stdout",
     "output_type": "stream",
     "text": [
      "11\n",
      "13\n",
      "1\n",
      "7\n",
      "True\n",
      "False\n",
      "[7, 11, 13, 17, 19, 23, 29]\n",
      "[2, 3, 5, 7, 11, 13, 17, 19, 23, 29, 31, 2, 3, 4, 5]\n",
      "[2, 3, 4, 5, 2, 3, 4, 5]\n"
     ]
    }
   ],
   "source": [
    "primes = [2, 3, 5, 7, 11, 13, 17, 19, 23, 29, 31]\n",
    "l_primes = [2,3,4,5]\n",
    "print(len(primes)) # O(1), The length of an instance is returned in constant time because an instance explicitly maintains such state information.\n",
    "print(primes[5]) # O(1)\n",
    "print(primes.count(17)) # O(n)\n",
    "print(primes.index(19)) # O(k+1)\n",
    "print(23 in primes) # O(k+1)\n",
    "print(primes == l_primes) # O(k+1)\n",
    "print(primes[3:10]) # O(k-j+1)\n",
    "print(primes + l_primes) # O(n1+n2)\n",
    "print(2 * l_primes) # O(cn)"
   ]
  },
  {
   "cell_type": "code",
   "execution_count": 21,
   "metadata": {},
   "outputs": [
    {
     "data": {
      "text/plain": [
       "False"
      ]
     },
     "execution_count": 21,
     "metadata": {},
     "output_type": "execute_result"
    }
   ],
   "source": [
    "data = list(range(10000000))\n",
    "99999999 in data"
   ]
  },
  {
   "cell_type": "code",
   "execution_count": 27,
   "metadata": {},
   "outputs": [
    {
     "data": {
      "text/plain": [
       "[2, 3, 5, 7, 0, 0, 0, 11, 13, 17, 19, 31, 31, 31, 37, 37, 37]"
      ]
     },
     "execution_count": 27,
     "metadata": {},
     "output_type": "execute_result"
    }
   ],
   "source": [
    "primes[10] = 31 # O(1)\n",
    "primes.append(37) # O(1)*\n",
    "primes.insert(4,0) # O(n-k+1)\n",
    "primes.pop() # O(1)\n",
    "primes"
   ]
  },
  {
   "cell_type": "code",
   "execution_count": 31,
   "metadata": {},
   "outputs": [
    {
     "data": {
      "text/plain": [
       "[2, 3, 5, 7, 0, 11, 13, 17, 19, 31, 31, 31, 37]"
      ]
     },
     "execution_count": 31,
     "metadata": {},
     "output_type": "execute_result"
    }
   ],
   "source": [
    "primes.pop(4) # O(n-k)\n",
    "primes"
   ]
  },
  {
   "cell_type": "code",
   "execution_count": 32,
   "metadata": {},
   "outputs": [
    {
     "data": {
      "text/plain": [
       "[2, 3, 5, 7, 11, 13, 17, 19, 31, 31, 31, 37]"
      ]
     },
     "execution_count": 32,
     "metadata": {},
     "output_type": "execute_result"
    }
   ],
   "source": [
    "del primes[4] # O(n-k)\n",
    "primes"
   ]
  },
  {
   "cell_type": "code",
   "execution_count": 34,
   "metadata": {},
   "outputs": [
    {
     "data": {
      "text/plain": [
       "[2, 3, 5, 7, 11, 13, 17, 19, 31, 37]"
      ]
     },
     "execution_count": 34,
     "metadata": {},
     "output_type": "execute_result"
    }
   ],
   "source": [
    "primes.remove(31) #O(n)\n",
    "primes"
   ]
  },
  {
   "cell_type": "code",
   "execution_count": 35,
   "metadata": {},
   "outputs": [
    {
     "data": {
      "text/plain": [
       "[2, 3, 5, 7, 11, 13, 17, 19, 31, 37, 2, 3, 4, 5]"
      ]
     },
     "execution_count": 35,
     "metadata": {},
     "output_type": "execute_result"
    }
   ],
   "source": [
    "primes.extend(l_primes) # O(n2)\n",
    "primes"
   ]
  },
  {
   "cell_type": "code",
   "execution_count": 37,
   "metadata": {},
   "outputs": [
    {
     "data": {
      "text/plain": [
       "[2, 3, 5, 7, 11, 13, 17, 19, 31, 37, 2, 3, 4, 5, 2, 3, 4, 5, 2, 3, 4, 5]"
      ]
     },
     "execution_count": 37,
     "metadata": {},
     "output_type": "execute_result"
    }
   ],
   "source": [
    "primes+=l_primes # O(n2)\n",
    "primes"
   ]
  },
  {
   "cell_type": "code",
   "execution_count": 38,
   "metadata": {},
   "outputs": [
    {
     "data": {
      "text/plain": [
       "[5, 4, 3, 2, 5, 4, 3, 2, 5, 4, 3, 2, 37, 31, 19, 17, 13, 11, 7, 5, 3, 2]"
      ]
     },
     "execution_count": 38,
     "metadata": {},
     "output_type": "execute_result"
    }
   ],
   "source": [
    "primes.reverse() # O(n)\n",
    "primes"
   ]
  },
  {
   "cell_type": "code",
   "execution_count": 39,
   "metadata": {},
   "outputs": [
    {
     "data": {
      "text/plain": [
       "[2, 2, 2, 2, 3, 3, 3, 3, 4, 4, 4, 5, 5, 5, 5, 7, 11, 13, 17, 19, 31, 37]"
      ]
     },
     "execution_count": 39,
     "metadata": {},
     "output_type": "execute_result"
    }
   ],
   "source": [
    "primes.sort() # O(nlogn)\n",
    "primes"
   ]
  },
  {
   "cell_type": "code",
   "execution_count": 41,
   "metadata": {},
   "outputs": [
    {
     "data": {
      "text/plain": [
       "[1, 4, 9, 16, 25, 36, 49, 64, 81, 100]"
      ]
     },
     "execution_count": 41,
     "metadata": {},
     "output_type": "execute_result"
    }
   ],
   "source": [
    "squares = [k*k for k in range(1,11)]\n",
    "squares"
   ]
  },
  {
   "cell_type": "markdown",
   "metadata": {},
   "source": [
    "## Python String Class"
   ]
  },
  {
   "cell_type": "code",
   "execution_count": 45,
   "metadata": {},
   "outputs": [
    {
     "name": "stdout",
     "output_type": "stream",
     "text": [
      "San Jose State University, San Jose, CA, 95112\n",
      "SanJoseStateUniversitySanJoseCA\n",
      "SanJoseStateUniversitySanJoseCA\n"
     ]
    }
   ],
   "source": [
    "# produce a new string, letters, that contains only the alphabetic characters of the original string (e.g., with spaces, numbers, and punctuation removed).\n",
    "\n",
    "document = 'San Jose State University, San Jose, CA, 95112'\n",
    "letters = ''# start with empty string\n",
    "for c in document:\n",
    "    if c.isalpha():\n",
    "        letters += c #Cancatenation, O(n^2), bad efficiency\n",
    "print(document)\n",
    "print(letters)\n",
    "\n",
    "\n",
    "temp = []\n",
    "for c in document:\n",
    "    if c.isalpha():\n",
    "        temp.append(c) # O(n)\n",
    "letters = ''.join(temp)\n",
    "print(letters)"
   ]
  },
  {
   "cell_type": "code",
   "execution_count": 46,
   "metadata": {},
   "outputs": [
    {
     "data": {
      "text/plain": [
       "'SanJoseStateUniversitySanJoseCA'"
      ]
     },
     "execution_count": 46,
     "metadata": {},
     "output_type": "execute_result"
    }
   ],
   "source": [
    "letters_list_compr = ''.join([c for c in document if c.isalpha()])\n",
    "letters_list_compr"
   ]
  },
  {
   "cell_type": "code",
   "execution_count": 47,
   "metadata": {},
   "outputs": [
    {
     "data": {
      "text/plain": [
       "'SanJoseStateUniversitySanJoseCA'"
      ]
     },
     "execution_count": 47,
     "metadata": {},
     "output_type": "execute_result"
    }
   ],
   "source": [
    "lettres_generator_compr = ''.join(c for c in document if c.isalpha())\n",
    "lettres_generator_compr"
   ]
  },
  {
   "cell_type": "markdown",
   "metadata": {},
   "source": [
    "## Using Array-Based Sequences"
   ]
  },
  {
   "cell_type": "markdown",
   "metadata": {},
   "source": [
    "### storing a sequence of high score entries for a video game."
   ]
  },
  {
   "cell_type": "code",
   "execution_count": 55,
   "metadata": {},
   "outputs": [],
   "source": [
    "class GameEntry:\n",
    "    \"\"\"Represents one entry of a list of high scores.\"\"\"\n",
    "    \n",
    "    def __init__(self,name,score):\n",
    "        self._name = name\n",
    "        self._score = score\n",
    "        \n",
    "    def get_name(self):\n",
    "        return self._name\n",
    "    \n",
    "    def get_score(self):\n",
    "        return self._score\n",
    "    \n",
    "    def __str__(self):\n",
    "        return '({0},{1})'.format(self._name, self._score)"
   ]
  },
  {
   "cell_type": "code",
   "execution_count": 72,
   "metadata": {},
   "outputs": [],
   "source": [
    "test = GameEntry('sbk',100)\n",
    "test1 = GameEntry('man',200)\n",
    "test2 = GameEntry('sk',300)\n",
    "test3 = GameEntry('mank',400)\n",
    "test4 = GameEntry('shk',400)\n",
    "test5 = GameEntry('mankk',400)"
   ]
  },
  {
   "cell_type": "code",
   "execution_count": 57,
   "metadata": {},
   "outputs": [
    {
     "data": {
      "text/plain": [
       "'sbk'"
      ]
     },
     "execution_count": 57,
     "metadata": {},
     "output_type": "execute_result"
    }
   ],
   "source": [
    "test.get_name()"
   ]
  },
  {
   "cell_type": "code",
   "execution_count": 58,
   "metadata": {},
   "outputs": [
    {
     "data": {
      "text/plain": [
       "'(sbk,100)'"
      ]
     },
     "execution_count": 58,
     "metadata": {},
     "output_type": "execute_result"
    }
   ],
   "source": [
    "str(test)"
   ]
  },
  {
   "cell_type": "code",
   "execution_count": 59,
   "metadata": {},
   "outputs": [
    {
     "data": {
      "text/plain": [
       "<__main__.GameEntry at 0x137d645c0>"
      ]
     },
     "execution_count": 59,
     "metadata": {},
     "output_type": "execute_result"
    }
   ],
   "source": [
    "test"
   ]
  },
  {
   "cell_type": "code",
   "execution_count": 61,
   "metadata": {},
   "outputs": [],
   "source": [
    "class ScoreBoard:\n",
    "    \"\"\"Fixed-length sequence of high scores in nondecreasing order.\"\"\"\n",
    "    \n",
    "    def __init__(self, capacity = 10):\n",
    "        \"\"\"Initialize scoreboard with given maximum capacity.\n",
    "        \n",
    "        All entries are initially None.\n",
    "        \"\"\"\n",
    "        \n",
    "        self._board = [None] * capacity # reserve space for future scores\n",
    "        self._n = 0                     # # number of actual entries\n",
    "        \n",
    "    def __getitem__(self, k):\n",
    "        \"\"\"Return entry at index k.\"\"\"\n",
    "        \n",
    "        return self._board[k]\n",
    "    \n",
    "    def __str__(self):\n",
    "        \"\"\"Return string representation of the high score list.\"\"\"\n",
    "        \n",
    "        return '\\n'.join(str(self._board[j]) for j in range(self._n))\n",
    "    \n",
    "    def add(self,entry):\n",
    "        \"\"\"Consider adding entry to high scores.\"\"\"\n",
    "        \n",
    "        score = entry.get_score()\n",
    "        \n",
    "        # new entry qualifies as high score if board not full or score is higher than last entry\n",
    "        \n",
    "        good = self._n < len(self._board) or score > self._board[-1].get_score()\n",
    "        \n",
    "        if good:\n",
    "            if self._n < len(self._board):\n",
    "                self._n +=1\n",
    "                \n",
    "            # shift lower scores rightward to make room for new entry\n",
    "            j = self._n  - 1 # j, index at which the last GameEntry instance will reside, after completing the operation.\n",
    "            \n",
    "            while j > 0 and self._board[j-1].get_score() < score:\n",
    "                self._board[j] = self._board[j - 1]  # shift entry from j-1 to j\n",
    "                j -= 1                               # and decrement j\n",
    "            self._board[j] = entry                   # when done, add new entry"
   ]
  },
  {
   "cell_type": "code",
   "execution_count": 63,
   "metadata": {},
   "outputs": [],
   "source": [
    "sb = ScoreBoard(5)"
   ]
  },
  {
   "cell_type": "code",
   "execution_count": 64,
   "metadata": {},
   "outputs": [
    {
     "data": {
      "text/plain": [
       "''"
      ]
     },
     "execution_count": 64,
     "metadata": {},
     "output_type": "execute_result"
    }
   ],
   "source": [
    "str(sb)"
   ]
  },
  {
   "cell_type": "code",
   "execution_count": 70,
   "metadata": {},
   "outputs": [],
   "source": [
    "sb.add(test)"
   ]
  },
  {
   "cell_type": "code",
   "execution_count": 71,
   "metadata": {},
   "outputs": [
    {
     "data": {
      "text/plain": [
       "'(sbk,100)'"
      ]
     },
     "execution_count": 71,
     "metadata": {},
     "output_type": "execute_result"
    }
   ],
   "source": [
    "str(sb)"
   ]
  },
  {
   "cell_type": "code",
   "execution_count": 73,
   "metadata": {},
   "outputs": [],
   "source": [
    "sb.add(test1)"
   ]
  },
  {
   "cell_type": "code",
   "execution_count": 74,
   "metadata": {},
   "outputs": [
    {
     "data": {
      "text/plain": [
       "'(man,200)\\n(sbk,100)'"
      ]
     },
     "execution_count": 74,
     "metadata": {},
     "output_type": "execute_result"
    }
   ],
   "source": [
    "str(sb)"
   ]
  },
  {
   "cell_type": "code",
   "execution_count": 75,
   "metadata": {},
   "outputs": [],
   "source": [
    "sb.add(test2)\n",
    "sb.add(test3)\n",
    "sb.add(test4)"
   ]
  },
  {
   "cell_type": "code",
   "execution_count": 76,
   "metadata": {},
   "outputs": [
    {
     "data": {
      "text/plain": [
       "'(mank,400)\\n(shk,400)\\n(sk,300)\\n(man,200)\\n(sbk,100)'"
      ]
     },
     "execution_count": 76,
     "metadata": {},
     "output_type": "execute_result"
    }
   ],
   "source": [
    "str(sb)"
   ]
  },
  {
   "cell_type": "code",
   "execution_count": 77,
   "metadata": {},
   "outputs": [],
   "source": [
    "sb.add(test5)"
   ]
  },
  {
   "cell_type": "code",
   "execution_count": 78,
   "metadata": {},
   "outputs": [
    {
     "data": {
      "text/plain": [
       "'(mank,400)\\n(shk,400)\\n(mankk,400)\\n(sk,300)\\n(man,200)'"
      ]
     },
     "execution_count": 78,
     "metadata": {},
     "output_type": "execute_result"
    }
   ],
   "source": [
    "str(sb)"
   ]
  },
  {
   "cell_type": "markdown",
   "metadata": {},
   "source": [
    "## Sorting a sequence"
   ]
  },
  {
   "cell_type": "code",
   "execution_count": 79,
   "metadata": {},
   "outputs": [
    {
     "name": "stdout",
     "output_type": "stream",
     "text": [
      "4\n",
      "8\n",
      "2\n",
      "6\n",
      "9\n",
      "3\n"
     ]
    }
   ],
   "source": [
    "data = [4, 8, 2, 6, 9, 3]\n",
    "\n",
    "for i in data:\n",
    "    print(i)"
   ]
  },
  {
   "cell_type": "code",
   "execution_count": 91,
   "metadata": {},
   "outputs": [],
   "source": [
    "def insertion_sort(data):\n",
    "    \"\"\"Sort list of comparable elements into nondecreasing order.\"\"\"\n",
    "    \n",
    "    for k in range(1,len(data)):\n",
    "        cur = data[k]\n",
    "        j = k\n",
    "        while j > 0 and data[j - 1] > cur:\n",
    "            data[j] = data [j - 1]\n",
    "            j -= 1\n",
    "        data[j] = cur\n",
    "    return data\n",
    "            "
   ]
  },
  {
   "cell_type": "code",
   "execution_count": 92,
   "metadata": {},
   "outputs": [
    {
     "name": "stdout",
     "output_type": "stream",
     "text": [
      "[2, 3, 4, 6, 8, 9]\n"
     ]
    }
   ],
   "source": [
    "data = [4, 8, 2, 6, 9, 3]\n",
    "print(insertion_sort(data))"
   ]
  },
  {
   "cell_type": "markdown",
   "metadata": {},
   "source": [
    "## Simple Cryptography"
   ]
  },
  {
   "cell_type": "code",
   "execution_count": 95,
   "metadata": {},
   "outputs": [
    {
     "name": "stdout",
     "output_type": "stream",
     "text": [
      "bird\n",
      "['b', 'i', 'r', 'd']\n",
      "bird\n"
     ]
    }
   ],
   "source": [
    "msg = 'bird'\n",
    "print(msg)\n",
    "msg_list = list(msg) # Converting a string to list\n",
    "print(msg_list)\n",
    "\n",
    "msg_str = ''.join(msg_list) # Converting a list to string\n",
    "print(msg_str)"
   ]
  },
  {
   "cell_type": "code",
   "execution_count": 97,
   "metadata": {},
   "outputs": [
    {
     "name": "stdout",
     "output_type": "stream",
     "text": [
      "65\n",
      "A\n"
     ]
    }
   ],
   "source": [
    "# conversion between integer code points and one-character strings.\n",
    "\n",
    "print(ord('A'))\n",
    "print(chr(65))"
   ]
  },
  {
   "cell_type": "code",
   "execution_count": 102,
   "metadata": {},
   "outputs": [
    {
     "name": "stdout",
     "output_type": "stream",
     "text": [
      "['A', 'B', 'C', 'D', 'E', 'F', 'G', 'H', 'I', 'J', 'K', 'L', 'M', 'N', 'O', 'P', 'Q', 'R', 'S', 'T', 'U', 'V', 'W', 'X', 'Y', 'Z']\n",
      "\n",
      "0 1 2 3 4 5 6 7 8 9 10 11 12 13 14 15 16 17 18 19 20 21 22 23 24 25 "
     ]
    }
   ],
   "source": [
    "# map the characters 'A' to 'Z' to the respective numbers 0 to 25.\n",
    "\n",
    "alpha ='ABCDEFGHIJKLMNOPQRSTUVWXYZ'\n",
    "alpha_list = list(alpha)\n",
    "print(alpha_list)\n",
    "print()\n",
    "\n",
    "for val in alpha_list:\n",
    "    val_n = ord(val) - ord('A')\n",
    "    print(val_n, end=' ')"
   ]
  },
  {
   "cell_type": "code",
   "execution_count": 113,
   "metadata": {},
   "outputs": [
    {
     "name": "stdout",
     "output_type": "stream",
     "text": [
      "Secret: WKH HDJOH LV LQ SODB; PHHW DW MRH V.\n",
      "Decoded: THE EAGLE IS IN PLAY; MEET AT JOE S.\n"
     ]
    }
   ],
   "source": [
    "# A complete Python class for the Caesar cipher.\n",
    "\n",
    "class CaesarCipher:\n",
    "    \"\"\"Class for doing encryption and decryption using a Caesar cipher.\"\"\"\n",
    "    \n",
    "    def __init__(self,shift):\n",
    "        \"\"\"”””Construct Caesar cipher using given integer shift for rotation.\"\"\"\n",
    "        \n",
    "        encoder = [None] * 26\n",
    "        decoder = [None] * 26\n",
    "        for k in range(26):\n",
    "            encoder[k] = chr((k + shift) % 26 + ord('A'))\n",
    "            decoder[k] = chr((k - shift) % 26 + ord('A'))\n",
    "        self._forward = ''.join(encoder)\n",
    "        self._backward = ''.join(decoder)\n",
    "        \n",
    "    def encrypt(self, message):\n",
    "        \"\"\"Return string representing encripted message.\"\"\"\n",
    "        return self._transform(message,self._forward)\n",
    "    \n",
    "    def decrypt(self, secret):\n",
    "        \"\"\"Return decrypted message given encrypted secret.\"\"\"\n",
    "        return self._transform(secret,self._backward)\n",
    "        \n",
    "    def _transform(self, original, code):\n",
    "        \"\"\"Utility to perform transformation based on given code string.\"\"\"\n",
    "        msg = list(original)\n",
    "        for k in range(len(msg)):\n",
    "            if msg[k].isupper():\n",
    "                j = ord(msg[k]) - ord('A')\n",
    "                msg[k] = code[j]\n",
    "        return ''.join(msg)\n",
    "    \n",
    "if __name__ == '__main__':\n",
    "    cipher = CaesarCipher(3)\n",
    "    message = \"THE EAGLE IS IN PLAY; MEET AT JOE S.\"\n",
    "    coded = cipher.encrypt(message)\n",
    "    print('Secret:',coded)\n",
    "    decoded = cipher.decrypt(coded)\n",
    "    print('Decoded:',decoded)\n",
    "            \n",
    "            "
   ]
  },
  {
   "cell_type": "markdown",
   "metadata": {},
   "source": [
    "## Multidimensional Data Sets\n",
    "\n",
    "A common representation for a two-dimensional data set in Python is as a list\n",
    "of lists. In particular, we can represent a two-dimensional array as a list of rows,\n",
    "with each row itself being a list of values."
   ]
  },
  {
   "cell_type": "code",
   "execution_count": 118,
   "metadata": {},
   "outputs": [
    {
     "name": "stdout",
     "output_type": "stream",
     "text": [
      "[[22, 18, 709, 5, 33], [45, 32, 830, 120, 750], [4, 880, 45, 66, 61]]\n",
      "120\n"
     ]
    }
   ],
   "source": [
    "data = [ [22, 18, 709, 5, 33], [45, 32, 830, 120, 750], [4, 880, 45, 66, 61] ]\n",
    "print(data)\n",
    "\n",
    "\"\"\"\n",
    "An advantage of this representation is that we can naturally use a syntax such\n",
    "as data[1][3] to represent the value that has row index 1 and column index 3, as\n",
    "data[1], the second entry in the outer list, is itself a list, and thus indexable.\n",
    "\"\"\"\n",
    "\n",
    "print(data[1][3])"
   ]
  },
  {
   "cell_type": "code",
   "execution_count": 123,
   "metadata": {},
   "outputs": [
    {
     "name": "stdout",
     "output_type": "stream",
     "text": [
      "[0, 0, 0, 0, 0, 0, 0, 0, 0, 0, 0, 0, 0, 0, 0, 0, 0, 0]\n"
     ]
    }
   ],
   "source": [
    "# Constructing a Multidimensional List\n",
    "r = 3\n",
    "c = 6\n",
    "data = ([0]*c)*r # Wrong\n",
    "print(data)"
   ]
  },
  {
   "cell_type": "code",
   "execution_count": 124,
   "metadata": {},
   "outputs": [
    {
     "name": "stdout",
     "output_type": "stream",
     "text": [
      "[[0, 0, 0, 0, 0, 0], [0, 0, 0, 0, 0, 0], [0, 0, 0, 0, 0, 0]]\n"
     ]
    }
   ],
   "source": [
    "# Constructing a Multidimensional List\n",
    "r = 3\n",
    "c = 6\n",
    "data = [[0]*c]*r # Wrong, all r entries of the list known as data are references to the same instance of a list of c zeros.\n",
    "print(data)"
   ]
  },
  {
   "cell_type": "code",
   "execution_count": 125,
   "metadata": {},
   "outputs": [
    {
     "name": "stdout",
     "output_type": "stream",
     "text": [
      "[[0, 0, 0, 0, 0, 0], [0, 0, 0, 0, 0, 0], [0, 0, 0, 0, 0, 0]]\n"
     ]
    }
   ],
   "source": [
    "# Constructing a Multidimensional List\n",
    "r = 3\n",
    "c = 6\n",
    "data = [[0] * c for j in range(r)]\n",
    "print(data)"
   ]
  },
  {
   "cell_type": "code",
   "execution_count": null,
   "metadata": {},
   "outputs": [],
   "source": []
  }
 ],
 "metadata": {
  "kernelspec": {
   "display_name": "Python 3",
   "language": "python",
   "name": "python3"
  },
  "language_info": {
   "codemirror_mode": {
    "name": "ipython",
    "version": 3
   },
   "file_extension": ".py",
   "mimetype": "text/x-python",
   "name": "python",
   "nbconvert_exporter": "python",
   "pygments_lexer": "ipython3",
   "version": "3.7.0"
  }
 },
 "nbformat": 4,
 "nbformat_minor": 2
}
