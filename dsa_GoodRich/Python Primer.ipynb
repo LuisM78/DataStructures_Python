{
 "cells": [
  {
   "cell_type": "code",
   "execution_count": 50,
   "metadata": {},
   "outputs": [
    {
     "name": "stdout",
     "output_type": "stream",
     "text": [
      "Hello World\n",
      "Hello Number 10\n",
      "Hello Number 20\n",
      "\n",
      "it's a list: [10, 20, 30, 40, 50]\n",
      "it's a list: 10 20 30\n",
      "it's a list with customised separtor::10:20:30\n",
      "it's a list with another separtor, no spaces between elements:102030\n",
      "it's a list with another separtor, sbk taking place of space:sbk10sbk20sbk30\n",
      "\n",
      "Hey there\n",
      "sbk@gmail.com\n",
      "apt,10San Jose\n",
      "\n",
      "Welcome to the GPA calculator.\n",
      "Please enter all your letter grades, one per line.\n",
      "Enter a blank line to designate the end.\n",
      "\n",
      "Heeelllllllloooooooooooo\n"
     ]
    }
   ],
   "source": [
    "print(\"Hello World\")\n",
    "print(\"Hello Number\", 10)\n",
    "\n",
    "n = 20\n",
    "print(\"Hello Number\", n)\n",
    "\n",
    "print() #outputs a single newline character\n",
    "a = [10, 20, 30, 40, 50]\n",
    "print(\"it's a list:\", a)\n",
    "print(\"it's a list:\", a[0],a[1],a[2])\n",
    "print(\"it's a list with customised separtor:\", a[0],a[1],a[2], sep=':')\n",
    "print(\"it's a list with another separtor, no spaces between elements:\", a[0],a[1],a[2], sep='')\n",
    "print(\"it's a list with another separtor, sbk taking place of space:\", a[0],a[1],a[2], sep='sbk')\n",
    "print()\n",
    "\n",
    "print(\"Hey\",end= ' ')\n",
    "print(\"there\")\n",
    "\n",
    "print('sbk', end='@')\n",
    "print('gmail.com')\n",
    "\n",
    "print('apt,', end='10')\n",
    "print('San Jose')\n",
    "\n",
    "print()\n",
    "print(\"\"\"Welcome to the GPA calculator.\n",
    "Please enter all your letter grades, one per line.\n",
    "Enter a blank line to designate the end.\\n\"\"\")\n",
    "\n",
    "scream = print # Function as first class object\n",
    "scream(\"Heeelllllllloooooooooooo\")"
   ]
  },
  {
   "cell_type": "code",
   "execution_count": 120,
   "metadata": {},
   "outputs": [
    {
     "name": "stdout",
     "output_type": "stream",
     "text": [
      "Enter your age in years:30\n",
      "Your target fat-burning heart rate is: 121.42000000000002\n"
     ]
    }
   ],
   "source": [
    "# Input\n",
    "age = int(input('Enter your age in years:'))\n",
    "max_heart_rate = 206.9 - (0.67*age) # as per Med Sci Sports Exerc.\n",
    "target = 0.65 * max_heart_rate\n",
    "print('Your target fat-burning heart rate is:', target)"
   ]
  },
  {
   "cell_type": "code",
   "execution_count": 12,
   "metadata": {},
   "outputs": [
    {
     "name": "stdout",
     "output_type": "stream",
     "text": [
      "a is 1.75, b is 1 and c is 3:\n"
     ]
    }
   ],
   "source": [
    "a = 7 / 4 # True Division\n",
    "b = 7 // 4 # Integer Division\n",
    "c = 7 % 4 # Modulo Division\n",
    "print(\"a is {0}, b is {1} and c is {2}:\".format(a,b,c))"
   ]
  },
  {
   "cell_type": "markdown",
   "metadata": {},
   "source": [
    "## Sequence Operators"
   ]
  },
  {
   "cell_type": "code",
   "execution_count": 38,
   "metadata": {},
   "outputs": [
    {
     "name": "stdout",
     "output_type": "stream",
     "text": [
      "40\n",
      "[20, 30, 40]\n",
      "[20, 40]\n",
      "True\n",
      "False\n",
      "[10, 20, 30, 40, 50, 10, 20, 30, 40, 50]\n",
      "[10, 20, 30, 100, 50]\n",
      "[10, 20, 30, 50]\n",
      "False\n",
      "True\n",
      "True\n",
      "True\n",
      "False\n",
      "False\n",
      "\n",
      "\n",
      "Extended Assignment Operators\n",
      "\n"
     ]
    }
   ],
   "source": [
    "a = [10, 20, 30, 40, 50]\n",
    "\n",
    "print (a[3])\n",
    "print(a[1:4])\n",
    "print(a[1:4:2]) # Usage of Step\n",
    "print(30 in a)\n",
    "print(30 not in a)\n",
    "print(a * 2)\n",
    "\n",
    "a[3] = 100 # Lists are Mutable\n",
    "print(a)\n",
    "del(a[3]) # Delete 100\n",
    "print(a)\n",
    "\n",
    "print(a[2] == a[3])\n",
    "print(a[2] != a[3])\n",
    "print(a[2] < a[3])\n",
    "print(a[2] <= a[3])\n",
    "print(a[2] > a[3])\n",
    "print(a[2] >= a[3])"
   ]
  },
  {
   "cell_type": "code",
   "execution_count": 48,
   "metadata": {},
   "outputs": [
    {
     "name": "stdout",
     "output_type": "stream",
     "text": [
      "Extended Assignment Operators\n",
      "subtle difference between the list semantics for the syntax x+=y and x = x+y.\n",
      "\n",
      "alpha:[1, 2, 3]\n",
      "Aliasing beta:[1, 2, 3], Origin alpha:[1, 2, 3]\n",
      "beta:[1, 2, 3, 4, 5], Origin alpha:[1, 2, 3, 4, 5]\n",
      "beta:[1, 2, 3, 4, 5, 6, 7], Origin alpha:[1, 2, 3, 4, 5]\n"
     ]
    }
   ],
   "source": [
    "print(\"Extended Assignment Operators\")\n",
    "print(\"subtle difference between the list semantics for the syntax x+=y and x = x+y.\\n\")\n",
    "alpha = [1, 2, 3]\n",
    "print(\"alpha:{0}\".format(alpha))\n",
    "\n",
    "beta = alpha # an alias for alpha\n",
    "print(\"Aliasing beta:{0}, Origin alpha:{1}\".format(beta,alpha))\n",
    "\n",
    "beta += [4, 5] # extends the original list with two more elements\n",
    "print(\"beta:{0}, Origin alpha:{1}\".format(beta,alpha))\n",
    "\n",
    "beta = beta + [6, 7] # reassigns beta to a new list [1, 2, 3, 4, 5, 6, 7]\n",
    "print(\"beta:{0}, Origin alpha:{1}\".format(beta,alpha))\n",
    "\n",
    "# More information : https://stackoverflow.com/questions/15376509/when-is-i-x-different-from-i-i-x-in-python"
   ]
  },
  {
   "cell_type": "markdown",
   "metadata": {},
   "source": [
    "## Chained Assignment"
   ]
  },
  {
   "cell_type": "code",
   "execution_count": 52,
   "metadata": {},
   "outputs": [
    {
     "name": "stdout",
     "output_type": "stream",
     "text": [
      "5 5\n",
      "True\n",
      "True\n"
     ]
    }
   ],
   "source": [
    "x = y = 5 #assign multiple identifiers to the rightmost value\n",
    "print(x,y)\n",
    "\n",
    "z = (1 <= x + y) and (x + y <= 10)\n",
    "print(z)\n",
    "\n",
    "a = 1 <= x + y <= 10 # chaining of comparison operators, Computing x + y only once\n",
    "print(a)"
   ]
  },
  {
   "cell_type": "markdown",
   "metadata": {},
   "source": [
    "## Information Passing"
   ]
  },
  {
   "cell_type": "code",
   "execution_count": 62,
   "metadata": {},
   "outputs": [
    {
     "name": "stdout",
     "output_type": "stream",
     "text": [
      "[11, 12, 13, 14, 15]\n",
      "[1, 2, 3, 4, 5]\n",
      "[11, 12, 13, 14, 15]\n"
     ]
    }
   ],
   "source": [
    "data = [1, 2, 3, 4, 5]\n",
    "\n",
    "def modify(d,n):\n",
    "    temp = []\n",
    "    for i in range(len(d)):\n",
    "        temp.append(d[i] + n)\n",
    "    print(temp)\n",
    "    return temp\n",
    "\n",
    "newdata = modify(data,10)\n",
    "print(data)\n",
    "print(newdata)\n",
    "        "
   ]
  },
  {
   "cell_type": "code",
   "execution_count": 66,
   "metadata": {},
   "outputs": [
    {
     "name": "stdout",
     "output_type": "stream",
     "text": [
      "a:5, b=10, c=20\n",
      "None\n",
      "a:5, b=20, c=20\n",
      "None\n",
      "a:5, b=20, c=30\n",
      "None\n"
     ]
    }
   ],
   "source": [
    "# Default Parameters (positional arguments)\n",
    "def foo(a, b=10, c=20):\n",
    "    print(\"a:{0}, b={1}, c={2}\".format(a,b,c))\n",
    "print(foo(5))\n",
    "print(foo(5,20))\n",
    "print(foo(5,20,30))"
   ]
  },
  {
   "cell_type": "code",
   "execution_count": 71,
   "metadata": {},
   "outputs": [
    {
     "name": "stdout",
     "output_type": "stream",
     "text": [
      "a:10, b=20, c=50\n",
      "None\n",
      "a:11, b=22, c=30\n",
      "None\n",
      "a:15, b=20, c=35\n",
      "None\n"
     ]
    }
   ],
   "source": [
    "# Default Parameters (keyword arguments)\n",
    "def foo(a = 10, b = 20, c = 30):\n",
    "    print(\"a:{0}, b={1}, c={2}\".format(a,b,c))\n",
    "print(foo(c = 50))\n",
    "print(foo(a = 11, b = 22))\n",
    "print(foo(a = 15, c = 35))"
   ]
  },
  {
   "cell_type": "code",
   "execution_count": 77,
   "metadata": {},
   "outputs": [
    {
     "name": "stdout",
     "output_type": "stream",
     "text": [
      "40\n",
      "20\n",
      "-50\n"
     ]
    }
   ],
   "source": [
    "# Default Parameters (keyword arguments)\n",
    "a = [10, 20, 30 ,40, -50]\n",
    "print(max(a))\n",
    "print(max(a[1],a[4]))\n",
    "\n",
    "# When max is called in this way, it will compare abs(a) to abs(b), rather than a to b\n",
    "\n",
    "print(max(a[1],a[4],key=abs)) # (Functions are first-class objects in Python;"
   ]
  },
  {
   "cell_type": "code",
   "execution_count": 79,
   "metadata": {},
   "outputs": [
    {
     "name": "stdout",
     "output_type": "stream",
     "text": [
      "65\n",
      "A\n"
     ]
    }
   ],
   "source": [
    "# Character Encoding\n",
    "\n",
    "#ord: Return the Unicode code point of the given character.\n",
    "print(ord('A'))\n",
    "\n",
    "# chr: Return a one-character string with the given Unicode code point.\n",
    "print(chr(65))"
   ]
  },
  {
   "cell_type": "code",
   "execution_count": 87,
   "metadata": {},
   "outputs": [
    {
     "name": "stdout",
     "output_type": "stream",
     "text": [
      "[10, 20, 30, 40, -50]\n",
      "[]\n",
      "------\n",
      "[10, 20, 30, 40, -50]\n",
      "[-50, 10, 20, 30, 40]\n",
      "------\n",
      "[-50, 10, 20, 30, 40]\n",
      "[-50, 10, 20, 30, 40]\n",
      "------\n",
      "[-50, 10, 20, 30, 40]\n",
      "None\n"
     ]
    }
   ],
   "source": [
    "# Built-in functions for sorting\n",
    "a = [10, 20, 30 ,40, -50]\n",
    "b = []\n",
    "print(a)\n",
    "print(b)\n",
    "print(\"------\")\n",
    "b = sorted(a)\n",
    "print(a)\n",
    "print(b)\n",
    "a.sort()\n",
    "print(\"------\")\n",
    "print(a)\n",
    "print(b)\n",
    "print(\"------\")\n",
    "a = [10, 20, 30 ,40, -50]\n",
    "b = []\n",
    "b = a.sort()\n",
    "print(a) # Sorted a\n",
    "print(b) # None"
   ]
  },
  {
   "cell_type": "markdown",
   "metadata": {},
   "source": [
    "## Iterators and Generators"
   ]
  },
  {
   "cell_type": "code",
   "execution_count": 128,
   "metadata": {},
   "outputs": [
    {
     "name": "stdout",
     "output_type": "stream",
     "text": [
      "[10, 20, 30, 40, -50]\n",
      "10\n",
      "20 30 40 -50\n",
      "0\n",
      "1\n",
      "2\n",
      "3\n",
      "4\n",
      "5\n",
      "6\n",
      "7\n",
      "8\n",
      "9\n"
     ]
    }
   ],
   "source": [
    "a = [10, 20, 30 ,40, -50]\n",
    "print(a)\n",
    "i = iter(a)\n",
    "print(next(i))\n",
    "print(next(i),next(i),next(i),next(i))\n",
    "\n",
    "for i in range(10): # Returns a range object that is iterable (Lazy Evaluation)\n",
    "    print(i)"
   ]
  },
  {
   "cell_type": "code",
   "execution_count": 131,
   "metadata": {},
   "outputs": [
    {
     "data": {
      "text/plain": [
       "[1, 2, 4, 5, 10, 20, 25, 50, 100]"
      ]
     },
     "execution_count": 131,
     "metadata": {},
     "output_type": "execute_result"
    }
   ],
   "source": [
    "# traditional function that computes factors store factors in a new list\n",
    "def factors(n): \n",
    "    results = [ ] \n",
    "    for k in range(1,n+1):\n",
    "        if n % k == 0: # divides evenly, thus k is a factor\n",
    "            results.append(k) # add k to the list of factors\n",
    "    return results\n",
    "\n",
    "factors(100)"
   ]
  },
  {
   "cell_type": "markdown",
   "metadata": {},
   "source": [
    "### Why Geneartiors ?\n",
    "a generator is a function that returns an object (iterator) which we can iterate over (one value at a time).\n",
    "\n",
    "1. Easy to Implement\n",
    "2. Memory Efficient\n",
    "3. Represent Infinite Stream\n",
    "4. Pipelining Generators"
   ]
  },
  {
   "cell_type": "code",
   "execution_count": 5,
   "metadata": {},
   "outputs": [
    {
     "name": "stdout",
     "output_type": "stream",
     "text": [
      "1\n",
      "2\n",
      "4\n",
      "5\n",
      "10\n",
      "20\n",
      "25\n",
      "50\n"
     ]
    }
   ],
   "source": [
    "# generator that computes factors\n",
    "def factors(n): \n",
    "    for k in range(1,n+1):\n",
    "        if n % k == 0: # divides evenly, thus k is a factor\n",
    "            yield k    ## yield this factor as next result\n",
    "\n",
    "a = factors(100)\n",
    "print(next(a))\n",
    "print(next(a))\n",
    "print(next(a))\n",
    "print(next(a))\n",
    "print(next(a))\n",
    "print(next(a))\n",
    "print(next(a))\n",
    "print(next(a))"
   ]
  },
  {
   "cell_type": "code",
   "execution_count": 13,
   "metadata": {},
   "outputs": [
    {
     "name": "stdout",
     "output_type": "stream",
     "text": [
      "<generator object my_gen at 0x10af17f48>\n",
      "This is printed first\n",
      "1\n",
      "This is printed second\n",
      "2\n",
      "This is printed at last\n",
      "3\n"
     ]
    },
    {
     "ename": "StopIteration",
     "evalue": "",
     "output_type": "error",
     "traceback": [
      "\u001b[0;31m---------------------------------------------------------------------------\u001b[0m",
      "\u001b[0;31mStopIteration\u001b[0m                             Traceback (most recent call last)",
      "\u001b[0;32m<ipython-input-13-5c6e05982fe8>\u001b[0m in \u001b[0;36m<module>\u001b[0;34m()\u001b[0m\n\u001b[1;32m     19\u001b[0m \u001b[0mprint\u001b[0m\u001b[0;34m(\u001b[0m\u001b[0mnext\u001b[0m\u001b[0;34m(\u001b[0m\u001b[0ma\u001b[0m\u001b[0;34m)\u001b[0m\u001b[0;34m)\u001b[0m\u001b[0;34m\u001b[0m\u001b[0m\n\u001b[1;32m     20\u001b[0m \u001b[0mprint\u001b[0m\u001b[0;34m(\u001b[0m\u001b[0mnext\u001b[0m\u001b[0;34m(\u001b[0m\u001b[0ma\u001b[0m\u001b[0;34m)\u001b[0m\u001b[0;34m)\u001b[0m\u001b[0;34m\u001b[0m\u001b[0m\n\u001b[0;32m---> 21\u001b[0;31m \u001b[0mprint\u001b[0m\u001b[0;34m(\u001b[0m\u001b[0mnext\u001b[0m\u001b[0;34m(\u001b[0m\u001b[0ma\u001b[0m\u001b[0;34m)\u001b[0m\u001b[0;34m)\u001b[0m \u001b[0;31m#StopIteration exception is raised\u001b[0m\u001b[0;34m\u001b[0m\u001b[0m\n\u001b[0m\u001b[1;32m     22\u001b[0m \u001b[0;34m\u001b[0m\u001b[0m\n\u001b[1;32m     23\u001b[0m \u001b[0;31m# Usage of generator in forloopt\u001b[0m\u001b[0;34m\u001b[0m\u001b[0;34m\u001b[0m\u001b[0m\n",
      "\u001b[0;31mStopIteration\u001b[0m: "
     ]
    }
   ],
   "source": [
    "# A simple generator function\n",
    "def my_gen():\n",
    "    n = 1\n",
    "    print('This is printed first')\n",
    "    # Generator function contains yield statements\n",
    "    yield n\n",
    "\n",
    "    n += 1\n",
    "    print('This is printed second')\n",
    "    yield n\n",
    "\n",
    "    n += 1\n",
    "    print('This is printed at last')\n",
    "    yield n\n",
    "    \n",
    "a = my_gen()\n",
    "print(a) \n",
    "print(next(a))\n",
    "print(next(a))\n",
    "print(next(a))\n",
    "print(next(a)) #StopIteration exception is raised"
   ]
  },
  {
   "cell_type": "code",
   "execution_count": 14,
   "metadata": {},
   "outputs": [
    {
     "name": "stdout",
     "output_type": "stream",
     "text": [
      "This is printed first\n",
      "1\n",
      "This is printed second\n",
      "2\n",
      "This is printed at last\n",
      "3\n"
     ]
    }
   ],
   "source": [
    "# Usage of generator in forloopt\n",
    "for item in my_gen():\n",
    "    print(item)\n",
    "    \n",
    "# This is because, a for loop takes an iterator and iterates over it using next() function. It automatically ends when StopIteration is raised."
   ]
  },
  {
   "cell_type": "code",
   "execution_count": 15,
   "metadata": {},
   "outputs": [
    {
     "name": "stdout",
     "output_type": "stream",
     "text": [
      "o\n",
      "l\n",
      "l\n",
      "e\n",
      "h\n"
     ]
    }
   ],
   "source": [
    "# generator that reverses a string\n",
    "def rev_str(my_str):\n",
    "    length = len(my_str)\n",
    "    for i in range(length - 1,-1,-1):\n",
    "        yield my_str[i]\n",
    "\n",
    "# For loop to reverse the string\n",
    "# Output:\n",
    "# o\n",
    "# l\n",
    "# l\n",
    "# e\n",
    "# h\n",
    "for char in rev_str(\"hello\"):\n",
    "     print(char)"
   ]
  },
  {
   "cell_type": "code",
   "execution_count": 20,
   "metadata": {},
   "outputs": [
    {
     "name": "stdout",
     "output_type": "stream",
     "text": [
      "The major difference between a list comprehension and a generator expression is that while list comprehension produces the entire list, generator expression produces one item at a time.\n",
      "\n",
      "They are kind of lazy, producing items only when asked for. For this reason, a generator expression is much more memory efficient than an equivalent list comprehension.\n"
     ]
    }
   ],
   "source": [
    "print(\"The major difference between a list comprehension and a generator expression is that while list comprehension produces the entire list, generator expression produces one item at a time.\\n\")\n",
    "\n",
    "print(\"They are kind of lazy, producing items only when asked for. For this reason, a generator expression is much more memory efficient than an equivalent list comprehension.\")\n",
    "\n"
   ]
  },
  {
   "cell_type": "code",
   "execution_count": 22,
   "metadata": {},
   "outputs": [
    {
     "name": "stdout",
     "output_type": "stream",
     "text": [
      "[1, 9, 36, 100]\n",
      "<generator object <genexpr> at 0x10af17cf0>\n"
     ]
    }
   ],
   "source": [
    "# Initialize the list\n",
    "my_list = [1, 3, 6, 10]\n",
    "\n",
    "# square each term using list comprehension\n",
    "# Output: [1, 9, 36, 100]\n",
    "print([x**2 for x in my_list])\n",
    "\n",
    "# same thing can be done using generator expression\n",
    "# Output: <generator object <genexpr> at 0x0000000002EBDAF8>\n",
    "print((x**2 for x in my_list))"
   ]
  },
  {
   "cell_type": "code",
   "execution_count": 23,
   "metadata": {},
   "outputs": [
    {
     "name": "stdout",
     "output_type": "stream",
     "text": [
      "1\n",
      "9\n",
      "36\n",
      "100\n"
     ]
    },
    {
     "ename": "StopIteration",
     "evalue": "",
     "output_type": "error",
     "traceback": [
      "\u001b[0;31m---------------------------------------------------------------------------\u001b[0m",
      "\u001b[0;31mStopIteration\u001b[0m                             Traceback (most recent call last)",
      "\u001b[0;32m<ipython-input-23-461b408d37d1>\u001b[0m in \u001b[0;36m<module>\u001b[0;34m()\u001b[0m\n\u001b[1;32m     15\u001b[0m \u001b[0;34m\u001b[0m\u001b[0m\n\u001b[1;32m     16\u001b[0m \u001b[0;31m# Output: StopIteration\u001b[0m\u001b[0;34m\u001b[0m\u001b[0;34m\u001b[0m\u001b[0m\n\u001b[0;32m---> 17\u001b[0;31m \u001b[0mnext\u001b[0m\u001b[0;34m(\u001b[0m\u001b[0ma\u001b[0m\u001b[0;34m)\u001b[0m\u001b[0;34m\u001b[0m\u001b[0m\n\u001b[0m",
      "\u001b[0;31mStopIteration\u001b[0m: "
     ]
    }
   ],
   "source": [
    "my_list = [1, 3, 6, 10]\n",
    "\n",
    "a = (x**2 for x in my_list)\n",
    "# Output: 1\n",
    "print(next(a))\n",
    "\n",
    "# Output: 9\n",
    "print(next(a))\n",
    "\n",
    "# Output: 36\n",
    "print(next(a))\n",
    "\n",
    "# Output: 100\n",
    "print(next(a))\n",
    "\n",
    "# Output: StopIteration\n",
    "next(a)"
   ]
  },
  {
   "cell_type": "code",
   "execution_count": 28,
   "metadata": {},
   "outputs": [
    {
     "data": {
      "text/plain": [
       "146"
      ]
     },
     "execution_count": 28,
     "metadata": {},
     "output_type": "execute_result"
    }
   ],
   "source": [
    "# Generator expression can be used inside functions. When used in such a way, the round parentheses can be dropped.\n",
    "my_list = [1, 3, 6, 10]\n",
    "sum(x**2 for x in my_list)"
   ]
  },
  {
   "cell_type": "code",
   "execution_count": 29,
   "metadata": {},
   "outputs": [
    {
     "data": {
      "text/plain": [
       "100"
      ]
     },
     "execution_count": 29,
     "metadata": {},
     "output_type": "execute_result"
    }
   ],
   "source": [
    "max(x**2 for x in my_list)"
   ]
  },
  {
   "cell_type": "markdown",
   "metadata": {},
   "source": [
    "The results are only computed if requested,\n",
    "and the entire series need not reside in memory at one time. In fact, a\n",
    "generator can effectively produce an infinite series of values. As"
   ]
  },
  {
   "cell_type": "code",
   "execution_count": 35,
   "metadata": {},
   "outputs": [
    {
     "name": "stdout",
     "output_type": "stream",
     "text": [
      "0\n",
      "1\n",
      "1\n",
      "2\n",
      "3\n",
      "5\n",
      "8\n",
      "13\n"
     ]
    }
   ],
   "source": [
    "# The followinggenerator produces this infinite series of fibonacci series\n",
    "def fibonacci( ):\n",
    "    a = 0\n",
    "    b = 1\n",
    "    while True: # keep going...\n",
    "        yield a # report value, a, during this pass\n",
    "        future = a + b\n",
    "        a = b # this will be next value reported\n",
    "        b = future # # and subsequently this\n",
    "        \n",
    "a = fibonacci()\n",
    "print(next(a))\n",
    "print(next(a))\n",
    "print(next(a))\n",
    "print(next(a))\n",
    "print(next(a))\n",
    "print(next(a))\n",
    "print(next(a))\n",
    "print(next(a))"
   ]
  },
  {
   "cell_type": "markdown",
   "metadata": {},
   "source": [
    "## Conditional Expressions\n",
    "Python supports a conditional expression syntax that can replace a simple control\n",
    "structure. \n",
    "The general syntax is an expression of the form:\n",
    "    expr1 if condition else expr2"
   ]
  },
  {
   "cell_type": "code",
   "execution_count": 38,
   "metadata": {},
   "outputs": [
    {
     "name": "stdout",
     "output_type": "stream",
     "text": [
      "40\n"
     ]
    }
   ],
   "source": [
    "def foo(p):\n",
    "    return(p+p)\n",
    "    \n",
    "n = -20\n",
    "if n >= 0:\n",
    "    p = n\n",
    "else:\n",
    "    p = -n\n",
    "\n",
    "result = foo(p)\n",
    "print(result)"
   ]
  },
  {
   "cell_type": "code",
   "execution_count": 39,
   "metadata": {},
   "outputs": [
    {
     "name": "stdout",
     "output_type": "stream",
     "text": [
      "40\n"
     ]
    }
   ],
   "source": [
    "p = n if n>= 0 else -n\n",
    "print(foo(p))"
   ]
  },
  {
   "cell_type": "code",
   "execution_count": 40,
   "metadata": {},
   "outputs": [
    {
     "name": "stdout",
     "output_type": "stream",
     "text": [
      "40\n"
     ]
    }
   ],
   "source": [
    "print(foo(n if n>= 0 else -n))"
   ]
  },
  {
   "cell_type": "markdown",
   "metadata": {},
   "source": [
    "## Comprehension Syntax\n",
    "### list comprehension\n",
    "General formis is as below:\n",
    "    [ expression for value in iterable if condition ]"
   ]
  },
  {
   "cell_type": "code",
   "execution_count": 1,
   "metadata": {},
   "outputs": [
    {
     "name": "stdout",
     "output_type": "stream",
     "text": [
      "[1, 4, 9, 16, 25, 36, 49, 64, 81, 100]\n"
     ]
    }
   ],
   "source": [
    "# Traditiona Way\n",
    "squares = [ ]\n",
    "for k in range(1, 11):\n",
    "    squares.append(k*k)\n",
    "print(squares)"
   ]
  },
  {
   "cell_type": "code",
   "execution_count": 3,
   "metadata": {},
   "outputs": [
    {
     "name": "stdout",
     "output_type": "stream",
     "text": [
      "[1, 4, 9, 16, 25, 36, 49, 64, 81, 100]\n"
     ]
    }
   ],
   "source": [
    "# List Comprehension\n",
    "squares = [k*k for k in range(1, 11)]\n",
    "print(squares)"
   ]
  },
  {
   "cell_type": "code",
   "execution_count": 9,
   "metadata": {},
   "outputs": [
    {
     "name": "stdout",
     "output_type": "stream",
     "text": [
      "[1, 2, 4, 5, 10, 20, 25, 50, 100]\n"
     ]
    }
   ],
   "source": [
    "# a list of factors for an integer n\n",
    "n = 100\n",
    "factors = [k for k in range(1,n+1) if n % k == 0]\n",
    "print(factors)"
   ]
  },
  {
   "cell_type": "code",
   "execution_count": 13,
   "metadata": {},
   "outputs": [
    {
     "name": "stdout",
     "output_type": "stream",
     "text": [
      "[1, 4, 9, 16, 25, 36, 49, 64, 81, 100]\n",
      "{64, 1, 4, 36, 100, 9, 16, 49, 81, 25}\n",
      "<generator object <genexpr> at 0x10ae5dc00>\n",
      "{1: 1, 2: 4, 3: 9, 4: 16, 5: 25, 6: 36, 7: 49, 8: 64, 9: 81, 10: 100}\n"
     ]
    }
   ],
   "source": [
    "# Squares of numbers\n",
    "n = 10\n",
    "\n",
    "print([ k*k for k in range(1, n+1) ]) # list comprehension\n",
    "print({ k*k for k in range(1, n+1) }) # set comprehension\n",
    "print(( k*k for k in range(1, n+1) )) # generator comprehension\n",
    "print({ k : k*k for k in range(1, n+1) }) # dictionary comprehension"
   ]
  },
  {
   "cell_type": "code",
   "execution_count": 18,
   "metadata": {},
   "outputs": [
    {
     "name": "stdout",
     "output_type": "stream",
     "text": [
      "385\n",
      "100\n",
      "1\n"
     ]
    }
   ],
   "source": [
    "# compute the sum of the first n squares\n",
    "n = 10\n",
    "total = sum(k*k for k in range(1, n+1))\n",
    "print(total)\n",
    "print(max(k*k for k in range(1, n+1)))\n",
    "print(min(k*k for k in range(1, n+1)))"
   ]
  },
  {
   "cell_type": "markdown",
   "metadata": {},
   "source": [
    "## Packing and Unpacking of Sequences"
   ]
  },
  {
   "cell_type": "code",
   "execution_count": 20,
   "metadata": {},
   "outputs": [
    {
     "name": "stdout",
     "output_type": "stream",
     "text": [
      "<class 'tuple'>\n",
      "(2, 4, 6, 8)\n"
     ]
    }
   ],
   "source": [
    "data = 2, 4, 6, 8 # automatic packing of a tuple\n",
    "print(type(data))\n",
    "print(data)"
   ]
  },
  {
   "cell_type": "code",
   "execution_count": 25,
   "metadata": {},
   "outputs": [
    {
     "name": "stdout",
     "output_type": "stream",
     "text": [
      "(10, 9)\n",
      "10\n",
      "9\n"
     ]
    }
   ],
   "source": [
    "def two_bro(n):\n",
    "    x = n\n",
    "    y = n-1 \n",
    "    return x,y\n",
    "res = two_bro(10) #return values in tuple\n",
    "print(res)\n",
    "\n",
    "res,res1 = two_bro(10) #unpacking\n",
    "print(res)\n",
    "print(res1)"
   ]
  },
  {
   "cell_type": "code",
   "execution_count": 24,
   "metadata": {},
   "outputs": [
    {
     "name": "stdout",
     "output_type": "stream",
     "text": [
      "7 8 9 10\n",
      "8\n"
     ]
    }
   ],
   "source": [
    "a, b, c, d = range(7, 11) #unpacking\n",
    "print(a,b,c,d)\n",
    "print(b)"
   ]
  },
  {
   "cell_type": "code",
   "execution_count": 26,
   "metadata": {},
   "outputs": [
    {
     "name": "stdout",
     "output_type": "stream",
     "text": [
      "7 2\n",
      "5 8\n",
      "6 4\n"
     ]
    }
   ],
   "source": [
    "for x, y in [ (7, 2), (5, 8), (6, 4) ]:\n",
    "    print(x,y)"
   ]
  },
  {
   "cell_type": "code",
   "execution_count": 28,
   "metadata": {},
   "outputs": [
    {
     "name": "stdout",
     "output_type": "stream",
     "text": [
      "6 2 5\n",
      "2 6 5\n"
     ]
    }
   ],
   "source": [
    "x, y, z = 6, 2, 5\n",
    "print(x,y,z)\n",
    "x,y = y,x\n",
    "print(x,y,z)"
   ]
  },
  {
   "cell_type": "code",
   "execution_count": 55,
   "metadata": {},
   "outputs": [
    {
     "name": "stdout",
     "output_type": "stream",
     "text": [
      "0\n",
      "1\n",
      "1\n",
      "2\n",
      "3\n",
      "5\n",
      "8\n",
      "13\n",
      "21\n",
      "34\n",
      "55\n",
      "None\n"
     ]
    }
   ],
   "source": [
    "# Fibonacci\n",
    "fib = []\n",
    "def fibonacci(n):\n",
    "    a, b = 0, 1\n",
    "    while n >= 0:\n",
    "        n = n - 1\n",
    "        print(a)\n",
    "        a, b = b, a+b\n",
    "print(fibonacci(10))"
   ]
  },
  {
   "cell_type": "code",
   "execution_count": 47,
   "metadata": {},
   "outputs": [
    {
     "name": "stdout",
     "output_type": "stream",
     "text": [
      "['In', 'Out', '_', '_10', '_11', '_12', '__', '___', '__builtin__', '__builtins__', '__doc__', '__loader__', '__name__', '__package__', '__spec__', '_dh', '_i', '_i1', '_i10', '_i11', '_i12', '_i13', '_i14', '_i15', '_i16', '_i17', '_i18', '_i19', '_i2', '_i20', '_i21', '_i22', '_i23', '_i24', '_i25', '_i26', '_i27', '_i28', '_i29', '_i3', '_i30', '_i31', '_i32', '_i33', '_i34', '_i35', '_i36', '_i37', '_i38', '_i39', '_i4', '_i40', '_i41', '_i42', '_i43', '_i44', '_i45', '_i46', '_i47', '_i5', '_i6', '_i7', '_i8', '_i9', '_ih', '_ii', '_iii', '_oh', 'a', 'b', 'c', 'd', 'data', 'exit', 'factors', 'fib', 'fibonacci', 'get_ipython', 'k', 'n', 'quit', 'res', 'res1', 'squares', 'total', 'two_bro', 'x', 'y', 'z']\n",
      "\n",
      "{'__name__': '__main__', '__doc__': 'Automatically created module for IPython interactive environment', '__package__': None, '__loader__': None, '__spec__': None, '__builtin__': <module 'builtins' (built-in)>, '__builtins__': <module 'builtins' (built-in)>, '_ih': ['', '# Traditiona Way\\nsquares = [ ]\\nfor k in range(1, 11):\\n    squares.append(k*k)\\nprint(squares)', '# List Comprehension\\nsquares = [k*k for k in range(1, 10)]\\nprint(squares)', '# List Comprehension\\nsquares = [k*k for k in range(1, 11)]\\nprint(squares)', '# a list of factors for an integer n\\nfactors = [k for k in range(1,10+1) if 11 % k == 0]', '# a list of factors for an integer n\\nfactors = [k for k in range(1,10+1) if 11 % k == 0]\\nprint(factors)', '# a list of factors for an integer n\\nfactors = [k for k in range(1,100+1) if 11 % k == 0]\\nprint(factors)', '# a list of factors for an integer n\\nn = 100\\nfactors = [k for k in range(1,n+1) if n % k == 0]\\nprint(factors)', '# a list of factors for an integer n\\n\\nfactors = [k for k in range(1,100+1) if 100 % k == 0]\\nprint(factors)', '# a list of factors for an integer n\\nn = 100\\nfactors = [k for k in range(1,n+1) if n % k == 0]\\nprint(factors)', '# Squares of numbers\\nn = 10\\n\\nprint([ k*k for k in range(1, n+1) ]) # list comprehension\\n{ k*k for k in range(1, n+1) } # set comprehension\\n( k*k for k in range(1, n+1) ) # generator comprehension\\n{ k : k*k for k in range(1, n+1) } # dictionary comprehension', '# Squares of numbers\\nn = 10\\n\\nprint([ k*k for k in range(1, n+1) ]) # list comprehension\\nprint({ k*k for k in range(1, n+1) }) # set comprehension\\n( k*k for k in range(1, n+1) ) # generator comprehension\\n{ k : k*k for k in range(1, n+1) } # dictionary comprehension', '# Squares of numbers\\nn = 10\\n\\nprint([ k*k for k in range(1, n+1) ]) # list comprehension\\nprint({ k*k for k in range(1, n+1) }) # set comprehension\\nprint(( k*k for k in range(1, n+1) )) # generator comprehension\\n{ k : k*k for k in range(1, n+1) } # dictionary comprehension', '# Squares of numbers\\nn = 10\\n\\nprint([ k*k for k in range(1, n+1) ]) # list comprehension\\nprint({ k*k for k in range(1, n+1) }) # set comprehension\\nprint(( k*k for k in range(1, n+1) )) # generator comprehension\\nprint({ k : k*k for k in range(1, n+1) }) # dictionary comprehension', '# compute the sum of the first n squares\\nprint(total = sum(k k for k in range(1, n+1)))', '# compute the sum of the first n squares\\nn = 10\\nprint(total = sum(k*k for k in range(1, n+1)))', '# compute the sum of the first n squares\\nn = 10\\ntotal = sum(k*k for k in range(1, n+1))\\nprint(total)', '# compute the sum of the first n squares\\nn = 10\\ntotal = sum(k*k for k in range(1, n+1))\\nprint(total)\\nprint(max(k*k for k in range(1, n+1)))', '# compute the sum of the first n squares\\nn = 10\\ntotal = sum(k*k for k in range(1, n+1))\\nprint(total)\\nprint(max(k*k for k in range(1, n+1)))\\nprint(min(k*k for k in range(1, n+1)))', 'data = 2, 4, 6, 8\\nprint(type(data))', 'data = 2, 4, 6, 8\\nprint(type(data))\\nprint(data)', 'def two_bro(n):\\n    x = n\\n    y = n-1 \\n    return x,y\\nres = two_bro(10)\\nprint(res)', 'a, b, c, d = range(7, 11) #unpacking', 'a, b, c, d = range(7, 11) #unpacking\\nprint(a,b,c,d)', 'a, b, c, d = range(7, 11) #unpacking\\nprint(a,b,c,d)\\nprint(b)', 'def two_bro(n):\\n    x = n\\n    y = n-1 \\n    return x,y\\nres = two_bro(10) #return values in tuple\\nprint(res)\\n\\nres,res1 = two_bro(10)\\nprint(res)\\nprint(res1)', 'for x, y in [ (7, 2), (5, 8), (6, 4) ]:\\n    print(x,y)', 'x, y, z = 6, 2, 5\\nprint(x,y,z)', 'x, y, z = 6, 2, 5\\nprint(x,y,z)\\nx,y = y,x\\nprint(x,y,z)', '# Fibonacci\\ndef fibonacci( ):\\n    a, b = 0, 1\\n    while True:\\n        yield a\\n        a, b = b, a+b\\nfib = fibonacci()\\nprint(fib)', '# Fibonacci\\ndef fibonacci( ):\\n    a, b = 0, 1\\n    while True:\\n        yield a\\n        a, b = b, a+b\\nfib = fibonacci()\\nprint(next(fib)', '# Fibonacci\\ndef fibonacci( ):\\n    a, b = 0, 1\\n    while True:\\n        yield a\\n        a, b = b, a+b\\nfib = fibonacci()\\nprint(next(fib))', '# Fibonacci\\ndef fibonacci(n):\\n    a, b = 0, 1\\n    while n > 0:\\n        n = n - 1\\n        yield a\\n        a, b = b, a+b\\nfib = fibonacci()\\nprint(next(fib))', '# Fibonacci\\ndef fibonacci(n):\\n    a, b = 0, 1\\n    while n > 0:\\n        n = n - 1\\n        yield a\\n        a, b = b, a+b\\nfib = fibonacci(10)\\nprint(next(fib))', '# Fibonacci\\ndef fibonacci(n):\\n    a, b = 0, 1\\n    while n > 0:\\n        n = n - 1\\n        yield a\\n        a, b = b, a+b\\nfib = fibonacci(10)\\nprint(fib)', '# Fibonacci\\ndef fibonacci(n):\\n    a, b = 0, 1\\n    while n > 0:\\n        n = n - 1\\n        a, b = b, a+b\\n        print a\\nprint(fibonacci(10))', '# Fibonacci\\ndef fibonacci(n):\\n    a, b = 0, 1\\n    while n > 0:\\n        n = n - 1\\n        a, b = b, a+b\\n        print(a)\\nprint(fibonacci(10))', '# Fibonacci\\ndef fibonacci(n):\\n    a, b = 0, 1\\n    while n >= 0:\\n        n = n - 1\\n        a, b = b, a+b\\n        print(a)\\nprint(fibonacci(10))', '# Fibonacci\\ndef fibonacci(n):\\n    a, b = 0, 1\\n    while n >= 0:\\n        n = n - 1\\n        print(a)\\n        a, b = b, a+b\\nprint(fibonacci(10))', '# Fibonacci\\nfib = []\\ndef fibonacci(n):\\n    a, b = 0, 1\\n    while n >= 0:\\n        n = n - 1\\n        fib.append(a)\\n        a, b = b, a+b\\nprint(fib)', '# Fibonacci\\nfib = []\\ndef fibonacci(n):\\n    a, b = 0, 1\\n    while n >= 0:\\n        n = n - 1\\n        fib.append(a)\\n        a, b = b, a+b\\n    return fib\\nprint(fib)', '# Fibonacci\\nfib = []\\ndef fibonacci(n):\\n    a, b = 0, 1\\n    while n >= 0:\\n        n = n - 1\\n        fib.append(a)\\n        a, b = b, a+b\\n    print(fib)\\nprint(fib)', '# Fibonacci\\nfib = []\\ndef fibonacci(n):\\n    a, b = 0, 1\\n    while n >= 0:\\n        n = n - 1\\n        print(a)\\n        a, b = b, a+b\\nprint(fibonacci(10))', 'print(dir())', 'print(vars())', '# calls to dir( ) and vars( ) report on the most locally enclosing namespace in which they are executed\\nprint(dir())', '# calls to dir( ) and vars( ) report on the most locally enclosing namespace in which they are executed\\nprint(dir())\\nprint(vars())', '# calls to dir( ) and vars( ) report on the most locally enclosing namespace in which they are executed\\nprint(dir())\\nprint()\\nprint(vars())'], '_oh': {10: {1: 1, 2: 4, 3: 9, 4: 16, 5: 25, 6: 36, 7: 49, 8: 64, 9: 81, 10: 100}, 11: {1: 1, 2: 4, 3: 9, 4: 16, 5: 25, 6: 36, 7: 49, 8: 64, 9: 81, 10: 100}, 12: {1: 1, 2: 4, 3: 9, 4: 16, 5: 25, 6: 36, 7: 49, 8: 64, 9: 81, 10: 100}}, '_dh': ['/Users/sbk/dsa_python'], 'In': ['', '# Traditiona Way\\nsquares = [ ]\\nfor k in range(1, 11):\\n    squares.append(k*k)\\nprint(squares)', '# List Comprehension\\nsquares = [k*k for k in range(1, 10)]\\nprint(squares)', '# List Comprehension\\nsquares = [k*k for k in range(1, 11)]\\nprint(squares)', '# a list of factors for an integer n\\nfactors = [k for k in range(1,10+1) if 11 % k == 0]', '# a list of factors for an integer n\\nfactors = [k for k in range(1,10+1) if 11 % k == 0]\\nprint(factors)', '# a list of factors for an integer n\\nfactors = [k for k in range(1,100+1) if 11 % k == 0]\\nprint(factors)', '# a list of factors for an integer n\\nn = 100\\nfactors = [k for k in range(1,n+1) if n % k == 0]\\nprint(factors)', '# a list of factors for an integer n\\n\\nfactors = [k for k in range(1,100+1) if 100 % k == 0]\\nprint(factors)', '# a list of factors for an integer n\\nn = 100\\nfactors = [k for k in range(1,n+1) if n % k == 0]\\nprint(factors)', '# Squares of numbers\\nn = 10\\n\\nprint([ k*k for k in range(1, n+1) ]) # list comprehension\\n{ k*k for k in range(1, n+1) } # set comprehension\\n( k*k for k in range(1, n+1) ) # generator comprehension\\n{ k : k*k for k in range(1, n+1) } # dictionary comprehension', '# Squares of numbers\\nn = 10\\n\\nprint([ k*k for k in range(1, n+1) ]) # list comprehension\\nprint({ k*k for k in range(1, n+1) }) # set comprehension\\n( k*k for k in range(1, n+1) ) # generator comprehension\\n{ k : k*k for k in range(1, n+1) } # dictionary comprehension', '# Squares of numbers\\nn = 10\\n\\nprint([ k*k for k in range(1, n+1) ]) # list comprehension\\nprint({ k*k for k in range(1, n+1) }) # set comprehension\\nprint(( k*k for k in range(1, n+1) )) # generator comprehension\\n{ k : k*k for k in range(1, n+1) } # dictionary comprehension', '# Squares of numbers\\nn = 10\\n\\nprint([ k*k for k in range(1, n+1) ]) # list comprehension\\nprint({ k*k for k in range(1, n+1) }) # set comprehension\\nprint(( k*k for k in range(1, n+1) )) # generator comprehension\\nprint({ k : k*k for k in range(1, n+1) }) # dictionary comprehension', '# compute the sum of the first n squares\\nprint(total = sum(k k for k in range(1, n+1)))', '# compute the sum of the first n squares\\nn = 10\\nprint(total = sum(k*k for k in range(1, n+1)))', '# compute the sum of the first n squares\\nn = 10\\ntotal = sum(k*k for k in range(1, n+1))\\nprint(total)', '# compute the sum of the first n squares\\nn = 10\\ntotal = sum(k*k for k in range(1, n+1))\\nprint(total)\\nprint(max(k*k for k in range(1, n+1)))', '# compute the sum of the first n squares\\nn = 10\\ntotal = sum(k*k for k in range(1, n+1))\\nprint(total)\\nprint(max(k*k for k in range(1, n+1)))\\nprint(min(k*k for k in range(1, n+1)))', 'data = 2, 4, 6, 8\\nprint(type(data))', 'data = 2, 4, 6, 8\\nprint(type(data))\\nprint(data)', 'def two_bro(n):\\n    x = n\\n    y = n-1 \\n    return x,y\\nres = two_bro(10)\\nprint(res)', 'a, b, c, d = range(7, 11) #unpacking', 'a, b, c, d = range(7, 11) #unpacking\\nprint(a,b,c,d)', 'a, b, c, d = range(7, 11) #unpacking\\nprint(a,b,c,d)\\nprint(b)', 'def two_bro(n):\\n    x = n\\n    y = n-1 \\n    return x,y\\nres = two_bro(10) #return values in tuple\\nprint(res)\\n\\nres,res1 = two_bro(10)\\nprint(res)\\nprint(res1)', 'for x, y in [ (7, 2), (5, 8), (6, 4) ]:\\n    print(x,y)', 'x, y, z = 6, 2, 5\\nprint(x,y,z)', 'x, y, z = 6, 2, 5\\nprint(x,y,z)\\nx,y = y,x\\nprint(x,y,z)', '# Fibonacci\\ndef fibonacci( ):\\n    a, b = 0, 1\\n    while True:\\n        yield a\\n        a, b = b, a+b\\nfib = fibonacci()\\nprint(fib)', '# Fibonacci\\ndef fibonacci( ):\\n    a, b = 0, 1\\n    while True:\\n        yield a\\n        a, b = b, a+b\\nfib = fibonacci()\\nprint(next(fib)', '# Fibonacci\\ndef fibonacci( ):\\n    a, b = 0, 1\\n    while True:\\n        yield a\\n        a, b = b, a+b\\nfib = fibonacci()\\nprint(next(fib))', '# Fibonacci\\ndef fibonacci(n):\\n    a, b = 0, 1\\n    while n > 0:\\n        n = n - 1\\n        yield a\\n        a, b = b, a+b\\nfib = fibonacci()\\nprint(next(fib))', '# Fibonacci\\ndef fibonacci(n):\\n    a, b = 0, 1\\n    while n > 0:\\n        n = n - 1\\n        yield a\\n        a, b = b, a+b\\nfib = fibonacci(10)\\nprint(next(fib))', '# Fibonacci\\ndef fibonacci(n):\\n    a, b = 0, 1\\n    while n > 0:\\n        n = n - 1\\n        yield a\\n        a, b = b, a+b\\nfib = fibonacci(10)\\nprint(fib)', '# Fibonacci\\ndef fibonacci(n):\\n    a, b = 0, 1\\n    while n > 0:\\n        n = n - 1\\n        a, b = b, a+b\\n        print a\\nprint(fibonacci(10))', '# Fibonacci\\ndef fibonacci(n):\\n    a, b = 0, 1\\n    while n > 0:\\n        n = n - 1\\n        a, b = b, a+b\\n        print(a)\\nprint(fibonacci(10))', '# Fibonacci\\ndef fibonacci(n):\\n    a, b = 0, 1\\n    while n >= 0:\\n        n = n - 1\\n        a, b = b, a+b\\n        print(a)\\nprint(fibonacci(10))', '# Fibonacci\\ndef fibonacci(n):\\n    a, b = 0, 1\\n    while n >= 0:\\n        n = n - 1\\n        print(a)\\n        a, b = b, a+b\\nprint(fibonacci(10))', '# Fibonacci\\nfib = []\\ndef fibonacci(n):\\n    a, b = 0, 1\\n    while n >= 0:\\n        n = n - 1\\n        fib.append(a)\\n        a, b = b, a+b\\nprint(fib)', '# Fibonacci\\nfib = []\\ndef fibonacci(n):\\n    a, b = 0, 1\\n    while n >= 0:\\n        n = n - 1\\n        fib.append(a)\\n        a, b = b, a+b\\n    return fib\\nprint(fib)', '# Fibonacci\\nfib = []\\ndef fibonacci(n):\\n    a, b = 0, 1\\n    while n >= 0:\\n        n = n - 1\\n        fib.append(a)\\n        a, b = b, a+b\\n    print(fib)\\nprint(fib)', '# Fibonacci\\nfib = []\\ndef fibonacci(n):\\n    a, b = 0, 1\\n    while n >= 0:\\n        n = n - 1\\n        print(a)\\n        a, b = b, a+b\\nprint(fibonacci(10))', 'print(dir())', 'print(vars())', '# calls to dir( ) and vars( ) report on the most locally enclosing namespace in which they are executed\\nprint(dir())', '# calls to dir( ) and vars( ) report on the most locally enclosing namespace in which they are executed\\nprint(dir())\\nprint(vars())', '# calls to dir( ) and vars( ) report on the most locally enclosing namespace in which they are executed\\nprint(dir())\\nprint()\\nprint(vars())'], 'Out': {10: {1: 1, 2: 4, 3: 9, 4: 16, 5: 25, 6: 36, 7: 49, 8: 64, 9: 81, 10: 100}, 11: {1: 1, 2: 4, 3: 9, 4: 16, 5: 25, 6: 36, 7: 49, 8: 64, 9: 81, 10: 100}, 12: {1: 1, 2: 4, 3: 9, 4: 16, 5: 25, 6: 36, 7: 49, 8: 64, 9: 81, 10: 100}}, 'get_ipython': <bound method InteractiveShell.get_ipython of <ipykernel.zmqshell.ZMQInteractiveShell object at 0x10ad220b8>>, 'exit': <IPython.core.autocall.ZMQExitAutocall object at 0x10ad7ab38>, 'quit': <IPython.core.autocall.ZMQExitAutocall object at 0x10ad7ab38>, '_': {1: 1, 2: 4, 3: 9, 4: 16, 5: 25, 6: 36, 7: 49, 8: 64, 9: 81, 10: 100}, '__': {1: 1, 2: 4, 3: 9, 4: 16, 5: 25, 6: 36, 7: 49, 8: 64, 9: 81, 10: 100}, '___': {1: 1, 2: 4, 3: 9, 4: 16, 5: 25, 6: 36, 7: 49, 8: 64, 9: 81, 10: 100}, '_i': '# calls to dir( ) and vars( ) report on the most locally enclosing namespace in which they are executed\\nprint(dir())\\nprint(vars())', '_ii': '# calls to dir( ) and vars( ) report on the most locally enclosing namespace in which they are executed\\nprint(dir())', '_iii': 'print(vars())', '_i1': '# Traditiona Way\\nsquares = [ ]\\nfor k in range(1, 11):\\n    squares.append(k*k)\\nprint(squares)', 'squares': [1, 4, 9, 16, 25, 36, 49, 64, 81, 100], 'k': 10, '_i2': '# List Comprehension\\nsquares = [k*k for k in range(1, 10)]\\nprint(squares)', '_i3': '# List Comprehension\\nsquares = [k*k for k in range(1, 11)]\\nprint(squares)', '_i4': '# a list of factors for an integer n\\nfactors = [k for k in range(1,10+1) if 11 % k == 0]', 'factors': [1, 2, 4, 5, 10, 20, 25, 50, 100], '_i5': '# a list of factors for an integer n\\nfactors = [k for k in range(1,10+1) if 11 % k == 0]\\nprint(factors)', '_i6': '# a list of factors for an integer n\\nfactors = [k for k in range(1,100+1) if 11 % k == 0]\\nprint(factors)', '_i7': '# a list of factors for an integer n\\nn = 100\\nfactors = [k for k in range(1,n+1) if n % k == 0]\\nprint(factors)', 'n': 10, '_i8': '# a list of factors for an integer n\\n\\nfactors = [k for k in range(1,100+1) if 100 % k == 0]\\nprint(factors)', '_i9': '# a list of factors for an integer n\\nn = 100\\nfactors = [k for k in range(1,n+1) if n % k == 0]\\nprint(factors)', '_i10': '# Squares of numbers\\nn = 10\\n\\nprint([ k*k for k in range(1, n+1) ]) # list comprehension\\n{ k*k for k in range(1, n+1) } # set comprehension\\n( k*k for k in range(1, n+1) ) # generator comprehension\\n{ k : k*k for k in range(1, n+1) } # dictionary comprehension', '_10': {1: 1, 2: 4, 3: 9, 4: 16, 5: 25, 6: 36, 7: 49, 8: 64, 9: 81, 10: 100}, '_i11': '# Squares of numbers\\nn = 10\\n\\nprint([ k*k for k in range(1, n+1) ]) # list comprehension\\nprint({ k*k for k in range(1, n+1) }) # set comprehension\\n( k*k for k in range(1, n+1) ) # generator comprehension\\n{ k : k*k for k in range(1, n+1) } # dictionary comprehension', '_11': {1: 1, 2: 4, 3: 9, 4: 16, 5: 25, 6: 36, 7: 49, 8: 64, 9: 81, 10: 100}, '_i12': '# Squares of numbers\\nn = 10\\n\\nprint([ k*k for k in range(1, n+1) ]) # list comprehension\\nprint({ k*k for k in range(1, n+1) }) # set comprehension\\nprint(( k*k for k in range(1, n+1) )) # generator comprehension\\n{ k : k*k for k in range(1, n+1) } # dictionary comprehension', '_12': {1: 1, 2: 4, 3: 9, 4: 16, 5: 25, 6: 36, 7: 49, 8: 64, 9: 81, 10: 100}, '_i13': '# Squares of numbers\\nn = 10\\n\\nprint([ k*k for k in range(1, n+1) ]) # list comprehension\\nprint({ k*k for k in range(1, n+1) }) # set comprehension\\nprint(( k*k for k in range(1, n+1) )) # generator comprehension\\nprint({ k : k*k for k in range(1, n+1) }) # dictionary comprehension', '_i14': '# compute the sum of the first n squares\\nprint(total = sum(k k for k in range(1, n+1)))', '_i15': '# compute the sum of the first n squares\\nn = 10\\nprint(total = sum(k*k for k in range(1, n+1)))', '_i16': '# compute the sum of the first n squares\\nn = 10\\ntotal = sum(k*k for k in range(1, n+1))\\nprint(total)', 'total': 385, '_i17': '# compute the sum of the first n squares\\nn = 10\\ntotal = sum(k*k for k in range(1, n+1))\\nprint(total)\\nprint(max(k*k for k in range(1, n+1)))', '_i18': '# compute the sum of the first n squares\\nn = 10\\ntotal = sum(k*k for k in range(1, n+1))\\nprint(total)\\nprint(max(k*k for k in range(1, n+1)))\\nprint(min(k*k for k in range(1, n+1)))', '_i19': 'data = 2, 4, 6, 8\\nprint(type(data))', 'data': (2, 4, 6, 8), '_i20': 'data = 2, 4, 6, 8\\nprint(type(data))\\nprint(data)', '_i21': 'def two_bro(n):\\n    x = n\\n    y = n-1 \\n    return x,y\\nres = two_bro(10)\\nprint(res)', 'two_bro': <function two_bro at 0x10af09ea0>, 'res': 10, '_i22': 'a, b, c, d = range(7, 11) #unpacking', 'a': 7, 'b': 8, 'c': 9, 'd': 10, '_i23': 'a, b, c, d = range(7, 11) #unpacking\\nprint(a,b,c,d)', '_i24': 'a, b, c, d = range(7, 11) #unpacking\\nprint(a,b,c,d)\\nprint(b)', '_i25': 'def two_bro(n):\\n    x = n\\n    y = n-1 \\n    return x,y\\nres = two_bro(10) #return values in tuple\\nprint(res)\\n\\nres,res1 = two_bro(10)\\nprint(res)\\nprint(res1)', 'res1': 9, '_i26': 'for x, y in [ (7, 2), (5, 8), (6, 4) ]:\\n    print(x,y)', 'x': 2, 'y': 6, '_i27': 'x, y, z = 6, 2, 5\\nprint(x,y,z)', 'z': 5, '_i28': 'x, y, z = 6, 2, 5\\nprint(x,y,z)\\nx,y = y,x\\nprint(x,y,z)', '_i29': '# Fibonacci\\ndef fibonacci( ):\\n    a, b = 0, 1\\n    while True:\\n        yield a\\n        a, b = b, a+b\\nfib = fibonacci()\\nprint(fib)', 'fibonacci': <function fibonacci at 0x10af232f0>, 'fib': [], '_i30': '# Fibonacci\\ndef fibonacci( ):\\n    a, b = 0, 1\\n    while True:\\n        yield a\\n        a, b = b, a+b\\nfib = fibonacci()\\nprint(next(fib)', '_i31': '# Fibonacci\\ndef fibonacci( ):\\n    a, b = 0, 1\\n    while True:\\n        yield a\\n        a, b = b, a+b\\nfib = fibonacci()\\nprint(next(fib))', '_i32': '# Fibonacci\\ndef fibonacci(n):\\n    a, b = 0, 1\\n    while n > 0:\\n        n = n - 1\\n        yield a\\n        a, b = b, a+b\\nfib = fibonacci()\\nprint(next(fib))', '_i33': '# Fibonacci\\ndef fibonacci(n):\\n    a, b = 0, 1\\n    while n > 0:\\n        n = n - 1\\n        yield a\\n        a, b = b, a+b\\nfib = fibonacci(10)\\nprint(next(fib))', '_i34': '# Fibonacci\\ndef fibonacci(n):\\n    a, b = 0, 1\\n    while n > 0:\\n        n = n - 1\\n        yield a\\n        a, b = b, a+b\\nfib = fibonacci(10)\\nprint(fib)', '_i35': '# Fibonacci\\ndef fibonacci(n):\\n    a, b = 0, 1\\n    while n > 0:\\n        n = n - 1\\n        a, b = b, a+b\\n        print a\\nprint(fibonacci(10))', '_i36': '# Fibonacci\\ndef fibonacci(n):\\n    a, b = 0, 1\\n    while n > 0:\\n        n = n - 1\\n        a, b = b, a+b\\n        print(a)\\nprint(fibonacci(10))', '_i37': '# Fibonacci\\ndef fibonacci(n):\\n    a, b = 0, 1\\n    while n >= 0:\\n        n = n - 1\\n        a, b = b, a+b\\n        print(a)\\nprint(fibonacci(10))', '_i38': '# Fibonacci\\ndef fibonacci(n):\\n    a, b = 0, 1\\n    while n >= 0:\\n        n = n - 1\\n        print(a)\\n        a, b = b, a+b\\nprint(fibonacci(10))', '_i39': '# Fibonacci\\nfib = []\\ndef fibonacci(n):\\n    a, b = 0, 1\\n    while n >= 0:\\n        n = n - 1\\n        fib.append(a)\\n        a, b = b, a+b\\nprint(fib)', '_i40': '# Fibonacci\\nfib = []\\ndef fibonacci(n):\\n    a, b = 0, 1\\n    while n >= 0:\\n        n = n - 1\\n        fib.append(a)\\n        a, b = b, a+b\\n    return fib\\nprint(fib)', '_i41': '# Fibonacci\\nfib = []\\ndef fibonacci(n):\\n    a, b = 0, 1\\n    while n >= 0:\\n        n = n - 1\\n        fib.append(a)\\n        a, b = b, a+b\\n    print(fib)\\nprint(fib)', '_i42': '# Fibonacci\\nfib = []\\ndef fibonacci(n):\\n    a, b = 0, 1\\n    while n >= 0:\\n        n = n - 1\\n        print(a)\\n        a, b = b, a+b\\nprint(fibonacci(10))', '_i43': 'print(dir())', '_i44': 'print(vars())', '_i45': '# calls to dir( ) and vars( ) report on the most locally enclosing namespace in which they are executed\\nprint(dir())', '_i46': '# calls to dir( ) and vars( ) report on the most locally enclosing namespace in which they are executed\\nprint(dir())\\nprint(vars())', '_i47': '# calls to dir( ) and vars( ) report on the most locally enclosing namespace in which they are executed\\nprint(dir())\\nprint()\\nprint(vars())'}\n"
     ]
    }
   ],
   "source": [
    "# calls to dir( ) and vars( ) report on the most locally enclosing namespace in which they are executed\n",
    "print(dir())\n",
    "print()\n",
    "print(vars())"
   ]
  },
  {
   "cell_type": "markdown",
   "metadata": {},
   "source": [
    "## First Class Objects\n",
    "first-class objects are instances of a type that can be assigned to an identifier, passed as a parameter, or returned by\n",
    "a function.\n",
    "In Python, functions and classes are also\n",
    "treated as first-class objects."
   ]
  },
  {
   "cell_type": "code",
   "execution_count": 48,
   "metadata": {},
   "outputs": [
    {
     "name": "stdout",
     "output_type": "stream",
     "text": [
      "hellllllloooooooooo\n"
     ]
    }
   ],
   "source": [
    "scream = print\n",
    "scream(\"hellllllloooooooooo\")"
   ]
  },
  {
   "cell_type": "code",
   "execution_count": null,
   "metadata": {},
   "outputs": [],
   "source": []
  }
 ],
 "metadata": {
  "kernelspec": {
   "display_name": "Python 3",
   "language": "python",
   "name": "python3"
  },
  "language_info": {
   "codemirror_mode": {
    "name": "ipython",
    "version": 3
   },
   "file_extension": ".py",
   "mimetype": "text/x-python",
   "name": "python",
   "nbconvert_exporter": "python",
   "pygments_lexer": "ipython3",
   "version": "3.7.0"
  }
 },
 "nbformat": 4,
 "nbformat_minor": 2
}
