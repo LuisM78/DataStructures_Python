{
 "cells": [
  {
   "cell_type": "markdown",
   "metadata": {},
   "source": [
    "### Heaps"
   ]
  },
  {
   "cell_type": "markdown",
   "metadata": {},
   "source": [
    "#### Complete Binary Tree (Tree Completely filled and oriented towards left)\n",
    "\n",
    "* The childer of node at index i are at indices 2i+1 and 2i+2\n",
    "\n",
    "* Useful for solving longest/smallest elements in list (No fast lookups, delete, or search operation)\n",
    "\n",
    "* k-largest/k-smallest elements in list (MinHeap for formar and MaxHeap for latter)\n",
    "\n",
    "* Famous Algorithms based on Heaps : Prims's Algo, Dijkstra's Algo, Heap Sort Algorithm\n"
   ]
  },
  {
   "cell_type": "markdown",
   "metadata": {},
   "source": [
    "* _percolateup(): Restore heap property going up from a node to the root\n",
    "* _maxheapify(): Restore heap property going from a given node down to the leaves"
   ]
  },
  {
   "cell_type": "code",
   "execution_count": 5,
   "metadata": {},
   "outputs": [],
   "source": [
    "class maxHeap:\n",
    "    def __init__(self):\n",
    "        self.heap = []\n",
    "        \n",
    "    def insert(self, val):\n",
    "        self.heap.append(val)\n",
    "        self.__percolateUp(len(self.heap)-1)\n",
    "        \n",
    "    def getMax(self):\n",
    "        if self.heap:\n",
    "            return self.heap[0]\n",
    "        return None\n",
    "    \n",
    "    def removeMax(self):\n",
    "        if len(self.heap) > 1:\n",
    "            temp = self.heap[0]\n",
    "            self.heap[0] = self.heap[-1]\n",
    "            del self.heap[-1]\n",
    "            self.__maxHeapify(0)\n",
    "            return temp\n",
    "        elif len(self.heap)==1:\n",
    "            temp=self.heap[0]\n",
    "            del self.heap[0]\n",
    "            return temp\n",
    "        else:\n",
    "            return None\n",
    "        \n",
    "    def __percolateUp(self, index):\n",
    "        parent=(index)//2\n",
    "        if index <= 0:\n",
    "            return \n",
    "        elif self.heap[index] > self.heap[parent]:\n",
    "            self.heap[index],self.heap[parent]=self.heap[parent],self.heap[index]\n",
    "            self.__percolateUp(parent)\n",
    "           \n",
    "      \n",
    "    \n",
    "    def __maxHeapify(self,index):\n",
    "        left=(2*index)+1\n",
    "        right=(2*index)+2\n",
    "        largest=index\n",
    "        if left < len(self.heap) and self.heap[left] > self.heap[largest]:\n",
    "            largest = left\n",
    "        if right < len(self.heap) and self.heap[right] > self.heap[largest]:\n",
    "            largest = right\n",
    "        if largest != index:\n",
    "            self.heap[index],self.heap[largest]=self.heap[largest],self.heap[index]\n",
    "            self.__maxHeapify(largest)\n",
    "        \n",
    "\n",
    "heap = maxHeap()\n",
    "        "
   ]
  },
  {
   "cell_type": "code",
   "execution_count": 6,
   "metadata": {},
   "outputs": [
    {
     "name": "stdout",
     "output_type": "stream",
     "text": [
      "100\n"
     ]
    }
   ],
   "source": [
    "heap = maxHeap()\n",
    "heap.insert(12)\n",
    "heap.insert(10)\n",
    "heap.insert(-10)\n",
    "heap.insert(100)\n",
    "\n",
    "print(heap.getMax())"
   ]
  },
  {
   "cell_type": "code",
   "execution_count": 7,
   "metadata": {},
   "outputs": [],
   "source": [
    "class minHeap:\n",
    "    def __init__(self):\n",
    "        self.heap = []\n",
    "        \n",
    "    def insert(self, val):\n",
    "        self.heap.append(val)\n",
    "        self.__percolateUp(len(self.heap)-1)\n",
    "        \n",
    "    def getMin(self):\n",
    "        if self.heap:\n",
    "            return self.heap[0]\n",
    "        return None\n",
    "    \n",
    "    def removeMin(self):\n",
    "        if len(self.heap) > 1:\n",
    "            temp = self.heap[0]\n",
    "            self.heap[0] = self.heap[-1]\n",
    "            del self.heap[-1]\n",
    "            self.__minHeapify(0)\n",
    "            return temp\n",
    "        elif len(self.heap) == 1:\n",
    "            temp = self.heap[0]\n",
    "            del self.heap[0]\n",
    "            return temp\n",
    "        else:\n",
    "            return None\n",
    "        \n",
    "    def __percolateUp(self, index):\n",
    "        parent = (index)//2\n",
    "        if index <= 0:\n",
    "            return \n",
    "        elif self.heap[index] < self.heap[parent]:\n",
    "            self.heap[index],self.heap[parent]=self.heap[parent],self.heap[index]\n",
    "            self.__percolateUp(parent)\n",
    "           \n",
    "      \n",
    "    \n",
    "    def __minHeapify(self,index):\n",
    "        left = (2*index)+1\n",
    "        right = (2*index)+2\n",
    "        smallest = index\n",
    "        if left < len(self.heap) and self.heap[left] < self.heap[smallest]:\n",
    "            smallest = left\n",
    "        if right < len(self.heap) and self.heap[right] < self.heap[smallest]:\n",
    "            smallest = right\n",
    "        if smallest != index:\n",
    "            self.heap[index],self.heap[smallest]=self.heap[smallest],self.heap[index]\n",
    "            self.__minHeapify(smallest)\n",
    "        \n",
    "\n",
    "heap = minHeap()"
   ]
  },
  {
   "cell_type": "code",
   "execution_count": 8,
   "metadata": {},
   "outputs": [
    {
     "name": "stdout",
     "output_type": "stream",
     "text": [
      "-10\n",
      "-10\n",
      "10\n",
      "-100\n"
     ]
    }
   ],
   "source": [
    "heap = minHeap()\n",
    "heap.insert(12)\n",
    "heap.insert(10)\n",
    "heap.insert(-10)\n",
    "heap.insert(100)\n",
    "\n",
    "print(heap.getMin())\n",
    "print(heap.removeMin())\n",
    "print(heap.getMin())\n",
    "heap.insert(-100)\n",
    "print(heap.getMin())"
   ]
  },
  {
   "cell_type": "markdown",
   "metadata": {},
   "source": [
    "### Challenge 1 : Convert Max-Heap to Min-Heap\n",
    "\n",
    "#### Given a Max-Heap convert it into a Min-Heap. "
   ]
  },
  {
   "cell_type": "code",
   "execution_count": 9,
   "metadata": {},
   "outputs": [
    {
     "name": "stdout",
     "output_type": "stream",
     "text": [
      "[-2, 1, 5, 9, 4, 6, 7]\n"
     ]
    }
   ],
   "source": [
    "def minHeapify(heap,index):\n",
    "    left, right = index * 2 + 1, (index * 2) + 2   \n",
    "    smallest = index\n",
    "    \n",
    "    if len(heap) > left and heap[smallest] > heap[left]:\n",
    "        smallest = left\n",
    "    if len(heap) > right and heap[smallest] > heap[right]:\n",
    "        smallest = right\n",
    "      \n",
    "    if smallest != index:\n",
    "        heap[index], heap[smallest] = heap[smallest], heap[index]\n",
    "        minHeapify(heap,smallest)\n",
    "    return heap\n",
    "\n",
    "def convertMax(maxHeap):\n",
    "    for i in range((len(maxHeap))//2,-1,-1):\n",
    "        maxHeap = minHeapify(maxHeap,i)\n",
    "    return maxHeap\n",
    "  \n",
    "maxHeap = [9,4,7,1,-2,6,5]\n",
    "print(convertMax(maxHeap))"
   ]
  },
  {
   "cell_type": "code",
   "execution_count": 10,
   "metadata": {},
   "outputs": [
    {
     "name": "stdout",
     "output_type": "stream",
     "text": [
      "[-2, 1, 4]\n"
     ]
    }
   ],
   "source": [
    "def findKSmallest(lst,k):\n",
    "    heap = minHeap()\n",
    "    for ele in lst: heap.insert(ele)\n",
    "    kSmallest = [heap.removeMin() for i in range(k)]\n",
    "    return kSmallest\n",
    "  \n",
    "lst = [9,4,7,1,-2,6,5]\n",
    "k = 3\n",
    "print(findKSmallest(lst,k))"
   ]
  },
  {
   "cell_type": "code",
   "execution_count": null,
   "metadata": {},
   "outputs": [],
   "source": []
  }
 ],
 "metadata": {
  "kernelspec": {
   "display_name": "Python 3",
   "language": "python",
   "name": "python3"
  },
  "language_info": {
   "codemirror_mode": {
    "name": "ipython",
    "version": 3
   },
   "file_extension": ".py",
   "mimetype": "text/x-python",
   "name": "python",
   "nbconvert_exporter": "python",
   "pygments_lexer": "ipython3",
   "version": "3.7.0"
  }
 },
 "nbformat": 4,
 "nbformat_minor": 2
}
