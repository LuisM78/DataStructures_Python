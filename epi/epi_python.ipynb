{
 "cells": [
  {
   "cell_type": "markdown",
   "metadata": {},
   "source": [
    "## Strings"
   ]
  },
  {
   "cell_type": "code",
   "execution_count": 1,
   "metadata": {},
   "outputs": [
    {
     "data": {
      "text/plain": [
       "'e lHloWrdlo'"
      ]
     },
     "execution_count": 1,
     "metadata": {},
     "output_type": "execute_result"
    }
   ],
   "source": [
    "# Snake String\n",
    "s = 'Hello World'\n",
    "def snake_string(s):\n",
    "    return s[1::4] + s[::2] + s[3::4]\n",
    "snake_string(s)"
   ]
  },
  {
   "cell_type": "code",
   "execution_count": 9,
   "metadata": {},
   "outputs": [
    {
     "data": {
      "text/plain": [
       "'21'"
      ]
     },
     "execution_count": 9,
     "metadata": {},
     "output_type": "execute_result"
    }
   ],
   "source": [
    "# Look and Say , 1,11,21,1211,111221,312211\n",
    "\n",
    "def l_s(n):\n",
    "    def next_number(s):\n",
    "        res, i = [], 0\n",
    "        while i < len(s):\n",
    "            c = 1\n",
    "            while i + 1 < len(s) and s[i] == s[i + 1]:\n",
    "                c += 1\n",
    "                i += 1\n",
    "            res.append(str(c) + s[i])\n",
    "            i += 1\n",
    "        return ''.join(res)\n",
    "    \n",
    "    s = '1'\n",
    "    for _ in range(1,n):\n",
    "        s = next_number(s)\n",
    "    return s\n",
    "\n",
    "l_s(3)"
   ]
  },
  {
   "cell_type": "code",
   "execution_count": 1,
   "metadata": {},
   "outputs": [
    {
     "data": {
      "text/plain": [
       "True"
      ]
     },
     "execution_count": 1,
     "metadata": {},
     "output_type": "execute_result"
    }
   ],
   "source": [
    "# Palindrome\n",
    "\n",
    "def is_palindrome(s):\n",
    "    return all(s[i] == s[~i] for i in range(len(s)//2))\n",
    "\n",
    "s = 'NijjiN'\n",
    "is_palindrome(s)"
   ]
  },
  {
   "cell_type": "code",
   "execution_count": 14,
   "metadata": {},
   "outputs": [
    {
     "name": "stdout",
     "output_type": "stream",
     "text": [
      "20 10\n"
     ]
    }
   ],
   "source": [
    "x =10\n",
    "y =20\n",
    "\n",
    "\n",
    "x, y = y, x\n",
    "print(x,y)"
   ]
  },
  {
   "cell_type": "code",
   "execution_count": 12,
   "metadata": {},
   "outputs": [
    {
     "data": {
      "text/plain": [
       "'1211'"
      ]
     },
     "execution_count": 12,
     "metadata": {},
     "output_type": "execute_result"
    }
   ],
   "source": [
    "def look_say(n):\n",
    "    \n",
    "    def get_next_number(k):\n",
    "        i , res = 0, []\n",
    "        while i < len(k):\n",
    "            count = 1\n",
    "            while i + 1 < len(k) and k[i] == k[i + 1]:\n",
    "                count += 1\n",
    "                i += 1\n",
    "            res.append(str(count) + k[i])\n",
    "            i += 1\n",
    "        return ''.join(res)\n",
    "                \n",
    "\n",
    "    \n",
    "    s = '1'\n",
    "    for _ in range(n):\n",
    "        s = get_next_number(s)\n",
    "    return s\n",
    "    \n",
    "    \n",
    "look_say(3)"
   ]
  },
  {
   "cell_type": "code",
   "execution_count": null,
   "metadata": {},
   "outputs": [],
   "source": []
  }
 ],
 "metadata": {
  "kernelspec": {
   "display_name": "Python 3",
   "language": "python",
   "name": "python3"
  },
  "language_info": {
   "codemirror_mode": {
    "name": "ipython",
    "version": 3
   },
   "file_extension": ".py",
   "mimetype": "text/x-python",
   "name": "python",
   "nbconvert_exporter": "python",
   "pygments_lexer": "ipython3",
   "version": "3.6.8"
  }
 },
 "nbformat": 4,
 "nbformat_minor": 2
}
