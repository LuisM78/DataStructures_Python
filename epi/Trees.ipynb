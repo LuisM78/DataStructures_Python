{
 "cells": [
  {
   "cell_type": "code",
   "execution_count": 3,
   "metadata": {},
   "outputs": [
    {
     "name": "stdout",
     "output_type": "stream",
     "text": [
      "Inorder traversal of the constructed tree is\n",
      "4 2 5 1 3 \n",
      "Inorder traversal of the mirror treeis \n",
      "3 1 5 2 4 "
     ]
    }
   ],
   "source": [
    "# Python3 program to convert a binary tree to its mirror \n",
    "\n",
    "\"\"\" Change a tree so that the roles of the  left and right pointers are swapped at every node. \n",
    "\n",
    "So the tree... \n",
    "\t\t4 \n",
    "\t\t/ \\ \n",
    "\t2 5 \n",
    "\t/ \\ \n",
    "\t1 3 \n",
    "\n",
    "is changed to... \n",
    "\t4 \n",
    "\t/ \\ \n",
    "\t5 2 \n",
    "\t/ \\ \n",
    "\t3 1 \n",
    "\"\"\"\n",
    "\n",
    "# Utility function to create a new tree node \n",
    "class newNode: \n",
    "    def __init__(self,data): \n",
    "        self.data = data \n",
    "        self.left = self.right = None\n",
    "        \n",
    "def mirror(node): \n",
    "    if (node == None): \n",
    "        return\n",
    "    else: \n",
    "        \"\"\" do the subtrees \"\"\"\n",
    "        mirror(node.left) \n",
    "        mirror(node.right) \n",
    "        \n",
    "        \"\"\" swap the pointers in this node \"\"\"\n",
    "        node.left, node.right = node.right, node.left\n",
    "\n",
    "def inOrder(node) : \n",
    "    if (node == None): \n",
    "        return\n",
    "    inOrder(node.left) \n",
    "    print(node.data, end = \" \") \n",
    "    inOrder(node.right) \n",
    "\n",
    "\n",
    "def main():\n",
    "    root = newNode(1) \n",
    "    root.left = newNode(2) \n",
    "    root.right = newNode(3) \n",
    "    root.left.left = newNode(4) \n",
    "    root.left.right = newNode(5) \n",
    "\n",
    "    print(\"Inorder traversal of the\", \"constructed tree is\") \n",
    "    inOrder(root) \n",
    "\n",
    "    \"\"\" Convert tree to its mirror \"\"\"\n",
    "    mirror(root) \n",
    "\n",
    "    print(\"\\nInorder traversal of\", \"the mirror treeis \") \n",
    "    inOrder(root) \n",
    "\n",
    "main()"
   ]
  },
  {
   "cell_type": "code",
   "execution_count": 7,
   "metadata": {},
   "outputs": [
    {
     "name": "stdout",
     "output_type": "stream",
     "text": [
      "4 2 5 1 3 Inorder \n",
      " None\n"
     ]
    },
    {
     "data": {
      "text/plain": [
       "[<__main__.newNode at 0x103da20f0>,\n",
       " <__main__.newNode at 0x103da2438>,\n",
       " <__main__.newNode at 0x103da2240>]"
      ]
     },
     "execution_count": 7,
     "metadata": {},
     "output_type": "execute_result"
    }
   ],
   "source": [
    "# Create List of leaves\n",
    "\n",
    "def create_list_leaves(tree):\n",
    "    if not tree:\n",
    "        return []\n",
    "    if not tree.left and not tree.right:\n",
    "        return [tree]\n",
    "    return create_list_leaves(tree.left) + create_list_leaves(tree.right)\n",
    "\n",
    "def inOrder(node) : \n",
    "    if (node == None): \n",
    "        return\n",
    "    inOrder(node.left) \n",
    "    print(node.data, end = \" \") \n",
    "    inOrder(node.right) \n",
    "\n",
    "def main():\n",
    "    root = newNode(1) \n",
    "    root.left = newNode(2) \n",
    "    root.right = newNode(3) \n",
    "    root.left.left = newNode(4) \n",
    "    root.left.right = newNode(5) \n",
    "    print('Inorder \\n', inOrder(root))   \n",
    "    return create_list_leaves(root)\n",
    "\n",
    "main()"
   ]
  },
  {
   "cell_type": "code",
   "execution_count": null,
   "metadata": {},
   "outputs": [],
   "source": []
  }
 ],
 "metadata": {
  "kernelspec": {
   "display_name": "Python 3",
   "language": "python",
   "name": "python3"
  },
  "language_info": {
   "codemirror_mode": {
    "name": "ipython",
    "version": 3
   },
   "file_extension": ".py",
   "mimetype": "text/x-python",
   "name": "python",
   "nbconvert_exporter": "python",
   "pygments_lexer": "ipython3",
   "version": "3.6.8"
  }
 },
 "nbformat": 4,
 "nbformat_minor": 2
}
